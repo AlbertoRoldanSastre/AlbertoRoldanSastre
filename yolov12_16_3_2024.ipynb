{
  "cells": [
    {
      "cell_type": "markdown",
      "source": [],
      "metadata": {
        "id": "9-YVJpJc9kXK"
      }
    },
    {
      "cell_type": "markdown",
      "source": [
        "# YOLOv12   trainning notebook\n"
      ],
      "metadata": {
        "id": "EFFQhFf69jdZ"
      }
    },
    {
      "cell_type": "markdown",
      "metadata": {
        "id": "cJb0UgVm1sWt"
      },
      "source": [
        "Lo primero a tener  en cuenta es que esto es para Colab.\n",
        "\n",
        "si quieres hacer el loca, tienes conda en segunda línea y cambias las instalaciones"
      ]
    },
    {
      "cell_type": "markdown",
      "source": [
        "# 0. Montar Drive"
      ],
      "metadata": {
        "id": "mZbZakNf91VN"
      }
    },
    {
      "cell_type": "code",
      "source": [
        "# 1. Montar Google Drive\n",
        "from google.colab import drive\n",
        "drive.mount('/content/drive')"
      ],
      "metadata": {
        "colab": {
          "base_uri": "https://localhost:8080/"
        },
        "id": "rZMQM7P74Mhn",
        "outputId": "27ae305f-e4f4-4bfb-86ff-75ca331c2654"
      },
      "execution_count": null,
      "outputs": [
        {
          "output_type": "stream",
          "name": "stdout",
          "text": [
            "Mounted at /content/drive\n"
          ]
        }
      ]
    },
    {
      "cell_type": "markdown",
      "source": [
        "# 1. Importar carpetas desde Google Drive (si no están en Rar)"
      ],
      "metadata": {
        "id": "jFCOv-3w4w-D"
      }
    },
    {
      "cell_type": "code",
      "source": [
        "# 2. Definir las carpetas en Google Drive que deseas importar\n",
        "# Por ejemplo, si tienes dos carpetas: una para imágenes y otra para etiquetas\n",
        "folders_to_copy = [\n",
        "    \"/content/drive/MyDrive/Fotos_elegidas\"  # Carpeta con imágenes\n",
        "   # \"/content/drive/MyDrive/Tmodel_rar_640_tiles_labels/fotos_elegidas/labels\"   # Carpeta con archivos txt\n",
        "]\n",
        "\n",
        "# 3. Definir un directorio de destino en Colab donde copiarás estas carpetas\n",
        "destination_base = \"/content/dataset_importado\"\n",
        "import os\n",
        "os.makedirs(destination_base, exist_ok=True)\n",
        "\n",
        "# 4. Copiar cada carpeta desde Drive al directorio local\n",
        "for folder in folders_to_copy:\n",
        "    folder_name = os.path.basename(folder)\n",
        "    dest = os.path.join(destination_base, folder_name)\n",
        "    # El comando cp -r copia recursivamente la carpeta\n",
        "    !cp -r \"{folder}\" \"{dest}\"\n",
        "\n",
        "# 5. Verificar que se copiaron las carpetas\n",
        "!ls -l \"{destination_base}\""
      ],
      "metadata": {
        "id": "79KafTeV4pBq"
      },
      "execution_count": null,
      "outputs": []
    },
    {
      "cell_type": "markdown",
      "source": [
        "# 2. Copiar el repositorio de YOLOv12 en nuestro Colab\n",
        "\n",
        "\n",
        "Con esto tenemos acceso a todos los archivos que contienen lo necesario para montar y correr YOLO12"
      ],
      "metadata": {
        "id": "CQZg0RmB9-bw"
      }
    },
    {
      "cell_type": "markdown",
      "source": [
        "# 2.1. Lo primero es incorporar este archivo que nos indica en el repositorio"
      ],
      "metadata": {
        "id": "BpFumaiF-Mao"
      }
    },
    {
      "cell_type": "code",
      "execution_count": null,
      "metadata": {
        "id": "ujxDAI081sWv"
      },
      "outputs": [],
      "source": [
        "!wget https://github.com/Dao-AILab/flash-attention/releases/download/v2.7.3/flash_attn-2.7.3+cu11torch2.2cxx11abiFALSE-cp311-cp311-linux_x86_64.whl\n"
      ]
    },
    {
      "cell_type": "markdown",
      "source": [
        "# 2.2. Lo segundo es clonar toda la información de Yolo v 12\n"
      ],
      "metadata": {
        "id": "f8ilDXBo-TPa"
      }
    },
    {
      "cell_type": "code",
      "execution_count": null,
      "metadata": {
        "id": "ThvMnH9h1sWv"
      },
      "outputs": [],
      "source": [
        "# Esto es un ejemplo; en Colab, generalmente no se crea un entorno conda, sino se instala en el entorno actual.\n",
        "# Si estuvieras en local, podrías hacer:\n",
        "# conda create -n yolov12 python=3.11\n",
        "# conda activate yolov12\n",
        "\n",
        "\n",
        "#como curro en Colab:\n",
        "!git clone https://github.com/sunsmarterjie/yolov12.git\n",
        "#!mv flash_attn-2.7.3+cu11torch2.2cxx11abiFALSE-cp311-cp311-linux_x86_64.whl yolov12/\n"
      ]
    },
    {
      "cell_type": "markdown",
      "source": [
        "# 2.3. Comrpobar que todo está, y con esto a partir de ahora nos colocamos en la carpeta yolov12 del directorio de colab para correr código"
      ],
      "metadata": {
        "id": "TPu0gK6N-ZCp"
      }
    },
    {
      "cell_type": "code",
      "source": [
        "%cd yolov12"
      ],
      "metadata": {
        "colab": {
          "base_uri": "https://localhost:8080/"
        },
        "id": "n4yqWclsBdhp",
        "outputId": "3a178db1-d961-4337-ca35-5fb5e099fc6e"
      },
      "execution_count": null,
      "outputs": [
        {
          "output_type": "stream",
          "name": "stdout",
          "text": [
            "/content/yolov12\n"
          ]
        }
      ]
    },
    {
      "cell_type": "markdown",
      "source": [
        "# 2.4. ATENCIÓN!\n",
        "\n",
        "Antes de ejecutar siguiente celda, mueve el archivo solo flash attention dentro de la carpeta de yolov12 descargada justo ahora\n",
        "\n",
        "Esto es por que en el código anterior te has colocado en content/yolov12, y para que todo corra smooth, el primer archivo descargado que aparecerá a la izquierda suelto, debe estar dentro de la carpeta de yolo12"
      ],
      "metadata": {
        "id": "r5x17MrF7wZu"
      }
    },
    {
      "cell_type": "code",
      "source": [
        "!pip install -r /content/yolov12/requirements.txt\n"
      ],
      "metadata": {
        "id": "5KxIBstxBOLS"
      },
      "execution_count": null,
      "outputs": []
    },
    {
      "cell_type": "markdown",
      "source": [
        "# 2.5 Volver a carpeta de YOLOV12 e instalar"
      ],
      "metadata": {
        "id": "2ASoOMJh-vk1"
      }
    },
    {
      "cell_type": "code",
      "source": [
        "%cd /content/yolov12\n",
        "!pip install -e .\n"
      ],
      "metadata": {
        "id": "anJO9PysCTDD"
      },
      "execution_count": null,
      "outputs": []
    },
    {
      "cell_type": "markdown",
      "source": [
        "# 3. Importar Ultralytics y nombrar el modelo"
      ],
      "metadata": {
        "id": "I047zCCM_CSf"
      }
    },
    {
      "cell_type": "code",
      "source": [
        "# 0. Ejecutar el entrenamiento de YOLOv8\n",
        "from ultralytics import YOLO\n",
        "\n",
        "# 1. Crear el modelo usando una configuración de YOLOv12.\n",
        "# 'yolov12n.yaml' es el archivo de configuración que define la arquitectura,\n",
        "# hiperparámetros, y otros detalles específicos para la versión \"nano\" de YOLOv12.\n",
        "model = YOLO(\"yolov12s.yaml\")\n",
        "\n",
        "\n",
        "\n"
      ],
      "metadata": {
        "id": "vZHG15sW8Y-g"
      },
      "execution_count": null,
      "outputs": []
    },
    {
      "cell_type": "markdown",
      "source": [
        "# 4. Importar el data.yaml con los directorios adecuados"
      ],
      "metadata": {
        "id": "HlMOgZxU_Hrn"
      }
    },
    {
      "cell_type": "code",
      "source": [
        "\n",
        "################################IMPORTAR EL DAYA.YAML UNA VEZ TIENES LA ESTRUCTURA  ####################################################\n",
        "####################################################################################\n",
        "# Copiar el archivo data.yaml desde Drive a la ruta deseada en Colab\n",
        "!cp \"/content/drive/MyDrive/model_rar_640_tiles_labels/Fotos_elegidas/data.yaml\" \"/content/dataset_importado_bueno/Fotos_elegidas/data.yaml\"\n",
        "\n",
        "# Verificar que se copió correctamente\n",
        "!ls -l \"/content/dataset\""
      ],
      "metadata": {
        "id": "she6vBuhFWQM"
      },
      "execution_count": null,
      "outputs": []
    },
    {
      "cell_type": "markdown",
      "source": [
        "# 5. Entrenar el modelo\n",
        "\n",
        "Ajustar parámetros a como tú lo necesites. los de abajo son pasos de augmentation"
      ],
      "metadata": {
        "id": "Swe0ta3d_LUF"
      }
    },
    {
      "cell_type": "code",
      "execution_count": null,
      "metadata": {
        "id": "daWahhcq1sWw"
      },
      "outputs": [],
      "source": [
        "\n",
        "\n",
        "# 2. Entrenar el modelo.\n",
        "results = model.train(\n",
        "  data='/content/dataset_importado/Fotos_elegidas/data.yaml',   # Archivo de configuración del dataset (por ejemplo, COCO).\n",
        "  epochs=100,                                             # Número de épocas: el modelo recorrerá todo el dataset 600 veces.\n",
        "  batch=16,                                                 # Tamaño de lote: 256 imágenes por cada batch.\n",
        "  imgsz=640,                                              # Tamaño de imagen: se reescala cada imagen a 640x640 píxeles.\n",
        "  scale=0.5,          # S:0.9; M:0.9; L:0.9; X:0.9        # Factor de escalado en algunas transformaciones de augmentación.\n",
        "                                                            # (El comentario sugiere valores recomendados para diferentes tamaños: S, M, L, X).\n",
        "  mosaic=1.0,                                               # Activación del mosaic augmentation (completo si es 1.0).\n",
        "  mixup=0.0,         # S:0.05; M:0.15; L:0.15; X:0.2       # mixup augmentation está desactivado (0.0); otros valores podrían ser pequeños (por ejemplo, 0.05 para S).\n",
        "  copy_paste=0.1,     # S:0.15; M:0.4; L:0.5; X:0.6         # Copy-paste augmentation se activa con una probabilidad de 0.1.\n",
        "  #device=\"0,1,2,3\",                                        # Usar GPUs con IDs 0, 1, 2 y 3 para el entrenamiento.\n",
        "  resume=True\n",
        ")\n",
        "\n",
        " scale=0.5,  # S:0.9; M:0.9; L:0.9; X:0.9\n",
        "  mosaic=1.0,\n",
        "  mixup=0.0,  # S:0.05; M:0.15; L:0.15; X:0.2\n",
        "  copy_paste=0.1,  # S:0.15; M:0.4; L:0.5; X:0.6\n",
        "\n",
        "\n",
        "\n"
      ]
    },
    {
      "cell_type": "markdown",
      "source": [
        "data='coco.yaml': Indica que se usará un archivo de configuración de dataset (por ejemplo, con formato COCO) que define las rutas de las imágenes de entrenamiento, validación, el número de clases y los nombres. epochs=600: El modelo se entrenará durante 600 épocas (pasadas completas por el dataset). batch=256: Se procesan 256 imágenes a la vez en cada batch. imgsz=640: Todas las imágenes se redimensionan a 640×640 píxeles. scale=0.5: Este parámetro, junto con otros de augmentación, puede controlar la magnitud de ciertas transformaciones. mosaic=1.0: Habilita el mosaic augmentation (una técnica que combina partes de diferentes imágenes para formar una sola imagen de entrenamiento), muy utilizada en YOLO. mixup=0.0: Indica que no se utiliza mixup augmentation, aunque en otros modelos se podría activar con valores pequeños. copy_paste=0.1: Activa copy-paste augmentation con una probabilidad de 0.1 (esta técnica inserta partes de objetos de una imagen en otra). device=\"0,1,2,3\": Especifica que se entrenará usando las GPUs con IDs 0, 1, 2 y 3. (En Colab normalmente se tiene una sola GPU, pero en otros entornos con múltiples GPUs esto se puede configurar)."
      ],
      "metadata": {
        "id": "TX0XNEHx_akE"
      }
    },
    {
      "cell_type": "markdown",
      "source": [
        "# 6. Seguir proceso de entrenamiento"
      ],
      "metadata": {
        "id": "B95MQiLa_T2g"
      }
    },
    {
      "cell_type": "code",
      "source": [
        "%load_ext tensorboard\n",
        "%tensorboard --logdir /content/yolo12_resultados1"
      ],
      "metadata": {
        "id": "ib1kaAT6MCkK"
      },
      "execution_count": null,
      "outputs": []
    },
    {
      "cell_type": "markdown",
      "source": [
        "# 7. Guardar resultados del modelo\n",
        "\n",
        "7.1 Para guardar los resultados!(moverlos de donde se guardan a donde quiero)\n"
      ],
      "metadata": {
        "id": "7PM5fCJRNLan"
      }
    },
    {
      "cell_type": "code",
      "source": [
        "# Crear la carpeta de destino\n",
        "\n",
        "# !mkdir -p /content/mi_carpeta_resultados\n",
        "!mkdir -p /content/yolo12_resultados1\n",
        "\n",
        "# Copiar la carpeta de resultados (ajusta la ruta de origen según dónde se guarden tus resultados)\n",
        "\n",
        "#normalmente se guardan en:\n",
        "#/content/yolov12/runs/detect\n",
        "#el código que quiero para copiarlos a la carpeta que quiero es:\n",
        "#!cp -r /content/runs/detect/mi_experimento/ /content/mi_carpeta_resultados/\n",
        "\n",
        "#cp -r /content/yolov12/runs/detect /content/yolo12_resultados1\n",
        "\n",
        "\n",
        "##o si quiero moverlos en vez de copiarlos:\n",
        "\n",
        "#!mv /content/runs/detect/mi_experimento/ /content/mi_carpeta_resultados/\n",
        "!mv /content/yolov12/runs/detect /content/yolo12_resultados1\n",
        "\n",
        "\n",
        "# Listar la carpeta de destino para verificar la copia\n",
        "!ls -lh /content/yolo12_resultados1"
      ],
      "metadata": {
        "colab": {
          "base_uri": "https://localhost:8080/"
        },
        "id": "pl2FNEeYNKuf",
        "outputId": "fc282311-39fe-403b-abb1-2c66c6ef1cd1"
      },
      "execution_count": null,
      "outputs": [
        {
          "output_type": "stream",
          "name": "stdout",
          "text": [
            "total 4.0K\n",
            "drwxr-xr-x 6 root root 4.0K Mar  6 16:02 detect\n"
          ]
        }
      ]
    },
    {
      "cell_type": "markdown",
      "source": [
        "7.2 Guardar resultados a Drive"
      ],
      "metadata": {
        "id": "4puZ7CheQoJv"
      }
    },
    {
      "cell_type": "code",
      "source": [
        "# 10. Guardar los resultados del experimento\n",
        "\n",
        "# Define la carpeta de destino en Google Drive\n",
        "dest_folder = \"/content/drive/MyDrive/Fotos_elegidas/resultados_yolo12\"\n",
        "!mkdir -p \"{dest_folder}\"                                                           #El comando mkdir -p crea esa carpeta (y cualquier subcarpeta necesaria) si no existe.\n",
        "\n",
        "# Copia la carpeta de resultados (ajusta el nombre según el que se haya generado)\n",
        "!cp -r /content/yolo12_resultados1 \"{dest_folder}/\"   #copiar los reultados del modelo en drive\n",
        "\n",
        "\n",
        "# Comprueba que se copiaron los archivos (opcional)\n",
        "!ls \"{dest_folder}\"                                                                 #verifica que los archivos se han copiado correctamente\n",
        "\n",
        "# Opcional: comprimir la carpeta de resultados para descargarla a tu PC\n",
        "#!zip -r /content/yolo12_resultados1.zip \"{dest_folder}/focas_prueba_4_images\"   #Aquí se comprime la carpeta que acabas de copiar en Drive (la subcarpeta focas_training_prueba1_640_24_02_25 dentro de foquitas) en un archivo ZIP llamado foquitas.zip que se guarda en /content (la carpeta principal del entorno de Colab).\n",
        "\n",
        "# Descargar el archivo ZIP a tu PC\n",
        "#from google.colab import files\n",
        "#files.download('/content/foquitas.zip')"
      ],
      "metadata": {
        "colab": {
          "base_uri": "https://localhost:8080/"
        },
        "id": "2bhKLvEOQnRu",
        "outputId": "01ca3a73-a7e5-4b01-873e-b89f887a5e5a"
      },
      "execution_count": null,
      "outputs": [
        {
          "output_type": "stream",
          "name": "stdout",
          "text": [
            "yolo12_resultados1\n"
          ]
        }
      ]
    },
    {
      "cell_type": "markdown",
      "metadata": {
        "id": "9TpLOBiD1sWw"
      },
      "source": [
        "# 8. Validation\n",
        "\n",
        "Ajustar IOU y confianza"
      ]
    },
    {
      "cell_type": "code",
      "source": [
        "# 3. Evaluar el modelo en el conjunto de validación.\n",
        "\n",
        "model.val(conf=0.25, iou=0.45)  #para cambiar dichos parametros en la comparación y así sacar datos como recall y precision\n",
        "\n",
        "metrics = model.val()\n",
        "\n",
        "\n"
      ],
      "metadata": {
        "id": "NbNmF7DK3wNq"
      },
      "execution_count": null,
      "outputs": []
    },
    {
      "cell_type": "markdown",
      "source": [
        "9. Validación de su modelo inicial para ver si funciona contigo\n",
        "\n",
        "esto es una validación si lo que quieres es probar unos archivos en unmodelo ya entrenado o en el modelo entrenado de ultralytics, no para tu vlidación"
      ],
      "metadata": {
        "id": "MbWyGlQOOety"
      }
    },
    {
      "cell_type": "code",
      "source": [
        "from ultralytics import YOLO\n",
        "\n",
        "model = YOLO('yolov12{n/s/m/l/x}.pt')\n",
        "model.val(data='coco.yaml', save_json=True)"
      ],
      "metadata": {
        "id": "8gbaCnuvOcLN"
      },
      "execution_count": null,
      "outputs": []
    },
    {
      "cell_type": "markdown",
      "source": [
        "inferencia de la validación del modelo"
      ],
      "metadata": {
        "id": "UGwAbcer_3Yr"
      }
    },
    {
      "cell_type": "code",
      "source": [
        "# 4. Realizar inferencia en una imagen individual y mostrar el resultado.\n",
        "results = model(\"path/to/image.jpg\")\n",
        "results[0].show()"
      ],
      "metadata": {
        "id": "zg7jGIaeOXTl"
      },
      "execution_count": null,
      "outputs": []
    },
    {
      "cell_type": "markdown",
      "metadata": {
        "id": "zMN3i2bh1sWx"
      },
      "source": [
        "# 10. Inferencia\n",
        "\n",
        "Es la inferencia del modelo entrenado"
      ]
    },
    {
      "cell_type": "code",
      "execution_count": null,
      "metadata": {
        "id": "2wbuCKKB1sWx"
      },
      "outputs": [],
      "source": [
        "from ultralytics import YOLO\n",
        "\n",
        "model = YOLO('yolov12{n/s/m/l/x}.pt')\n",
        "model.predict()"
      ]
    },
    {
      "cell_type": "markdown",
      "metadata": {
        "id": "PQmGp6zK1sWx"
      },
      "source": [
        "# 11. Export\n",
        "\n",
        "Exportar el modelo en el formato adecuado para usarlo luego"
      ]
    },
    {
      "cell_type": "code",
      "execution_count": null,
      "metadata": {
        "id": "7cD5tEmG1sWx"
      },
      "outputs": [],
      "source": [
        "from ultralytics import YOLO\n",
        "\n",
        "model = YOLO('yolov12{n/s/m/l/x}.pt')\n",
        "model.export(format=\"engine\", half=True)  # or format=\"onnx\""
      ]
    }
  ],
  "metadata": {
    "language_info": {
      "name": "python"
    },
    "colab": {
      "provenance": [],
      "machine_shape": "hm"
    },
    "kernelspec": {
      "name": "python3",
      "display_name": "Python 3"
    }
  },
  "nbformat": 4,
  "nbformat_minor": 0
}