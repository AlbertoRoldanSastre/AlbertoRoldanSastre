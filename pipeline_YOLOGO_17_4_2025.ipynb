{
  "nbformat": 4,
  "nbformat_minor": 0,
  "metadata": {
    "colab": {
      "provenance": [],
      "machine_shape": "hm",
      "gpuType": "A100",
      "authorship_tag": "ABX9TyPa8eJ3NaGdg5uSQD1ZGu88",
      "include_colab_link": true
    },
    "kernelspec": {
      "name": "python3",
      "display_name": "Python 3"
    },
    "language_info": {
      "name": "python"
    },
    "accelerator": "GPU"
  },
  "cells": [
    {
      "cell_type": "markdown",
      "metadata": {
        "id": "view-in-github",
        "colab_type": "text"
      },
      "source": [
        "<a href=\"https://colab.research.google.com/github/AlbertoRoldanSastre/AlbertoRoldanSastre/blob/main/pipeline_YOLOGO_17_4_2025.ipynb\" target=\"_parent\"><img src=\"https://colab.research.google.com/assets/colab-badge.svg\" alt=\"Open In Colab\"/></a>"
      ]
    },
    {
      "cell_type": "markdown",
      "source": [
        "PIPELINE COMPLETA CHATGPT\n",
        "\n"
      ],
      "metadata": {
        "id": "SEqxe9Oh3C2K"
      }
    },
    {
      "cell_type": "code",
      "source": [
        "from google.colab import drive\n",
        "drive.mount('/content/drive')"
      ],
      "metadata": {
        "colab": {
          "base_uri": "https://localhost:8080/"
        },
        "id": "bN8ZbXoe4Inr",
        "outputId": "a7a655b0-350d-48f6-f8f3-b5b96a9a14c0"
      },
      "execution_count": 2,
      "outputs": [
        {
          "output_type": "stream",
          "name": "stdout",
          "text": [
            "Mounted at /content/drive\n"
          ]
        }
      ]
    },
    {
      "cell_type": "code",
      "source": [
        "################################IMPORTAR EL dataset entero a colab UNA VEZ TIENES LA ESTRUCTURA  ####################################################\n",
        "####################################################################################\n",
        "\n",
        "\n",
        "# Copiar el archivo data.yaml desde Drive a la ruta deseada en Colab\n",
        "!cp -r \"/content/drive/MyDrive/AWS.v72_seals100i.yolov8\" \"/content/dataset/\"\n",
        "\n",
        "# Verificar que se copió correctamente\n",
        "!ls -l \"/content/dataset\""
      ],
      "metadata": {
        "colab": {
          "base_uri": "https://localhost:8080/"
        },
        "id": "vovQty0AK8Gg",
        "outputId": "ceb45005-77df-4fba-b2ca-d72e3bde7a76"
      },
      "execution_count": 3,
      "outputs": [
        {
          "output_type": "stream",
          "name": "stdout",
          "text": [
            "total 36\n",
            "-rw------- 1 root root  249 Apr 17 11:53 data.yaml\n",
            "-rw------- 1 root root  127 Apr 17 11:53 README.dataset.txt\n",
            "-rw------- 1 root root  948 Apr 17 11:53 README.roboflow.txt\n",
            "drwx------ 4 root root 4096 Apr 17 12:03 resulta_1vs_5_lr0,0001\n",
            "drwx------ 4 root root 4096 Apr 17 11:59 resulta_1vs_5_lr0,0005\n",
            "drwx------ 4 root root 4096 Apr 17 12:04 resulta_1vs_5_lr0,001\n",
            "drwx------ 4 root root 4096 Apr 17 11:54 test\n",
            "drwx------ 4 root root 4096 Apr 17 11:56 train\n",
            "drwx------ 4 root root 4096 Apr 17 11:58 valid\n"
          ]
        }
      ]
    },
    {
      "cell_type": "code",
      "source": [
        "!pip install opencv-python-headless albumentations"
      ],
      "metadata": {
        "colab": {
          "base_uri": "https://localhost:8080/"
        },
        "id": "dOgX0jeE4JGC",
        "outputId": "ab76ceb0-c6b7-4972-b9a3-727c6f616cd2"
      },
      "execution_count": 4,
      "outputs": [
        {
          "output_type": "stream",
          "name": "stdout",
          "text": [
            "Requirement already satisfied: opencv-python-headless in /usr/local/lib/python3.11/dist-packages (4.11.0.86)\n",
            "Requirement already satisfied: albumentations in /usr/local/lib/python3.11/dist-packages (2.0.5)\n",
            "Requirement already satisfied: numpy>=1.21.2 in /usr/local/lib/python3.11/dist-packages (from opencv-python-headless) (2.0.2)\n",
            "Requirement already satisfied: scipy>=1.10.0 in /usr/local/lib/python3.11/dist-packages (from albumentations) (1.14.1)\n",
            "Requirement already satisfied: PyYAML in /usr/local/lib/python3.11/dist-packages (from albumentations) (6.0.2)\n",
            "Requirement already satisfied: pydantic>=2.9.2 in /usr/local/lib/python3.11/dist-packages (from albumentations) (2.11.3)\n",
            "Requirement already satisfied: albucore==0.0.23 in /usr/local/lib/python3.11/dist-packages (from albumentations) (0.0.23)\n",
            "Requirement already satisfied: stringzilla>=3.10.4 in /usr/local/lib/python3.11/dist-packages (from albucore==0.0.23->albumentations) (3.12.3)\n",
            "Requirement already satisfied: simsimd>=5.9.2 in /usr/local/lib/python3.11/dist-packages (from albucore==0.0.23->albumentations) (6.2.1)\n",
            "Requirement already satisfied: annotated-types>=0.6.0 in /usr/local/lib/python3.11/dist-packages (from pydantic>=2.9.2->albumentations) (0.7.0)\n",
            "Requirement already satisfied: pydantic-core==2.33.1 in /usr/local/lib/python3.11/dist-packages (from pydantic>=2.9.2->albumentations) (2.33.1)\n",
            "Requirement already satisfied: typing-extensions>=4.12.2 in /usr/local/lib/python3.11/dist-packages (from pydantic>=2.9.2->albumentations) (4.13.1)\n",
            "Requirement already satisfied: typing-inspection>=0.4.0 in /usr/local/lib/python3.11/dist-packages (from pydantic>=2.9.2->albumentations) (0.4.0)\n"
          ]
        }
      ]
    },
    {
      "cell_type": "code",
      "execution_count": 5,
      "metadata": {
        "colab": {
          "base_uri": "https://localhost:8080/"
        },
        "id": "ReYuCqVt3CWk",
        "outputId": "b944349d-7adf-40b1-f42a-96f1a05ec541"
      },
      "outputs": [
        {
          "output_type": "stream",
          "name": "stdout",
          "text": [
            "\n",
            "🔄 Convirtiendo etiquetas de TRAIN...\n",
            "✅ [TRAIN] Conversión de etiquetas completada.\n",
            "\n",
            "📦 Procesando tiling para TRAIN...\n",
            "✅ TRAIN: 280 tiles positivos, 30728 negativos\n",
            "\n",
            "🔄 Convirtiendo etiquetas de VALID...\n",
            "✅ [VALID] Conversión de etiquetas completada.\n",
            "\n",
            "📦 Procesando tiling para VALID...\n",
            "✅ VALID: 129 tiles positivos, 6879 negativos\n",
            "\n",
            "🔄 Convirtiendo etiquetas de TEST...\n",
            "✅ [TEST] Conversión de etiquetas completada.\n",
            "\n",
            "📦 Procesando tiling para TEST...\n",
            "✅ TEST: 82 tiles positivos, 6926 negativos\n",
            "Error en DSC04376_JPG-X-Amz-Algorithm-AWS4-HMAC-SHA256.rf.534a7460531f560c2bfdea99e2b7df6b_tile_37.jpg: Expected y_min for bbox [ 1.495630e-01 -5.001202e-07  1.897190e-01  2.646850e-02  0.000000e+00] to be in the range [0.0, 1.0], got -5.00120222568512e-07.\n",
            "Error en DSC04376_JPG-X-Amz-Algorithm-AWS4-HMAC-SHA256.rf.534a7460531f560c2bfdea99e2b7df6b_tile_37.jpg: Expected y_min for bbox [ 1.495630e-01 -5.001202e-07  1.897190e-01  2.646850e-02  0.000000e+00] to be in the range [0.0, 1.0], got -5.00120222568512e-07.\n",
            "Error en DSC04376_JPG-X-Amz-Algorithm-AWS4-HMAC-SHA256.rf.534a7460531f560c2bfdea99e2b7df6b_tile_37.jpg: Expected y_min for bbox [ 1.495630e-01 -5.001202e-07  1.897190e-01  2.646850e-02  0.000000e+00] to be in the range [0.0, 1.0], got -5.00120222568512e-07.\n",
            "Error en DSC04376_JPG-X-Amz-Algorithm-AWS4-HMAC-SHA256.rf.534a7460531f560c2bfdea99e2b7df6b_tile_37.jpg: Expected y_min for bbox [ 1.495630e-01 -5.001202e-07  1.897190e-01  2.646850e-02  0.000000e+00] to be in the range [0.0, 1.0], got -5.00120222568512e-07.\n",
            "Error en DSC04376_JPG-X-Amz-Algorithm-AWS4-HMAC-SHA256.rf.534a7460531f560c2bfdea99e2b7df6b_tile_37.jpg: Expected y_min for bbox [ 1.495630e-01 -5.001202e-07  1.897190e-01  2.646850e-02  0.000000e+00] to be in the range [0.0, 1.0], got -5.00120222568512e-07.\n",
            "Error en DSC04376_JPG-X-Amz-Algorithm-AWS4-HMAC-SHA256.rf.534a7460531f560c2bfdea99e2b7df6b_tile_37.jpg: Expected y_min for bbox [ 1.495630e-01 -5.001202e-07  1.897190e-01  2.646850e-02  0.000000e+00] to be in the range [0.0, 1.0], got -5.00120222568512e-07.\n",
            "Error en DSC04376_JPG-X-Amz-Algorithm-AWS4-HMAC-SHA256.rf.534a7460531f560c2bfdea99e2b7df6b_tile_36.jpg: Expected y_min for bbox [ 9.4956297e-01 -5.0012022e-07  9.8971897e-01  2.6468500e-02\n",
            "  0.0000000e+00] to be in the range [0.0, 1.0], got -5.00120222568512e-07.\n",
            "Error en DSC04376_JPG-X-Amz-Algorithm-AWS4-HMAC-SHA256.rf.534a7460531f560c2bfdea99e2b7df6b_tile_36.jpg: Expected y_min for bbox [ 9.4956297e-01 -5.0012022e-07  9.8971897e-01  2.6468500e-02\n",
            "  0.0000000e+00] to be in the range [0.0, 1.0], got -5.00120222568512e-07.\n",
            "Error en DSC04376_JPG-X-Amz-Algorithm-AWS4-HMAC-SHA256.rf.534a7460531f560c2bfdea99e2b7df6b_tile_36.jpg: Expected y_min for bbox [ 9.4956297e-01 -5.0012022e-07  9.8971897e-01  2.6468500e-02\n",
            "  0.0000000e+00] to be in the range [0.0, 1.0], got -5.00120222568512e-07.\n",
            "Error en DSC04376_JPG-X-Amz-Algorithm-AWS4-HMAC-SHA256.rf.534a7460531f560c2bfdea99e2b7df6b_tile_36.jpg: Expected y_min for bbox [ 9.4956297e-01 -5.0012022e-07  9.8971897e-01  2.6468500e-02\n",
            "  0.0000000e+00] to be in the range [0.0, 1.0], got -5.00120222568512e-07.\n",
            "Error en DSC04376_JPG-X-Amz-Algorithm-AWS4-HMAC-SHA256.rf.534a7460531f560c2bfdea99e2b7df6b_tile_36.jpg: Expected y_min for bbox [ 9.4956297e-01 -5.0012022e-07  9.8971897e-01  2.6468500e-02\n",
            "  0.0000000e+00] to be in the range [0.0, 1.0], got -5.00120222568512e-07.\n",
            "✅ Augmentación completada para positivos de TRAIN.\n",
            "✅ TRAIN: Negativos divididos en 1ofX y resto.\n",
            "✅ VALID: Negativos divididos en 1ofX y resto.\n",
            "✅ TEST: Negativos divididos en 1ofX y resto.\n",
            "\n",
            "📊 RESUMEN FINAL DE TILES\n",
            "\n",
            "📁 TRAIN\n",
            "Positivos originales: 280 imágenes | 280 etiquetas\n",
            "Positivos augmentados: 1665 imágenes | 1665 etiquetas\n",
            "Neg 1ofX            : 8325 imágenes | 8325 etiquetas\n",
            "Neg resto           : 22403 imágenes | 22403 etiquetas\n",
            "\n",
            "📁 VALID\n",
            "Positivos           : 129 imágenes | 129 etiquetas\n",
            "Neg 1ofX            : 645 imágenes | 645 etiquetas\n",
            "Neg resto           : 6234 imágenes | 6234 etiquetas\n",
            "\n",
            "📁 TEST\n",
            "Positivos           : 82 imágenes | 82 etiquetas\n",
            "Neg 1ofX            : 410 imágenes | 410 etiquetas\n",
            "Neg resto           : 6516 imágenes | 6516 etiquetas\n",
            "\n",
            "📦 Iniciando export final para entrenamiento YOLOv8...\n",
            "\n",
            "🔄 Procesando TRAIN...\n",
            "✅ TRAIN: 9990 imágenes, 9990 labels exportados.\n",
            "🔄 Procesando VALID...\n",
            "✅ VALID: 774 imágenes, 774 labels exportados.\n",
            "🔄 Procesando TEST...\n",
            "✅ TEST: 492 imágenes, 492 labels exportados.\n",
            "\n",
            "🚀 Export final completo en: /content/export_yolov8v72_1_vs_5\n",
            "\n",
            "📊 RE-CONTANDO DESPUÉS DE EXPORTACIÓN\n",
            "\n",
            "📦 EXPORT FINAL PARA YOLOv8\n",
            "TRAIN  : 9990 imágenes | 9990 etiquetas\n",
            "VALID  : 774 imágenes | 774 etiquetas\n",
            "TEST   : 492 imágenes | 492 etiquetas\n",
            "✅ 'data.yaml' copiado a: /content/export_yolov8v72_1_vs_5/data.yaml\n",
            "\n",
            "📦 RESUMEN GLOBAL DE TILES DESCARTADOS (RECALCULADO)\n",
            "==================================================\n",
            "\n",
            "🧮 TOTAL GLOBAL DE TILES DESCARTADOS: 0\n"
          ]
        }
      ],
      "source": [
        "# full_pipeline_colab.py (versión todo-en-uno, sin imports internos)\n",
        "\n",
        "\n",
        "import os\n",
        "import cv2\n",
        "import albumentations as A\n",
        "import random\n",
        "import shutil\n",
        "import numpy as np\n",
        "import torch  # YOLO de Ultralytics utiliza PyTorch internamente\n",
        "\n",
        "# Fijar la semilla para reproducibilidad\n",
        "SEED = 42  # Puedes cambiar este valor a cualquier entero\n",
        "os.environ[\"PYTHONHASHSEED\"] = str(SEED)\n",
        "random.seed(SEED)\n",
        "np.random.seed(SEED)\n",
        "torch.manual_seed(SEED)\n",
        "if torch.cuda.is_available():\n",
        "    torch.cuda.manual_seed_all(SEED)\n",
        "\n",
        "# ------------------------------------\n",
        "# CONFIGURACIÓN (editable)\n",
        "# ------------------------------------\n",
        "BASE_DATASET_DIR = \"/content/dataset\"\n",
        "EXPORT_DIR = \"/content/export_yolov8v72_1_vs_5\"  # Carpeta destino local (Colab)\n",
        "IMAGE_EXTENSIONS = (\".jpg\", \".jpeg\", \".png\")\n",
        "# Parámetros para tiling\n",
        "\n",
        "TILE_SIZE = 640               # Por ejemplo, tamaño deseado de cada tile\n",
        "OVERLAP = 128                 # Overlap en píxeles entre tiles\n",
        "\n",
        "\n",
        "# Parámetros para el splitting de negativos y augmentación:\n",
        "\n",
        "NEGATIVE_MULTIPLIER = 5  # si pones : 6--> 1 positiva : 5 negativas (ratio 1/6 total) # Ej: 1 positiva : 10 negativas\n",
        "AUGMENTATIONS_MIN = 4\n",
        "AUGMENTATIONS_MAX = 6\n",
        "\n",
        "\n",
        "# Rutas para el data.yaml:\n",
        "\n",
        "# Ruta al archivo data.yaml original (de entrada)\n",
        "INPUT_YAML_PATH = os.path.join(BASE_DATASET_DIR, \"data.yaml\")              #puede ser : (BASE_DATASET_DIR, \"ready\", \"data.yaml\")  si tienes el data yaml dentro de la carpeta base, luego carpeta ready y luedo dta yaml\n",
        "\n",
        "# Ruta destino dentro del export final\n",
        "EXPORT_YAML_PATH = os.path.join(EXPORT_DIR, \"data.yaml\")\n",
        "\n",
        "# ------------------------------------\n",
        "# CONTROL DE LIMPIEZA INTERMEDIA\n",
        "# ------------------------------------\n",
        "CLEAN_INTERMEDIATE = False  # Elimina carpetas intermedias después del split\n",
        "\n",
        "\n",
        "\n",
        "\n",
        "# ------------------------------------\n",
        "# 1. CONVERTIR LABELS: Polígono → Bounding Box\n",
        "# ------------------------------------\n",
        "# ------------------------------------\n",
        "def polygon_to_bbox(coords):\n",
        "    \"\"\"\n",
        "    Convierte una lista de coordenadas de un polígono [x1, y1, x2, y2, ..., xN, yN]\n",
        "    a una bounding box en formato YOLO: (x_center, y_center, width, height).\n",
        "    Si la lista de coordenadas está vacía o no tiene un número par de elementos, retorna None.\n",
        "    \"\"\"\n",
        "    if not coords:\n",
        "        print(\"Warning: Lista de coordenadas vacía.\")\n",
        "        return None\n",
        "    if len(coords) % 2 != 0:\n",
        "        print(\"Warning: La lista de coordenadas no tiene un número par de elementos.\")\n",
        "        return None\n",
        "    xs = coords[0::2]\n",
        "    ys = coords[1::2]\n",
        "    if not xs or not ys:\n",
        "        print(\"Warning: No se pudieron extraer coordenadas X o Y.\")\n",
        "        return None\n",
        "    x_min, x_max = min(xs), max(xs)\n",
        "    y_min, y_max = min(ys), max(ys)\n",
        "    return (x_min + x_max) / 2, (y_min + y_max) / 2, x_max - x_min, y_max - y_min\n",
        "\n",
        "def process_label_file(src_file, dst_file):\n",
        "    with open(src_file, 'r') as f_in:\n",
        "        lines = f_in.readlines()\n",
        "    new_lines = []\n",
        "    for line in lines:\n",
        "        parts = line.strip().split()\n",
        "        if not parts:\n",
        "            continue\n",
        "        cls = parts[0]\n",
        "        try:\n",
        "            coords = list(map(float, parts[1:]))\n",
        "        except Exception as e:\n",
        "            print(f\"Error en {src_file}: {e}\")\n",
        "            continue\n",
        "        if len(coords) == 4:\n",
        "            # Etiqueta ya en formato bbox (x_center, y_center, w, h)\n",
        "            new_line = f\"{cls} {' '.join(f'{c:.16f}' for c in coords)}\"\n",
        "        else:\n",
        "            bbox = polygon_to_bbox(coords)\n",
        "            if bbox is None:\n",
        "                print(f\"Warning: No se pudo convertir el polígono en {src_file}. Línea saltada.\")\n",
        "                continue\n",
        "            x_center, y_center, width, height = bbox\n",
        "            new_line = f\"{cls} {x_center:.16f} {y_center:.16f} {width:.16f} {height:.16f}\"\n",
        "        new_lines.append(new_line)\n",
        "    with open(dst_file, 'w') as f_out:\n",
        "        for new_line in new_lines:\n",
        "            f_out.write(new_line + \"\\n\")\n",
        "\n",
        "def process_all_labels_for_set(set_name):\n",
        "    print(f\"\\n🔄 Convirtiendo etiquetas de {set_name.upper()}...\")\n",
        "    src_dir = os.path.join(BASE_DATASET_DIR, set_name, \"labels\")\n",
        "    dst_dir = os.path.join(BASE_DATASET_DIR, set_name, \"bblabels\")\n",
        "    os.makedirs(dst_dir, exist_ok=True)\n",
        "    for filename in os.listdir(src_dir):\n",
        "        if filename.endswith(\".txt\"):\n",
        "            process_label_file(os.path.join(src_dir, filename), os.path.join(dst_dir, filename))\n",
        "    print(f\"✅ [{set_name.upper()}] Conversión de etiquetas completada.\")\n",
        "\n",
        "# ------------------------------------\n",
        "# 2. TILING y Separación Positivos/Negativos\n",
        "# ------------------------------------\n",
        "def load_annotations(label_path, image_width, image_height):\n",
        "    annotations = []\n",
        "    if not os.path.exists(label_path):\n",
        "        return annotations\n",
        "    with open(label_path, 'r') as f:\n",
        "        for line in f:\n",
        "            parts = line.strip().split()\n",
        "            if not parts:\n",
        "                continue\n",
        "            cls = parts[0]\n",
        "            coords = list(map(float, parts[1:]))\n",
        "            if len(coords) == 4:\n",
        "                # Se asume formato YOLO: x_center, y_center, w, h (normalizado)\n",
        "                x_center, y_center, w, h = coords\n",
        "                x1 = (x_center - w/2) * image_width\n",
        "                y1 = (y_center - h/2) * image_height\n",
        "                x2 = (x_center + w/2) * image_width\n",
        "                y2 = (y_center + h/2) * image_height\n",
        "            else:\n",
        "                xs = coords[0::2]\n",
        "                ys = coords[1::2]\n",
        "                x1, x2 = min(xs) * image_width, max(xs) * image_width\n",
        "                y1, y2 = min(ys) * image_height, max(ys) * image_height\n",
        "            annotations.append((cls, x1, y1, x2, y2))\n",
        "    return annotations\n",
        "\n",
        "def adjust_annotation_for_tile(annotation, tile_x, tile_y, tile_size):\n",
        "    \"\"\"\n",
        "    Ajusta una anotación (coordenadas absolutas de la imagen) al sistema de coordenadas locales\n",
        "    del tile y la normaliza al rango [0,1]. Si la intersección es insuficiente, retorna None.\n",
        "    \"\"\"\n",
        "    cls, x1, y1, x2, y2 = annotation\n",
        "    # Calcular la intersección entre la caja y el tile\n",
        "    inter_x1 = max(x1, tile_x)\n",
        "    inter_y1 = max(y1, tile_y)\n",
        "    inter_x2 = min(x2, tile_x + tile_size)\n",
        "    inter_y2 = min(y2, tile_y + tile_size)\n",
        "    if inter_x2 <= inter_x1 or inter_y2 <= inter_y1:\n",
        "        return None\n",
        "    # Coordenadas locales dentro del tile\n",
        "    local_x1 = inter_x1 - tile_x\n",
        "    local_y1 = inter_y1 - tile_y\n",
        "    local_x2 = inter_x2 - tile_x\n",
        "    local_y2 = inter_y2 - tile_y\n",
        "    w = local_x2 - local_x1\n",
        "    h = local_y2 - local_y1\n",
        "    x_center = local_x1 + w / 2\n",
        "    y_center = local_y1 + h / 2\n",
        "    norm_x = x_center / tile_size\n",
        "    norm_y = y_center / tile_size\n",
        "    norm_w = w / tile_size\n",
        "    norm_h = h / tile_size\n",
        "    # Forzamos que los valores queden en [0,1] (para evitar errores de precisión)\n",
        "    norm_x = max(0.0, min(1.0, norm_x))\n",
        "    norm_y = max(0.0, min(1.0, norm_y))\n",
        "    norm_w = max(0.0, min(1.0, norm_w))\n",
        "    norm_h = max(0.0, min(1.0, norm_h))\n",
        "    MIN_SIZE = 0.01\n",
        "    if norm_w < MIN_SIZE or norm_h < MIN_SIZE:\n",
        "        return None\n",
        "    return (cls, norm_x, norm_y, norm_w, norm_h)\n",
        "\n",
        "def tile_and_separate(image_path, label_path, out_pos_img, out_pos_lbl, out_neg_img, out_neg_lbl, split_name=\"unknown\"):\n",
        "    image = cv2.imread(image_path)\n",
        "    if image is None:\n",
        "        return 0, 0\n",
        "    orig_h, orig_w = image.shape[:2]\n",
        "    annotations = load_annotations(label_path, orig_w, orig_h)\n",
        "    step = TILE_SIZE - OVERLAP\n",
        "    count_pos, count_neg = 0, 0\n",
        "    base_name = os.path.splitext(os.path.basename(image_path))[0]\n",
        "    tile_idx = 0\n",
        "\n",
        "    # Directorio y archivo de log para tiles descartados\n",
        "    log_dir = os.path.join(EXPORT_DIR, \"errors\")\n",
        "    os.makedirs(log_dir, exist_ok=True)\n",
        "    log_path = os.path.join(log_dir, \"tiles_descartados.txt\")\n",
        "    discard_entries = []\n",
        "\n",
        "    for y in range(0, orig_h, step):\n",
        "        for x in range(0, orig_w, step):\n",
        "            tile = image[y:min(y+TILE_SIZE, orig_h), x:min(x+TILE_SIZE, orig_w)]\n",
        "            if tile.shape[0] < TILE_SIZE or tile.shape[1] < TILE_SIZE:\n",
        "                padded = np.zeros((TILE_SIZE, TILE_SIZE, 3), dtype=tile.dtype)\n",
        "                padded[0:tile.shape[0], 0:tile.shape[1]] = tile\n",
        "                tile = padded\n",
        "\n",
        "            tile_name = f\"{base_name}_tile_{tile_idx}.jpg\"\n",
        "            label_name = f\"{base_name}_tile_{tile_idx}.txt\"\n",
        "            tile_idx += 1\n",
        "\n",
        "            total_annotations = len(annotations)\n",
        "            valid_annots = []\n",
        "            for ann in annotations:\n",
        "                result = adjust_annotation_for_tile(ann, x, y, TILE_SIZE)\n",
        "                if result:\n",
        "                    valid_annots.append(result)\n",
        "\n",
        "            num_valid = len(valid_annots)\n",
        "            num_descartadas = total_annotations - num_valid\n",
        "\n",
        "            if valid_annots:\n",
        "                cv2.imwrite(os.path.join(out_pos_img, tile_name), tile)\n",
        "                with open(os.path.join(out_pos_lbl, label_name), 'w') as f:\n",
        "                    for cls, xc, yc, w, h in valid_annots:\n",
        "                        f.write(f\"{cls} {xc:.6f} {yc:.6f} {w:.6f} {h:.6f}\\n\")\n",
        "                count_pos += 1\n",
        "            else:\n",
        "                #print(f\"⚠️ Todas las cajas descartadas en {tile_name} ({num_descartadas}/{total_annotations})\")\n",
        "                cv2.imwrite(os.path.join(out_neg_img, tile_name), tile)\n",
        "                open(os.path.join(out_neg_lbl, label_name), 'w').close()\n",
        "                count_neg += 1\n",
        "                discard_entries.append(\n",
        "                    f\"{tile_name} | de {base_name} @ x={x}, y={y} → {total_annotations} cajas, 0 válidas, {num_descartadas} descartadas\"\n",
        "                )\n",
        "\n",
        "    if discard_entries:\n",
        "        with open(log_path, \"a\") as log:\n",
        "            log.write(f\"\\n🔹 DESCARTES EN {split_name.upper()}\\n\")\n",
        "            log.write(\"-\" * 50 + \"\\n\")\n",
        "            for entry in discard_entries:\n",
        "                log.write(entry + \"\\n\")\n",
        "            log.write(f\"\\n🔸 TOTAL TILES DESCARTADOS EN {split_name.upper()}: {len(discard_entries)}\\n\")\n",
        "\n",
        "    return count_pos, count_neg\n",
        "\n",
        "def process_tiling_for_set(set_name):\n",
        "    print(f\"\\n📦 Procesando tiling para {set_name.upper()}...\")\n",
        "    input_img_dir = os.path.join(BASE_DATASET_DIR, set_name, \"images\")\n",
        "    input_lbl_dir = os.path.join(BASE_DATASET_DIR, set_name, \"bblabels\")\n",
        "    pos_img = os.path.join(BASE_DATASET_DIR, set_name, \"tiles\", \"positives\", \"images\")\n",
        "    pos_lbl = os.path.join(BASE_DATASET_DIR, set_name, \"tiles\", \"positives\", \"labels\")\n",
        "    neg_img = os.path.join(BASE_DATASET_DIR, set_name, \"tiles\", \"negatives\", \"images\")\n",
        "    neg_lbl = os.path.join(BASE_DATASET_DIR, set_name, \"tiles\", \"negatives\", \"labels\")\n",
        "    os.makedirs(pos_img, exist_ok=True)\n",
        "    os.makedirs(pos_lbl, exist_ok=True)\n",
        "    os.makedirs(neg_img, exist_ok=True)\n",
        "    os.makedirs(neg_lbl, exist_ok=True)\n",
        "\n",
        "    image_files = [f for f in os.listdir(input_img_dir) if f.lower().endswith(IMAGE_EXTENSIONS)]\n",
        "    total_pos, total_neg = 0, 0\n",
        "    for img_file in image_files:\n",
        "        img_path = os.path.join(input_img_dir, img_file)\n",
        "        lbl_path = os.path.join(input_lbl_dir, os.path.splitext(img_file)[0] + \".txt\")\n",
        "        pos, neg = tile_and_separate(img_path, lbl_path, pos_img, pos_lbl, neg_img, neg_lbl, split_name=set_name.upper())\n",
        "        total_pos += pos\n",
        "        total_neg += neg\n",
        "    print(f\"✅ {set_name.upper()}: {total_pos} tiles positivos, {total_neg} negativos\")\n",
        "\n",
        "\n",
        "\n",
        "# ------------------------------------\n",
        "# 3. DATA AUGMENTATION (solo positivos de train)\n",
        "# ------------------------------------\n",
        "\n",
        "\n",
        "def read_yolo_labels(label_path):\n",
        "    bboxes, classes = [], []\n",
        "    if os.path.exists(label_path):\n",
        "        with open(label_path, 'r') as f:\n",
        "            for line in f:\n",
        "                parts = line.strip().split()\n",
        "                if len(parts) == 5:\n",
        "                    classes.append(parts[0])\n",
        "                    bboxes.append(list(map(float, parts[1:])))\n",
        "    return bboxes, classes\n",
        "\n",
        "transform_pipeline = A.Compose([\n",
        "    A.SomeOf([\n",
        "        A.HorizontalFlip(p=1.0),\n",
        "        A.Rotate(limit=(-5, 5), p=1.0),\n",
        "        A.Affine(shear=(-5, 5), p=1.0),\n",
        "        A.RandomBrightnessContrast(brightness_limit=(-0.05, 0.05), contrast_limit=(-0.05, 0.05), p=1.0),\n",
        "        A.Blur(blur_limit=5, p=1.0),\n",
        "        A.CLAHE(p=0.01, clip_limit=(1.0, 4.0), tile_grid_size=(8, 8)),\n",
        "        A.ToGray(p=0.01, num_output_channels=3, method='weighted_average'),\n",
        "    ], n=4, replace=True),\n",
        "    A.Resize(TILE_SIZE, TILE_SIZE)\n",
        "], bbox_params=A.BboxParams(format='yolo', label_fields=['labels']))\n",
        "\n",
        "def augment_positives():\n",
        "    input_img_dir = os.path.join(BASE_DATASET_DIR, \"train\", \"tiles\", \"positives\", \"images\")\n",
        "    input_lbl_dir = os.path.join(BASE_DATASET_DIR, \"train\", \"tiles\", \"positives\", \"labels\")\n",
        "    output_img_dir = os.path.join(BASE_DATASET_DIR, \"train\", \"tiles\", \"aug\", \"positives\", \"images\")\n",
        "    output_lbl_dir = os.path.join(BASE_DATASET_DIR, \"train\", \"tiles\", \"aug\", \"positives\", \"labels\")\n",
        "    os.makedirs(output_img_dir, exist_ok=True)\n",
        "    os.makedirs(output_lbl_dir, exist_ok=True)\n",
        "    for filename in os.listdir(input_img_dir):\n",
        "        if not filename.lower().endswith(IMAGE_EXTENSIONS): continue\n",
        "        img_path = os.path.join(input_img_dir, filename)\n",
        "        label_path = os.path.join(input_lbl_dir, os.path.splitext(filename)[0] + \".txt\")\n",
        "        bboxes, classes = read_yolo_labels(label_path)\n",
        "        if len(bboxes) == 0: continue\n",
        "        shutil.copy2(img_path, os.path.join(output_img_dir, filename))\n",
        "        shutil.copy2(label_path, os.path.join(output_lbl_dir, os.path.splitext(filename)[0] + \".txt\"))\n",
        "        num_variants = random.randint(AUGMENTATIONS_MIN, AUGMENTATIONS_MAX)\n",
        "        for i in range(num_variants):\n",
        "            image_bgr = cv2.imread(img_path)\n",
        "            if image_bgr is None: continue\n",
        "            image_rgb = cv2.cvtColor(image_bgr, cv2.COLOR_BGR2RGB)\n",
        "            try:\n",
        "                result = transform_pipeline(image=image_rgb, bboxes=bboxes, labels=classes)\n",
        "            except Exception as e:\n",
        "                print(f\"Error en {filename}: {e}\"); continue\n",
        "            aug_img_rgb = result[\"image\"]\n",
        "            aug_bboxes = result[\"bboxes\"]\n",
        "            aug_img_bgr = cv2.cvtColor(aug_img_rgb, cv2.COLOR_RGB2BGR)\n",
        "            new_img_name = f\"{os.path.splitext(filename)[0]}_aug{i}.jpg\"\n",
        "            new_lbl_name = f\"{os.path.splitext(filename)[0]}_aug{i}.txt\"\n",
        "            cv2.imwrite(os.path.join(output_img_dir, new_img_name), aug_img_bgr)\n",
        "            with open(os.path.join(output_lbl_dir, new_lbl_name), 'w') as f:\n",
        "                for cls, bbox in zip(classes, aug_bboxes):\n",
        "                    f.write(f\"{cls} {bbox[0]:.6f} {bbox[1]:.6f} {bbox[2]:.6f} {bbox[3]:.6f}\\n\")\n",
        "    print(\"✅ Augmentación completada para positivos de TRAIN.\")\n",
        "\n",
        "\n",
        "# ------------------------------------\n",
        "# 4. SPLIT DE NEGATIVOS 1/X + RESTO\n",
        "# ------------------------------------\n",
        "\n",
        "def split_negatives(set_name, neg_dir=\"tiles/negatives\"):\n",
        "    # Para TRAIN usamos los positivos *augmentados*, en otros sets usamos los originales\n",
        "    if set_name == \"train\":\n",
        "        pos_dir = os.path.join(BASE_DATASET_DIR, set_name, \"tiles\", \"aug\", \"positives\", \"images\")\n",
        "    else:\n",
        "        pos_dir = os.path.join(BASE_DATASET_DIR, set_name, \"tiles\", \"positives\", \"images\")\n",
        "\n",
        "    neg_img_dir = os.path.join(BASE_DATASET_DIR, set_name, neg_dir, \"images\")\n",
        "    neg_lbl_dir = os.path.join(BASE_DATASET_DIR, set_name, neg_dir, \"labels\")\n",
        "\n",
        "    split_base = os.path.join(BASE_DATASET_DIR, set_name, \"tiles\", \"split\") if set_name == \"train\" else os.path.join(BASE_DATASET_DIR, set_name, \"tiles\")\n",
        "    dest_1ofx_img = os.path.join(split_base, \"negatives_1ofX\", \"images\")\n",
        "    dest_1ofx_lbl = os.path.join(split_base, \"negatives_1ofX\", \"labels\")\n",
        "    dest_rest_img = os.path.join(split_base, \"negatives_rest\", \"images\")\n",
        "    dest_rest_lbl = os.path.join(split_base, \"negatives_rest\", \"labels\")\n",
        "\n",
        "    os.makedirs(dest_1ofx_img, exist_ok=True)\n",
        "    os.makedirs(dest_1ofx_lbl, exist_ok=True)\n",
        "    os.makedirs(dest_rest_img, exist_ok=True)\n",
        "    os.makedirs(dest_rest_lbl, exist_ok=True)\n",
        "\n",
        "    # Contar positivos reales (los que van a exportación)\n",
        "    num_pos = len([f for f in os.listdir(pos_dir) if f.lower().endswith(IMAGE_EXTENSIONS)])\n",
        "    neg_images = sorted([f for f in os.listdir(neg_img_dir) if f.lower().endswith(IMAGE_EXTENSIONS)])\n",
        "    num_neg_needed = NEGATIVE_MULTIPLIER * num_pos\n",
        "\n",
        "    selected = set(neg_images[:num_neg_needed])\n",
        "    for fname in neg_images:\n",
        "        src_img = os.path.join(neg_img_dir, fname)\n",
        "        src_lbl = os.path.join(neg_lbl_dir, os.path.splitext(fname)[0] + \".txt\")\n",
        "        if fname in selected:\n",
        "            shutil.copy2(src_img, os.path.join(dest_1ofx_img, fname))\n",
        "            shutil.copy2(src_lbl, os.path.join(dest_1ofx_lbl, os.path.splitext(fname)[0] + \".txt\"))\n",
        "        else:\n",
        "            shutil.copy2(src_img, os.path.join(dest_rest_img, fname))\n",
        "            shutil.copy2(src_lbl, os.path.join(dest_rest_lbl, os.path.splitext(fname)[0] + \".txt\"))\n",
        "\n",
        "    if CLEAN_INTERMEDIATE:\n",
        "        shutil.rmtree(os.path.join(BASE_DATASET_DIR, set_name, neg_dir))\n",
        "        if set_name == \"train\":\n",
        "            shutil.rmtree(os.path.join(BASE_DATASET_DIR, set_name, \"tiles\", \"positives\"))\n",
        "\n",
        "    print(f\"✅ {set_name.upper()}: Negativos divididos en 1ofX y resto.\")\n",
        "\n",
        "\n",
        "# ------------------------------------\n",
        "# 5. RESUMEN FINAL DE IMÁGENES Y LABELS\n",
        "# ------------------------------------\n",
        "\n",
        "\n",
        "\n",
        "def count_files(folder):\n",
        "    if not os.path.exists(folder):\n",
        "        return 0\n",
        "    return len([f for f in os.listdir(folder) if os.path.isfile(os.path.join(folder, f))])\n",
        "\n",
        "\n",
        "def summary():\n",
        "    print(\"\\n📊 RESUMEN FINAL DE TILES\")\n",
        "\n",
        "    for split in [\"train\", \"valid\", \"test\"]:\n",
        "        print(f\"\\n📁 {split.upper()}\")\n",
        "        base = os.path.join(BASE_DATASET_DIR, split, \"tiles\")\n",
        "\n",
        "        if split == \"train\":\n",
        "            orig_pos = os.path.join(base, \"positives\")\n",
        "            aug_pos = os.path.join(base, \"aug\", \"positives\")\n",
        "\n",
        "            orig_img_count = count_files(os.path.join(orig_pos, \"images\"))\n",
        "            orig_lbl_count = count_files(os.path.join(orig_pos, \"labels\"))\n",
        "            aug_img_count = count_files(os.path.join(aug_pos, \"images\"))\n",
        "            aug_lbl_count = count_files(os.path.join(aug_pos, \"labels\"))\n",
        "\n",
        "            print(f\"Positivos originales: {orig_img_count} imágenes | {orig_lbl_count} etiquetas\")\n",
        "            print(f\"Positivos augmentados: {aug_img_count} imágenes | {aug_lbl_count} etiquetas\")\n",
        "\n",
        "            neg_1ofx = os.path.join(base, \"split\", \"negatives_1ofX\")\n",
        "            neg_rest = os.path.join(base, \"split\", \"negatives_rest\")\n",
        "        else:\n",
        "            pos = os.path.join(base, \"positives\")\n",
        "            pos_img_count = count_files(os.path.join(pos, \"images\"))\n",
        "            pos_lbl_count = count_files(os.path.join(pos, \"labels\"))\n",
        "            print(f\"Positivos           : {pos_img_count} imágenes | {pos_lbl_count} etiquetas\")\n",
        "\n",
        "            neg_1ofx = os.path.join(base, \"negatives_1ofX\")\n",
        "            neg_rest = os.path.join(base, \"negatives_rest\")\n",
        "\n",
        "        # Negativos (común para todos)\n",
        "        n1x_img = count_files(os.path.join(neg_1ofx, \"images\"))\n",
        "        n1x_lbl = count_files(os.path.join(neg_1ofx, \"labels\"))\n",
        "        rest_img = count_files(os.path.join(neg_rest, \"images\"))\n",
        "        rest_lbl = count_files(os.path.join(neg_rest, \"labels\"))\n",
        "\n",
        "        print(f\"Neg 1ofX            : {n1x_img} imágenes | {n1x_lbl} etiquetas\")\n",
        "        print(f\"Neg resto           : {rest_img} imágenes | {rest_lbl} etiquetas\")\n",
        "\n",
        "\n",
        "\n",
        "# ------------------------------------\n",
        "# 6. EXPORT FINAL PARA ENTRENAMIENTO YOLOv8\n",
        "# ------------------------------------\n",
        "\n",
        "\n",
        "\n",
        "def safe_copy(src_dir, dst_dir, extensions=None):\n",
        "    copied = 0\n",
        "    for fname in os.listdir(src_dir):\n",
        "        if extensions and not fname.lower().endswith(extensions):\n",
        "            continue\n",
        "        src = os.path.join(src_dir, fname)\n",
        "        dst = os.path.join(dst_dir, fname)\n",
        "\n",
        "        # Evita sobreescribir archivos ya existentes\n",
        "        if os.path.exists(dst):\n",
        "            base, ext = os.path.splitext(fname)\n",
        "            i = 1\n",
        "            while os.path.exists(os.path.join(dst_dir, f\"{base}_{i}{ext}\")):\n",
        "                i += 1\n",
        "            dst = os.path.join(dst_dir, f\"{base}_{i}{ext}\")\n",
        "\n",
        "        shutil.copy2(src, dst)\n",
        "        copied += 1\n",
        "    return copied\n",
        "\n",
        "\n",
        "def export_for_yolov8(base_dataset_dir, export_dir):\n",
        "    sets = [\"train\", \"valid\", \"test\"]\n",
        "    os.makedirs(export_dir, exist_ok=True)\n",
        "\n",
        "    print(\"\\n📦 Iniciando export final para entrenamiento YOLOv8...\\n\")\n",
        "\n",
        "    for split in sets:\n",
        "        print(f\"🔄 Procesando {split.upper()}...\")\n",
        "\n",
        "        split_dir = os.path.join(export_dir, split)\n",
        "        images_dir = os.path.join(split_dir, \"images\")\n",
        "        labels_dir = os.path.join(split_dir, \"labels\")\n",
        "        os.makedirs(images_dir, exist_ok=True)\n",
        "        os.makedirs(labels_dir, exist_ok=True)\n",
        "\n",
        "        if split == \"train\":\n",
        "            img_src_pos = os.path.join(base_dataset_dir, split, \"tiles\", \"aug\", \"positives\", \"images\")\n",
        "            lbl_src_pos = os.path.join(base_dataset_dir, split, \"tiles\", \"aug\", \"positives\", \"labels\")\n",
        "            img_src_neg = os.path.join(base_dataset_dir, split, \"tiles\", \"split\", \"negatives_1ofX\", \"images\")\n",
        "            lbl_src_neg = os.path.join(base_dataset_dir, split, \"tiles\", \"split\", \"negatives_1ofX\", \"labels\")\n",
        "        else:\n",
        "            img_src_pos = os.path.join(base_dataset_dir, split, \"tiles\", \"positives\", \"images\")\n",
        "            lbl_src_pos = os.path.join(base_dataset_dir, split, \"tiles\", \"positives\", \"labels\")\n",
        "            img_src_neg = os.path.join(base_dataset_dir, split, \"tiles\", \"negatives_1ofX\", \"images\")\n",
        "            lbl_src_neg = os.path.join(base_dataset_dir, split, \"tiles\", \"negatives_1ofX\", \"labels\")\n",
        "\n",
        "        count_imgs = 0\n",
        "        count_lbls = 0\n",
        "\n",
        "        count_imgs += safe_copy(img_src_pos, images_dir, IMAGE_EXTENSIONS)\n",
        "        count_imgs += safe_copy(img_src_neg, images_dir, IMAGE_EXTENSIONS)\n",
        "        count_lbls += safe_copy(lbl_src_pos, labels_dir, (\".txt\",))\n",
        "        count_lbls += safe_copy(lbl_src_neg, labels_dir, (\".txt\",))\n",
        "\n",
        "        print(f\"✅ {split.upper()}: {count_imgs} imágenes, {count_lbls} labels exportados.\")\n",
        "\n",
        "    print(f\"\\n🚀 Export final completo en: {export_dir}\")\n",
        "\n",
        "\n",
        "\n",
        "\n",
        "# ------------------------------------\n",
        "#  7 SUMMARY DE EXPORT  : Resumen de todo lo movido\n",
        "# ------------------------------------\n",
        "def summary_export():\n",
        "    print(\"\\n📦 EXPORT FINAL PARA YOLOv8\")\n",
        "    for split in [\"train\", \"valid\", \"test\"]:\n",
        "        exp_img = os.path.join(EXPORT_DIR, split, \"images\")\n",
        "        exp_lbl = os.path.join(EXPORT_DIR, split, \"labels\")\n",
        "        exp_img_count = count_files(exp_img)\n",
        "        exp_lbl_count = count_files(exp_lbl)\n",
        "        print(f\"{split.upper():<7}: {exp_img_count} imágenes | {exp_lbl_count} etiquetas\")\n",
        "\n",
        "\n",
        "\n",
        "# ------------------------------------\n",
        "# 8 Mover el DATAYAML: Mueve data yaml de carpeta original a final para correr el train\n",
        "# ------------------------------------\n",
        "\n",
        "def move_data_yaml_to_export(source_path, dest_path):\n",
        "    if not os.path.exists(source_path):\n",
        "        print(f\"❌ No se encontró el archivo de entrada: {source_path}\")\n",
        "        return\n",
        "    os.makedirs(os.path.dirname(dest_path), exist_ok=True)\n",
        "    shutil.copy2(source_path, dest_path)\n",
        "    print(f\"✅ 'data.yaml' copiado a: {dest_path}\")\n",
        "\n",
        "\n",
        "\n",
        "# ------------------------------------\n",
        "# 9 SUMMARY DE DESCARTESL:\n",
        "# ------------------------------------\n",
        "\n",
        "\n",
        "def fix_discard_summary(log_path):\n",
        "    if not os.path.exists(log_path):\n",
        "        print(\"⚠️ No se encontró archivo de descartes.\")\n",
        "        return\n",
        "\n",
        "    total_global = 0\n",
        "    resumen_por_split = {}\n",
        "\n",
        "    with open(log_path, \"r\") as f:\n",
        "        lines = f.readlines()\n",
        "\n",
        "    lines = [line for line in lines if not line.startswith(\"📦 RESUMEN GLOBAL\") and not line.startswith(\"🔸 \") and not line.startswith(\"🧮\")]\n",
        "\n",
        "    for line in lines:\n",
        "        if line.startswith(\"🔸 TOTAL TILES DESCARTADOS EN\"):\n",
        "            parts = line.strip().split(\"EN \")\n",
        "            if len(parts) == 2:\n",
        "                conjunto_info = parts[1].split(\":\")\n",
        "                if len(conjunto_info) == 2:\n",
        "                    split = conjunto_info[0].strip()\n",
        "                    cantidad = int(conjunto_info[1].strip())\n",
        "                    resumen_por_split[split] = cantidad\n",
        "                    total_global += cantidad\n",
        "\n",
        "    lines.append(\"\\n📦 RESUMEN GLOBAL DE TILES DESCARTADOS\\n\")\n",
        "    lines.append(\"=\".ljust(50, \"=\") + \"\\n\")\n",
        "    for split, count in resumen_por_split.items():\n",
        "        lines.append(f\"🔸 {split}: {count} tiles descartados\\n\")\n",
        "    lines.append(f\"\\n🧮 TOTAL GLOBAL DE TILES DESCARTADOS: {total_global}\\n\")\n",
        "\n",
        "    with open(log_path, \"w\") as f:\n",
        "        f.writelines(lines)\n",
        "\n",
        "    print(\"\\n📦 RESUMEN GLOBAL DE TILES DESCARTADOS (RECALCULADO)\")\n",
        "    print(\"=\" * 50)\n",
        "    for split, count in resumen_por_split.items():\n",
        "        print(f\"🔸 {split}: {count} tiles descartados\")\n",
        "    print(f\"\\n🧮 TOTAL GLOBAL DE TILES DESCARTADOS: {total_global}\")\n",
        "\n",
        "\n",
        "\n",
        "# ------------------------------------\n",
        "# MAIN PIPELINE: ejecuta todo en orden\n",
        "# ------------------------------------\n",
        "def run_full_pipeline():\n",
        "    for split in [\"train\", \"valid\", \"test\"]:\n",
        "        process_all_labels_for_set(split)                            # Paso 1: convertir etiquetas\n",
        "        process_tiling_for_set(split)                                # Paso 2: tiling y separar en positivos/negativos\n",
        "\n",
        "    augment_positives()                                              # Paso 3: augment solo para train\n",
        "\n",
        "    for split in [\"train\", \"valid\", \"test\"]:\n",
        "        split_negatives(split)                                      # Paso 4: dividir negativos en 1/X y resto\n",
        "\n",
        "    summary()                                                       # Paso 5: mostrar resumen de tiles (con augmentación incluida)\n",
        "    export_for_yolov8(BASE_DATASET_DIR, EXPORT_DIR)                 # Paso 6: exportar a carpeta lista para YOLOv8\n",
        "\n",
        "    print(\"\\n📊 RE-CONTANDO DESPUÉS DE EXPORTACIÓN\")\n",
        "\n",
        "    summary_export()                                                # Paso 7: mostrar resumen del set exportado (lo que se entrena realmente)\n",
        "\n",
        "    move_data_yaml_to_export(INPUT_YAML_PATH, EXPORT_YAML_PATH)     # Paso 8: mover data.yaml al export final\n",
        "\n",
        "    fix_discard_summary(os.path.join(EXPORT_DIR, \"errors\", \"tiles_descartados.txt\"))   # Paso 9: limpiar y recalcular resumen del log\n",
        "\n",
        "\n",
        "\n",
        "\n",
        "\n",
        "\n",
        "# 🔁 Ejecutar todo:\n",
        "\n",
        "run_full_pipeline()\n",
        "\n",
        "\n",
        "\n",
        "\n",
        "\n",
        "\n",
        "\n"
      ]
    },
    {
      "cell_type": "markdown",
      "source": [
        "explicaciones para correr por bloque o todo , esto es para mí todavía"
      ],
      "metadata": {
        "id": "aHzrQ0PpcnNV"
      }
    },
    {
      "cell_type": "code",
      "source": [
        "🧠 Consejo extra:\n",
        "Si quieres hacer pruebas por bloques, comenta esta línea al final del script:\n",
        "\n",
        "\n",
        "# run_full_pipeline()\n",
        "\n",
        "Y luego puedes llamar a cada paso manualmente, como por ejemplo:\n",
        "\n",
        "\n",
        "\n",
        "process_all_labels_for_set(\"train\")\n",
        "process_tiling_for_set(\"train\")\n",
        "augment_positives()\n",
        "split_negatives(\"train\")\n",
        "summary()\n"
      ],
      "metadata": {
        "id": "CCPLvnsP4f2e"
      },
      "execution_count": null,
      "outputs": []
    },
    {
      "cell_type": "code",
      "source": [
        "Perfecto, Albie. Ahora que tienes todo tu script modular listo, aquí te explico cómo llamar a cada bloque manualmente, por si quieres ejecutar tu pipeline paso a paso:\n",
        "\n",
        "✅ Ejecutar bloques manualmente\n",
        "🟡 1. Conversión de etiquetas (segmentación → bounding box)\n",
        "\n",
        "process_all_labels_for_set(\"train\")\n",
        "process_all_labels_for_set(\"valid\")\n",
        "process_all_labels_for_set(\"test\")\n",
        "🟡 2. Tiling y separación en positivos/negativos\n",
        "\n",
        "process_tiling_for_set(\"train\")\n",
        "process_tiling_for_set(\"valid\")\n",
        "process_tiling_for_set(\"test\")\n",
        "🟡 3. Data augmentation (solo train)\n",
        "\n",
        "augment_positives()\n",
        "🟡 4. División de negativos (1/X y resto)\n",
        "\n",
        "split_negatives(\"train\")\n",
        "split_negatives(\"valid\")\n",
        "split_negatives(\"test\")\n",
        "🟡 5. Mostrar resumen final\n",
        "\n",
        "summary()\n",
        "💡 Consejo\n",
        "Puedes comentar esta línea si no quieres que todo se ejecute automáticamente al cargar el script:\n",
        "\n",
        "\n",
        "# run_full_pipeline()"
      ],
      "metadata": {
        "id": "ZXGWg6yU6Rgz"
      },
      "execution_count": null,
      "outputs": []
    },
    {
      "cell_type": "markdown",
      "source": [
        "comprobar cantidad de archivos con txt vacios"
      ],
      "metadata": {
        "id": "Qyr_CKHIcjjV"
      }
    },
    {
      "cell_type": "code",
      "source": [
        "#!/usr/bin/env python3\n",
        "import os\n",
        "\n",
        "def count_annotation_txts(directory):\n",
        "    total_txt = 0\n",
        "    annotated_txt = 0\n",
        "    empty_txt = 0\n",
        "\n",
        "    for filename in os.listdir(directory):\n",
        "        if filename.lower().endswith(\".txt\"):\n",
        "            total_txt += 1\n",
        "            file_path = os.path.join(directory, filename)\n",
        "            with open(file_path, 'r') as f:\n",
        "                # Se consideran las líneas que tienen algo de contenido (no solo espacios)\n",
        "                lines = [line for line in f if line.strip()]\n",
        "                if lines:\n",
        "                    annotated_txt += 1\n",
        "                else:\n",
        "                    empty_txt += 1\n",
        "\n",
        "    return total_txt, annotated_txt, empty_txt\n",
        "\n",
        "if __name__ == '__main__':\n",
        "    folder = input(\"Introduce el path de la carpeta a chequear: \").strip()\n",
        "    if not os.path.isdir(folder):\n",
        "        print(\"El path proporcionado no es un directorio válido.\")\n",
        "    else:\n",
        "        total, annotated, empty = count_annotation_txts(folder)\n",
        "        print(f\"\\nTotal de archivos .txt: {total}\")\n",
        "        print(f\"Archivos con anotaciones: {annotated}\")\n",
        "        print(f\"Archivos vacíos: {empty}\")\n"
      ],
      "metadata": {
        "id": "sLrNMHczq1cu"
      },
      "execution_count": null,
      "outputs": []
    },
    {
      "cell_type": "code",
      "source": [
        "#0. En Colab, primero instala los paquetes y monta tu Drive:  Instalar las librerías necesarias\n",
        "!pip install ultralytics wandb  # Esto instalará ultralytics y wandb (torch y torchvision generalmente ya vienen instalados en Colab)\n",
        "\n",
        "import ultralytics\n",
        "ultralytics.checks()"
      ],
      "metadata": {
        "colab": {
          "base_uri": "https://localhost:8080/"
        },
        "id": "KDS7eDgfxSzR",
        "outputId": "61077c95-2924-474d-e962-32f15e264fb6"
      },
      "execution_count": 6,
      "outputs": [
        {
          "output_type": "stream",
          "name": "stdout",
          "text": [
            "Ultralytics 8.3.110 🚀 Python-3.11.12 torch-2.6.0+cu124 CUDA:0 (NVIDIA A100-SXM4-40GB, 40507MiB)\n",
            "Setup complete ✅ (12 CPUs, 83.5 GB RAM, 48.2/235.7 GB disk)\n"
          ]
        }
      ]
    },
    {
      "cell_type": "code",
      "source": [
        "\n",
        "# 9. Ejecutar el entrenamiento de YOLOv8\n",
        "from ultralytics import YOLO\n",
        "\n",
        "# Carga el modelo (en este ejemplo, YOLOv8s)\n",
        "model = YOLO(\"yolov8s.pt\")\n",
        "\n",
        "#Add W&B callback for ultralytics:\n",
        "#add_wandb_callback(model, True, True)\n"
      ],
      "metadata": {
        "id": "QIb53oSQxWka"
      },
      "execution_count": 2,
      "outputs": []
    },
    {
      "cell_type": "code",
      "execution_count": 22,
      "metadata": {
        "collapsed": true,
        "id": "38EAZnVwKPv3",
        "colab": {
          "base_uri": "https://localhost:8080/"
        },
        "outputId": "f4969d06-949e-473d-f607-c03263f43fa5"
      },
      "outputs": [
        {
          "output_type": "stream",
          "name": "stdout",
          "text": [
            "Ultralytics 8.3.107 🚀 Python-3.11.12 torch-2.6.0+cu124 CUDA:0 (NVIDIA A100-SXM4-40GB, 40507MiB)\n",
            "\u001b[34m\u001b[1mengine/trainer: \u001b[0mtask=detect, mode=train, model=/content/v72_prop1vs5_pruebesitabebe3/seals/weights/best.pt, data=/content/export_yolov8v72_1_vs_5/data.yaml, epochs=60, time=None, patience=6, batch=8, imgsz=640, save=True, save_period=-1, cache=False, device=cuda, workers=8, project=v72_prop1vs5_prueba5, name=seals, exist_ok=False, pretrained=True, optimizer=adamw, verbose=True, seed=0, deterministic=True, single_cls=False, rect=False, cos_lr=True, close_mosaic=10, resume=False, amp=True, fraction=1.0, profile=False, freeze=None, multi_scale=False, overlap_mask=True, mask_ratio=4, dropout=0.0, val=True, split=val, save_json=False, conf=None, iou=0.7, max_det=300, half=True, dnn=False, plots=True, source=None, vid_stride=1, stream_buffer=False, visualize=False, augment=False, agnostic_nms=False, classes=None, retina_masks=False, embed=None, show=False, save_frames=False, save_txt=False, save_conf=False, save_crop=False, show_labels=True, show_conf=True, show_boxes=True, line_width=None, format=torchscript, keras=False, optimize=False, int8=False, dynamic=False, simplify=True, opset=None, workspace=None, nms=False, lr0=0.0001, lrf=0.01, momentum=0.937, weight_decay=0.0005, warmup_epochs=3.0, warmup_momentum=0.8, warmup_bias_lr=0.1, box=7.5, cls=0.5, dfl=1.5, pose=12.0, kobj=1.0, nbs=64, hsv_h=0.015, hsv_s=0.7, hsv_v=0.4, degrees=0.0, translate=0.1, scale=0.5, shear=0.0, perspective=0.0, flipud=0.0, fliplr=0.5, bgr=0.0, mosaic=0, mixup=0.0, copy_paste=0.0, copy_paste_mode=flip, auto_augment=randaugment, erasing=0.4, crop_fraction=1.0, cfg=None, tracker=botsort.yaml, save_dir=v72_prop1vs5_prueba5/seals\n",
            "\n",
            "                   from  n    params  module                                       arguments                     \n",
            "  0                  -1  1       928  ultralytics.nn.modules.conv.Conv             [3, 32, 3, 2]                 \n",
            "  1                  -1  1     18560  ultralytics.nn.modules.conv.Conv             [32, 64, 3, 2]                \n",
            "  2                  -1  1     29056  ultralytics.nn.modules.block.C2f             [64, 64, 1, True]             \n",
            "  3                  -1  1     73984  ultralytics.nn.modules.conv.Conv             [64, 128, 3, 2]               \n",
            "  4                  -1  2    197632  ultralytics.nn.modules.block.C2f             [128, 128, 2, True]           \n",
            "  5                  -1  1    295424  ultralytics.nn.modules.conv.Conv             [128, 256, 3, 2]              \n",
            "  6                  -1  2    788480  ultralytics.nn.modules.block.C2f             [256, 256, 2, True]           \n",
            "  7                  -1  1   1180672  ultralytics.nn.modules.conv.Conv             [256, 512, 3, 2]              \n",
            "  8                  -1  1   1838080  ultralytics.nn.modules.block.C2f             [512, 512, 1, True]           \n",
            "  9                  -1  1    656896  ultralytics.nn.modules.block.SPPF            [512, 512, 5]                 \n",
            " 10                  -1  1         0  torch.nn.modules.upsampling.Upsample         [None, 2, 'nearest']          \n",
            " 11             [-1, 6]  1         0  ultralytics.nn.modules.conv.Concat           [1]                           \n",
            " 12                  -1  1    591360  ultralytics.nn.modules.block.C2f             [768, 256, 1]                 \n",
            " 13                  -1  1         0  torch.nn.modules.upsampling.Upsample         [None, 2, 'nearest']          \n",
            " 14             [-1, 4]  1         0  ultralytics.nn.modules.conv.Concat           [1]                           \n",
            " 15                  -1  1    148224  ultralytics.nn.modules.block.C2f             [384, 128, 1]                 \n",
            " 16                  -1  1    147712  ultralytics.nn.modules.conv.Conv             [128, 128, 3, 2]              \n",
            " 17            [-1, 12]  1         0  ultralytics.nn.modules.conv.Concat           [1]                           \n",
            " 18                  -1  1    493056  ultralytics.nn.modules.block.C2f             [384, 256, 1]                 \n",
            " 19                  -1  1    590336  ultralytics.nn.modules.conv.Conv             [256, 256, 3, 2]              \n",
            " 20             [-1, 9]  1         0  ultralytics.nn.modules.conv.Concat           [1]                           \n",
            " 21                  -1  1   1969152  ultralytics.nn.modules.block.C2f             [768, 512, 1]                 \n",
            " 22        [15, 18, 21]  1   2116435  ultralytics.nn.modules.head.Detect           [1, [128, 256, 512]]          \n",
            "Model summary: 129 layers, 11,135,987 parameters, 11,135,971 gradients, 28.6 GFLOPs\n",
            "\n",
            "Transferred 355/355 items from pretrained weights\n",
            "\u001b[34m\u001b[1mTensorBoard: \u001b[0mStart with 'tensorboard --logdir v72_prop1vs5_prueba5/seals', view at http://localhost:6006/\n",
            "Freezing layer 'model.22.dfl.conv.weight'\n",
            "\u001b[34m\u001b[1mAMP: \u001b[0mrunning Automatic Mixed Precision (AMP) checks...\n",
            "\u001b[34m\u001b[1mAMP: \u001b[0mchecks passed ✅\n"
          ]
        },
        {
          "output_type": "stream",
          "name": "stderr",
          "text": [
            "\u001b[34m\u001b[1mtrain: \u001b[0mScanning /content/export_yolov8v72_1_vs_5/train/labels.cache... 9996 images, 8351 backgrounds, 0 corrupt: 100%|██████████| 9996/9996 [00:00<?, ?it/s]"
          ]
        },
        {
          "output_type": "stream",
          "name": "stdout",
          "text": [
            "\u001b[34m\u001b[1malbumentations: \u001b[0mBlur(p=0.01, blur_limit=(3, 7)), MedianBlur(p=0.01, blur_limit=(3, 7)), ToGray(p=0.01, num_output_channels=3, method='weighted_average'), CLAHE(p=0.01, clip_limit=(1.0, 4.0), tile_grid_size=(8, 8))\n"
          ]
        },
        {
          "output_type": "stream",
          "name": "stderr",
          "text": [
            "\n",
            "\u001b[34m\u001b[1mval: \u001b[0mScanning /content/export_yolov8v72_1_vs_5/valid/labels.cache... 774 images, 645 backgrounds, 0 corrupt: 100%|██████████| 774/774 [00:00<?, ?it/s]\n"
          ]
        },
        {
          "output_type": "stream",
          "name": "stdout",
          "text": [
            "Plotting labels to v72_prop1vs5_prueba5/seals/labels.jpg... \n",
            "\u001b[34m\u001b[1moptimizer:\u001b[0m AdamW(lr=0.0001, momentum=0.937) with parameter groups 57 weight(decay=0.0), 64 weight(decay=0.0005), 63 bias(decay=0.0)\n",
            "\u001b[34m\u001b[1mTensorBoard: \u001b[0mmodel graph visualization added ✅\n",
            "Image sizes 640 train, 640 val\n",
            "Using 8 dataloader workers\n",
            "Logging results to \u001b[1mv72_prop1vs5_prueba5/seals\u001b[0m\n",
            "Starting training for 60 epochs...\n",
            "\n",
            "      Epoch    GPU_mem   box_loss   cls_loss   dfl_loss  Instances       Size\n"
          ]
        },
        {
          "output_type": "stream",
          "name": "stderr",
          "text": [
            "       1/60      2.25G     0.8512     0.4716     0.6447          3        640: 100%|██████████| 1250/1250 [01:38<00:00, 12.75it/s]\n",
            "                 Class     Images  Instances      Box(P          R      mAP50  mAP50-95): 100%|██████████| 49/49 [00:01<00:00, 26.01it/s]"
          ]
        },
        {
          "output_type": "stream",
          "name": "stdout",
          "text": [
            "                   all        774        144      0.896      0.902      0.918      0.535\n"
          ]
        },
        {
          "output_type": "stream",
          "name": "stderr",
          "text": [
            "\n"
          ]
        },
        {
          "output_type": "stream",
          "name": "stdout",
          "text": [
            "\n",
            "      Epoch    GPU_mem   box_loss   cls_loss   dfl_loss  Instances       Size\n"
          ]
        },
        {
          "output_type": "stream",
          "name": "stderr",
          "text": [
            "       2/60      2.63G      0.799     0.4135     0.6328          0        640: 100%|██████████| 1250/1250 [01:30<00:00, 13.80it/s]\n",
            "                 Class     Images  Instances      Box(P          R      mAP50  mAP50-95): 100%|██████████| 49/49 [00:01<00:00, 28.83it/s]"
          ]
        },
        {
          "output_type": "stream",
          "name": "stdout",
          "text": [
            "                   all        774        144      0.905      0.875      0.921      0.575\n"
          ]
        },
        {
          "output_type": "stream",
          "name": "stderr",
          "text": [
            "\n"
          ]
        },
        {
          "output_type": "stream",
          "name": "stdout",
          "text": [
            "\n",
            "      Epoch    GPU_mem   box_loss   cls_loss   dfl_loss  Instances       Size\n"
          ]
        },
        {
          "output_type": "stream",
          "name": "stderr",
          "text": [
            "       3/60      2.63G       0.76     0.3903     0.6335          0        640: 100%|██████████| 1250/1250 [01:27<00:00, 14.22it/s]\n",
            "                 Class     Images  Instances      Box(P          R      mAP50  mAP50-95): 100%|██████████| 49/49 [00:01<00:00, 28.30it/s]"
          ]
        },
        {
          "output_type": "stream",
          "name": "stdout",
          "text": [
            "                   all        774        144       0.91       0.91      0.934      0.551\n"
          ]
        },
        {
          "output_type": "stream",
          "name": "stderr",
          "text": [
            "\n"
          ]
        },
        {
          "output_type": "stream",
          "name": "stdout",
          "text": [
            "\n",
            "      Epoch    GPU_mem   box_loss   cls_loss   dfl_loss  Instances       Size\n"
          ]
        },
        {
          "output_type": "stream",
          "name": "stderr",
          "text": [
            "       4/60      2.63G     0.7518     0.3646     0.6325          0        640: 100%|██████████| 1250/1250 [01:27<00:00, 14.35it/s]\n",
            "                 Class     Images  Instances      Box(P          R      mAP50  mAP50-95): 100%|██████████| 49/49 [00:01<00:00, 27.93it/s]"
          ]
        },
        {
          "output_type": "stream",
          "name": "stdout",
          "text": [
            "                   all        774        144      0.894       0.91      0.916      0.577\n"
          ]
        },
        {
          "output_type": "stream",
          "name": "stderr",
          "text": [
            "\n"
          ]
        },
        {
          "output_type": "stream",
          "name": "stdout",
          "text": [
            "\n",
            "      Epoch    GPU_mem   box_loss   cls_loss   dfl_loss  Instances       Size\n"
          ]
        },
        {
          "output_type": "stream",
          "name": "stderr",
          "text": [
            "       5/60      2.63G     0.7272     0.3658     0.6239          0        640: 100%|██████████| 1250/1250 [01:28<00:00, 14.18it/s]\n",
            "                 Class     Images  Instances      Box(P          R      mAP50  mAP50-95): 100%|██████████| 49/49 [00:01<00:00, 27.48it/s]"
          ]
        },
        {
          "output_type": "stream",
          "name": "stdout",
          "text": [
            "                   all        774        144      0.917      0.923       0.94      0.575\n"
          ]
        },
        {
          "output_type": "stream",
          "name": "stderr",
          "text": [
            "\n"
          ]
        },
        {
          "output_type": "stream",
          "name": "stdout",
          "text": [
            "\n",
            "      Epoch    GPU_mem   box_loss   cls_loss   dfl_loss  Instances       Size\n"
          ]
        },
        {
          "output_type": "stream",
          "name": "stderr",
          "text": [
            "       6/60      2.63G     0.7421     0.3677     0.6374          1        640: 100%|██████████| 1250/1250 [01:27<00:00, 14.26it/s]\n",
            "                 Class     Images  Instances      Box(P          R      mAP50  mAP50-95): 100%|██████████| 49/49 [00:01<00:00, 26.90it/s]"
          ]
        },
        {
          "output_type": "stream",
          "name": "stdout",
          "text": [
            "                   all        774        144      0.932      0.903      0.926      0.569\n"
          ]
        },
        {
          "output_type": "stream",
          "name": "stderr",
          "text": [
            "\n"
          ]
        },
        {
          "output_type": "stream",
          "name": "stdout",
          "text": [
            "\n",
            "      Epoch    GPU_mem   box_loss   cls_loss   dfl_loss  Instances       Size\n"
          ]
        },
        {
          "output_type": "stream",
          "name": "stderr",
          "text": [
            "       7/60      2.64G     0.7412      0.368     0.6388          0        640: 100%|██████████| 1250/1250 [01:28<00:00, 14.16it/s]\n",
            "                 Class     Images  Instances      Box(P          R      mAP50  mAP50-95): 100%|██████████| 49/49 [00:01<00:00, 28.19it/s]"
          ]
        },
        {
          "output_type": "stream",
          "name": "stdout",
          "text": [
            "                   all        774        144      0.898       0.91      0.931      0.592\n"
          ]
        },
        {
          "output_type": "stream",
          "name": "stderr",
          "text": [
            "\n"
          ]
        },
        {
          "output_type": "stream",
          "name": "stdout",
          "text": [
            "\n",
            "      Epoch    GPU_mem   box_loss   cls_loss   dfl_loss  Instances       Size\n"
          ]
        },
        {
          "output_type": "stream",
          "name": "stderr",
          "text": [
            "       8/60      2.67G     0.7191     0.3601     0.6154          1        640: 100%|██████████| 1250/1250 [01:27<00:00, 14.28it/s]\n",
            "                 Class     Images  Instances      Box(P          R      mAP50  mAP50-95): 100%|██████████| 49/49 [00:01<00:00, 28.63it/s]"
          ]
        },
        {
          "output_type": "stream",
          "name": "stdout",
          "text": [
            "                   all        774        144      0.901      0.887      0.912      0.582\n"
          ]
        },
        {
          "output_type": "stream",
          "name": "stderr",
          "text": [
            "\n"
          ]
        },
        {
          "output_type": "stream",
          "name": "stdout",
          "text": [
            "\n",
            "      Epoch    GPU_mem   box_loss   cls_loss   dfl_loss  Instances       Size\n"
          ]
        },
        {
          "output_type": "stream",
          "name": "stderr",
          "text": [
            "       9/60      2.67G     0.6956     0.3455     0.6123          0        640: 100%|██████████| 1250/1250 [01:27<00:00, 14.31it/s]\n",
            "                 Class     Images  Instances      Box(P          R      mAP50  mAP50-95): 100%|██████████| 49/49 [00:01<00:00, 28.29it/s]"
          ]
        },
        {
          "output_type": "stream",
          "name": "stdout",
          "text": [
            "                   all        774        144      0.927      0.888      0.911      0.583\n"
          ]
        },
        {
          "output_type": "stream",
          "name": "stderr",
          "text": [
            "\n"
          ]
        },
        {
          "output_type": "stream",
          "name": "stdout",
          "text": [
            "\n",
            "      Epoch    GPU_mem   box_loss   cls_loss   dfl_loss  Instances       Size\n"
          ]
        },
        {
          "output_type": "stream",
          "name": "stderr",
          "text": [
            "      10/60      2.67G     0.7094     0.3519     0.6164          3        640: 100%|██████████| 1250/1250 [01:28<00:00, 14.20it/s]\n",
            "                 Class     Images  Instances      Box(P          R      mAP50  mAP50-95): 100%|██████████| 49/49 [00:01<00:00, 27.07it/s]"
          ]
        },
        {
          "output_type": "stream",
          "name": "stdout",
          "text": [
            "                   all        774        144      0.928      0.902      0.919      0.572\n"
          ]
        },
        {
          "output_type": "stream",
          "name": "stderr",
          "text": [
            "\n"
          ]
        },
        {
          "output_type": "stream",
          "name": "stdout",
          "text": [
            "\n",
            "      Epoch    GPU_mem   box_loss   cls_loss   dfl_loss  Instances       Size\n"
          ]
        },
        {
          "output_type": "stream",
          "name": "stderr",
          "text": [
            "      11/60      2.67G     0.7565      0.378       0.64          1        640: 100%|██████████| 1250/1250 [01:28<00:00, 14.17it/s]\n",
            "                 Class     Images  Instances      Box(P          R      mAP50  mAP50-95): 100%|██████████| 49/49 [00:01<00:00, 27.78it/s]"
          ]
        },
        {
          "output_type": "stream",
          "name": "stdout",
          "text": [
            "                   all        774        144      0.914      0.885      0.901      0.558\n"
          ]
        },
        {
          "output_type": "stream",
          "name": "stderr",
          "text": [
            "\n"
          ]
        },
        {
          "output_type": "stream",
          "name": "stdout",
          "text": [
            "\n",
            "      Epoch    GPU_mem   box_loss   cls_loss   dfl_loss  Instances       Size\n"
          ]
        },
        {
          "output_type": "stream",
          "name": "stderr",
          "text": [
            "      12/60      2.67G     0.7168     0.3506     0.6158          1        640: 100%|██████████| 1250/1250 [01:28<00:00, 14.20it/s]\n",
            "                 Class     Images  Instances      Box(P          R      mAP50  mAP50-95): 100%|██████████| 49/49 [00:01<00:00, 28.73it/s]"
          ]
        },
        {
          "output_type": "stream",
          "name": "stdout",
          "text": [
            "                   all        774        144       0.92      0.861      0.917      0.572\n"
          ]
        },
        {
          "output_type": "stream",
          "name": "stderr",
          "text": [
            "\n"
          ]
        },
        {
          "output_type": "stream",
          "name": "stdout",
          "text": [
            "\n",
            "      Epoch    GPU_mem   box_loss   cls_loss   dfl_loss  Instances       Size\n"
          ]
        },
        {
          "output_type": "stream",
          "name": "stderr",
          "text": [
            "      13/60      2.67G     0.7258     0.3563     0.6273          2        640: 100%|██████████| 1250/1250 [01:28<00:00, 14.05it/s]\n",
            "                 Class     Images  Instances      Box(P          R      mAP50  mAP50-95): 100%|██████████| 49/49 [00:01<00:00, 28.27it/s]"
          ]
        },
        {
          "output_type": "stream",
          "name": "stdout",
          "text": [
            "                   all        774        144      0.908      0.887      0.919      0.569\n",
            "\u001b[34m\u001b[1mEarlyStopping: \u001b[0mTraining stopped early as no improvement observed in last 6 epochs. Best results observed at epoch 7, best model saved as best.pt.\n",
            "To update EarlyStopping(patience=6) pass a new patience value, i.e. `patience=300` or use `patience=0` to disable EarlyStopping.\n"
          ]
        },
        {
          "output_type": "stream",
          "name": "stderr",
          "text": [
            "\n"
          ]
        },
        {
          "output_type": "stream",
          "name": "stdout",
          "text": [
            "\n",
            "13 epochs completed in 0.330 hours.\n",
            "Optimizer stripped from v72_prop1vs5_prueba5/seals/weights/last.pt, 22.5MB\n",
            "Optimizer stripped from v72_prop1vs5_prueba5/seals/weights/best.pt, 22.5MB\n",
            "\n",
            "Validating v72_prop1vs5_prueba5/seals/weights/best.pt...\n",
            "Ultralytics 8.3.107 🚀 Python-3.11.12 torch-2.6.0+cu124 CUDA:0 (NVIDIA A100-SXM4-40GB, 40507MiB)\n",
            "Model summary (fused): 72 layers, 11,125,971 parameters, 0 gradients, 28.4 GFLOPs\n"
          ]
        },
        {
          "output_type": "stream",
          "name": "stderr",
          "text": [
            "                 Class     Images  Instances      Box(P          R      mAP50  mAP50-95): 100%|██████████| 49/49 [00:02<00:00, 24.38it/s]\n"
          ]
        },
        {
          "output_type": "stream",
          "name": "stdout",
          "text": [
            "                   all        774        144      0.898       0.91      0.931      0.592\n",
            "Speed: 0.2ms preprocess, 1.2ms inference, 0.0ms loss, 0.3ms postprocess per image\n",
            "Results saved to \u001b[1mv72_prop1vs5_prueba5/seals\u001b[0m\n"
          ]
        },
        {
          "output_type": "execute_result",
          "data": {
            "text/plain": [
              "ultralytics.utils.metrics.DetMetrics object with attributes:\n",
              "\n",
              "ap_class_index: array([0])\n",
              "box: ultralytics.utils.metrics.Metric object\n",
              "confusion_matrix: <ultralytics.utils.metrics.ConfusionMatrix object at 0x7b5db2c69350>\n",
              "curves: ['Precision-Recall(B)', 'F1-Confidence(B)', 'Precision-Confidence(B)', 'Recall-Confidence(B)']\n",
              "curves_results: [[array([          0,    0.001001,    0.002002,    0.003003,    0.004004,    0.005005,    0.006006,    0.007007,    0.008008,    0.009009,     0.01001,    0.011011,    0.012012,    0.013013,    0.014014,    0.015015,    0.016016,    0.017017,    0.018018,    0.019019,     0.02002,    0.021021,    0.022022,    0.023023,\n",
              "          0.024024,    0.025025,    0.026026,    0.027027,    0.028028,    0.029029,     0.03003,    0.031031,    0.032032,    0.033033,    0.034034,    0.035035,    0.036036,    0.037037,    0.038038,    0.039039,     0.04004,    0.041041,    0.042042,    0.043043,    0.044044,    0.045045,    0.046046,    0.047047,\n",
              "          0.048048,    0.049049,     0.05005,    0.051051,    0.052052,    0.053053,    0.054054,    0.055055,    0.056056,    0.057057,    0.058058,    0.059059,     0.06006,    0.061061,    0.062062,    0.063063,    0.064064,    0.065065,    0.066066,    0.067067,    0.068068,    0.069069,     0.07007,    0.071071,\n",
              "          0.072072,    0.073073,    0.074074,    0.075075,    0.076076,    0.077077,    0.078078,    0.079079,     0.08008,    0.081081,    0.082082,    0.083083,    0.084084,    0.085085,    0.086086,    0.087087,    0.088088,    0.089089,     0.09009,    0.091091,    0.092092,    0.093093,    0.094094,    0.095095,\n",
              "          0.096096,    0.097097,    0.098098,    0.099099,      0.1001,      0.1011,      0.1021,      0.1031,      0.1041,     0.10511,     0.10611,     0.10711,     0.10811,     0.10911,     0.11011,     0.11111,     0.11211,     0.11311,     0.11411,     0.11512,     0.11612,     0.11712,     0.11812,     0.11912,\n",
              "           0.12012,     0.12112,     0.12212,     0.12312,     0.12412,     0.12513,     0.12613,     0.12713,     0.12813,     0.12913,     0.13013,     0.13113,     0.13213,     0.13313,     0.13413,     0.13514,     0.13614,     0.13714,     0.13814,     0.13914,     0.14014,     0.14114,     0.14214,     0.14314,\n",
              "           0.14414,     0.14515,     0.14615,     0.14715,     0.14815,     0.14915,     0.15015,     0.15115,     0.15215,     0.15315,     0.15415,     0.15516,     0.15616,     0.15716,     0.15816,     0.15916,     0.16016,     0.16116,     0.16216,     0.16316,     0.16416,     0.16517,     0.16617,     0.16717,\n",
              "           0.16817,     0.16917,     0.17017,     0.17117,     0.17217,     0.17317,     0.17417,     0.17518,     0.17618,     0.17718,     0.17818,     0.17918,     0.18018,     0.18118,     0.18218,     0.18318,     0.18418,     0.18519,     0.18619,     0.18719,     0.18819,     0.18919,     0.19019,     0.19119,\n",
              "           0.19219,     0.19319,     0.19419,      0.1952,      0.1962,      0.1972,      0.1982,      0.1992,      0.2002,      0.2012,      0.2022,      0.2032,      0.2042,     0.20521,     0.20621,     0.20721,     0.20821,     0.20921,     0.21021,     0.21121,     0.21221,     0.21321,     0.21421,     0.21522,\n",
              "           0.21622,     0.21722,     0.21822,     0.21922,     0.22022,     0.22122,     0.22222,     0.22322,     0.22422,     0.22523,     0.22623,     0.22723,     0.22823,     0.22923,     0.23023,     0.23123,     0.23223,     0.23323,     0.23423,     0.23524,     0.23624,     0.23724,     0.23824,     0.23924,\n",
              "           0.24024,     0.24124,     0.24224,     0.24324,     0.24424,     0.24525,     0.24625,     0.24725,     0.24825,     0.24925,     0.25025,     0.25125,     0.25225,     0.25325,     0.25425,     0.25526,     0.25626,     0.25726,     0.25826,     0.25926,     0.26026,     0.26126,     0.26226,     0.26326,\n",
              "           0.26426,     0.26527,     0.26627,     0.26727,     0.26827,     0.26927,     0.27027,     0.27127,     0.27227,     0.27327,     0.27427,     0.27528,     0.27628,     0.27728,     0.27828,     0.27928,     0.28028,     0.28128,     0.28228,     0.28328,     0.28428,     0.28529,     0.28629,     0.28729,\n",
              "           0.28829,     0.28929,     0.29029,     0.29129,     0.29229,     0.29329,     0.29429,      0.2953,      0.2963,      0.2973,      0.2983,      0.2993,      0.3003,      0.3013,      0.3023,      0.3033,      0.3043,     0.30531,     0.30631,     0.30731,     0.30831,     0.30931,     0.31031,     0.31131,\n",
              "           0.31231,     0.31331,     0.31431,     0.31532,     0.31632,     0.31732,     0.31832,     0.31932,     0.32032,     0.32132,     0.32232,     0.32332,     0.32432,     0.32533,     0.32633,     0.32733,     0.32833,     0.32933,     0.33033,     0.33133,     0.33233,     0.33333,     0.33433,     0.33534,\n",
              "           0.33634,     0.33734,     0.33834,     0.33934,     0.34034,     0.34134,     0.34234,     0.34334,     0.34434,     0.34535,     0.34635,     0.34735,     0.34835,     0.34935,     0.35035,     0.35135,     0.35235,     0.35335,     0.35435,     0.35536,     0.35636,     0.35736,     0.35836,     0.35936,\n",
              "           0.36036,     0.36136,     0.36236,     0.36336,     0.36436,     0.36537,     0.36637,     0.36737,     0.36837,     0.36937,     0.37037,     0.37137,     0.37237,     0.37337,     0.37437,     0.37538,     0.37638,     0.37738,     0.37838,     0.37938,     0.38038,     0.38138,     0.38238,     0.38338,\n",
              "           0.38438,     0.38539,     0.38639,     0.38739,     0.38839,     0.38939,     0.39039,     0.39139,     0.39239,     0.39339,     0.39439,      0.3954,      0.3964,      0.3974,      0.3984,      0.3994,      0.4004,      0.4014,      0.4024,      0.4034,      0.4044,     0.40541,     0.40641,     0.40741,\n",
              "           0.40841,     0.40941,     0.41041,     0.41141,     0.41241,     0.41341,     0.41441,     0.41542,     0.41642,     0.41742,     0.41842,     0.41942,     0.42042,     0.42142,     0.42242,     0.42342,     0.42442,     0.42543,     0.42643,     0.42743,     0.42843,     0.42943,     0.43043,     0.43143,\n",
              "           0.43243,     0.43343,     0.43443,     0.43544,     0.43644,     0.43744,     0.43844,     0.43944,     0.44044,     0.44144,     0.44244,     0.44344,     0.44444,     0.44545,     0.44645,     0.44745,     0.44845,     0.44945,     0.45045,     0.45145,     0.45245,     0.45345,     0.45445,     0.45546,\n",
              "           0.45646,     0.45746,     0.45846,     0.45946,     0.46046,     0.46146,     0.46246,     0.46346,     0.46446,     0.46547,     0.46647,     0.46747,     0.46847,     0.46947,     0.47047,     0.47147,     0.47247,     0.47347,     0.47447,     0.47548,     0.47648,     0.47748,     0.47848,     0.47948,\n",
              "           0.48048,     0.48148,     0.48248,     0.48348,     0.48448,     0.48549,     0.48649,     0.48749,     0.48849,     0.48949,     0.49049,     0.49149,     0.49249,     0.49349,     0.49449,      0.4955,      0.4965,      0.4975,      0.4985,      0.4995,      0.5005,      0.5015,      0.5025,      0.5035,\n",
              "            0.5045,     0.50551,     0.50651,     0.50751,     0.50851,     0.50951,     0.51051,     0.51151,     0.51251,     0.51351,     0.51451,     0.51552,     0.51652,     0.51752,     0.51852,     0.51952,     0.52052,     0.52152,     0.52252,     0.52352,     0.52452,     0.52553,     0.52653,     0.52753,\n",
              "           0.52853,     0.52953,     0.53053,     0.53153,     0.53253,     0.53353,     0.53453,     0.53554,     0.53654,     0.53754,     0.53854,     0.53954,     0.54054,     0.54154,     0.54254,     0.54354,     0.54454,     0.54555,     0.54655,     0.54755,     0.54855,     0.54955,     0.55055,     0.55155,\n",
              "           0.55255,     0.55355,     0.55455,     0.55556,     0.55656,     0.55756,     0.55856,     0.55956,     0.56056,     0.56156,     0.56256,     0.56356,     0.56456,     0.56557,     0.56657,     0.56757,     0.56857,     0.56957,     0.57057,     0.57157,     0.57257,     0.57357,     0.57457,     0.57558,\n",
              "           0.57658,     0.57758,     0.57858,     0.57958,     0.58058,     0.58158,     0.58258,     0.58358,     0.58458,     0.58559,     0.58659,     0.58759,     0.58859,     0.58959,     0.59059,     0.59159,     0.59259,     0.59359,     0.59459,      0.5956,      0.5966,      0.5976,      0.5986,      0.5996,\n",
              "            0.6006,      0.6016,      0.6026,      0.6036,      0.6046,     0.60561,     0.60661,     0.60761,     0.60861,     0.60961,     0.61061,     0.61161,     0.61261,     0.61361,     0.61461,     0.61562,     0.61662,     0.61762,     0.61862,     0.61962,     0.62062,     0.62162,     0.62262,     0.62362,\n",
              "           0.62462,     0.62563,     0.62663,     0.62763,     0.62863,     0.62963,     0.63063,     0.63163,     0.63263,     0.63363,     0.63463,     0.63564,     0.63664,     0.63764,     0.63864,     0.63964,     0.64064,     0.64164,     0.64264,     0.64364,     0.64464,     0.64565,     0.64665,     0.64765,\n",
              "           0.64865,     0.64965,     0.65065,     0.65165,     0.65265,     0.65365,     0.65465,     0.65566,     0.65666,     0.65766,     0.65866,     0.65966,     0.66066,     0.66166,     0.66266,     0.66366,     0.66466,     0.66567,     0.66667,     0.66767,     0.66867,     0.66967,     0.67067,     0.67167,\n",
              "           0.67267,     0.67367,     0.67467,     0.67568,     0.67668,     0.67768,     0.67868,     0.67968,     0.68068,     0.68168,     0.68268,     0.68368,     0.68468,     0.68569,     0.68669,     0.68769,     0.68869,     0.68969,     0.69069,     0.69169,     0.69269,     0.69369,     0.69469,      0.6957,\n",
              "            0.6967,      0.6977,      0.6987,      0.6997,      0.7007,      0.7017,      0.7027,      0.7037,      0.7047,     0.70571,     0.70671,     0.70771,     0.70871,     0.70971,     0.71071,     0.71171,     0.71271,     0.71371,     0.71471,     0.71572,     0.71672,     0.71772,     0.71872,     0.71972,\n",
              "           0.72072,     0.72172,     0.72272,     0.72372,     0.72472,     0.72573,     0.72673,     0.72773,     0.72873,     0.72973,     0.73073,     0.73173,     0.73273,     0.73373,     0.73473,     0.73574,     0.73674,     0.73774,     0.73874,     0.73974,     0.74074,     0.74174,     0.74274,     0.74374,\n",
              "           0.74474,     0.74575,     0.74675,     0.74775,     0.74875,     0.74975,     0.75075,     0.75175,     0.75275,     0.75375,     0.75475,     0.75576,     0.75676,     0.75776,     0.75876,     0.75976,     0.76076,     0.76176,     0.76276,     0.76376,     0.76476,     0.76577,     0.76677,     0.76777,\n",
              "           0.76877,     0.76977,     0.77077,     0.77177,     0.77277,     0.77377,     0.77477,     0.77578,     0.77678,     0.77778,     0.77878,     0.77978,     0.78078,     0.78178,     0.78278,     0.78378,     0.78478,     0.78579,     0.78679,     0.78779,     0.78879,     0.78979,     0.79079,     0.79179,\n",
              "           0.79279,     0.79379,     0.79479,      0.7958,      0.7968,      0.7978,      0.7988,      0.7998,      0.8008,      0.8018,      0.8028,      0.8038,      0.8048,     0.80581,     0.80681,     0.80781,     0.80881,     0.80981,     0.81081,     0.81181,     0.81281,     0.81381,     0.81481,     0.81582,\n",
              "           0.81682,     0.81782,     0.81882,     0.81982,     0.82082,     0.82182,     0.82282,     0.82382,     0.82482,     0.82583,     0.82683,     0.82783,     0.82883,     0.82983,     0.83083,     0.83183,     0.83283,     0.83383,     0.83483,     0.83584,     0.83684,     0.83784,     0.83884,     0.83984,\n",
              "           0.84084,     0.84184,     0.84284,     0.84384,     0.84484,     0.84585,     0.84685,     0.84785,     0.84885,     0.84985,     0.85085,     0.85185,     0.85285,     0.85385,     0.85485,     0.85586,     0.85686,     0.85786,     0.85886,     0.85986,     0.86086,     0.86186,     0.86286,     0.86386,\n",
              "           0.86486,     0.86587,     0.86687,     0.86787,     0.86887,     0.86987,     0.87087,     0.87187,     0.87287,     0.87387,     0.87487,     0.87588,     0.87688,     0.87788,     0.87888,     0.87988,     0.88088,     0.88188,     0.88288,     0.88388,     0.88488,     0.88589,     0.88689,     0.88789,\n",
              "           0.88889,     0.88989,     0.89089,     0.89189,     0.89289,     0.89389,     0.89489,      0.8959,      0.8969,      0.8979,      0.8989,      0.8999,      0.9009,      0.9019,      0.9029,      0.9039,      0.9049,     0.90591,     0.90691,     0.90791,     0.90891,     0.90991,     0.91091,     0.91191,\n",
              "           0.91291,     0.91391,     0.91491,     0.91592,     0.91692,     0.91792,     0.91892,     0.91992,     0.92092,     0.92192,     0.92292,     0.92392,     0.92492,     0.92593,     0.92693,     0.92793,     0.92893,     0.92993,     0.93093,     0.93193,     0.93293,     0.93393,     0.93493,     0.93594,\n",
              "           0.93694,     0.93794,     0.93894,     0.93994,     0.94094,     0.94194,     0.94294,     0.94394,     0.94494,     0.94595,     0.94695,     0.94795,     0.94895,     0.94995,     0.95095,     0.95195,     0.95295,     0.95395,     0.95495,     0.95596,     0.95696,     0.95796,     0.95896,     0.95996,\n",
              "           0.96096,     0.96196,     0.96296,     0.96396,     0.96496,     0.96597,     0.96697,     0.96797,     0.96897,     0.96997,     0.97097,     0.97197,     0.97297,     0.97397,     0.97497,     0.97598,     0.97698,     0.97798,     0.97898,     0.97998,     0.98098,     0.98198,     0.98298,     0.98398,\n",
              "           0.98498,     0.98599,     0.98699,     0.98799,     0.98899,     0.98999,     0.99099,     0.99199,     0.99299,     0.99399,     0.99499,       0.996,       0.997,       0.998,       0.999,           1]), array([[          1,           1,           1,           1,           1,           1,           1,           1,           1,           1,           1,           1,           1,           1,           1,           1,           1,           1,           1,           1,           1,           1,           1,\n",
              "                  1,           1,           1,           1,           1,           1,           1,           1,           1,           1,           1,           1,           1,           1,           1,           1,           1,           1,           1,           1,           1,           1,           1,\n",
              "                  1,           1,           1,           1,           1,           1,           1,           1,           1,           1,           1,           1,           1,           1,           1,           1,           1,           1,           1,           1,           1,           1,           1,\n",
              "                  1,           1,           1,           1,           1,           1,           1,           1,           1,           1,           1,           1,           1,           1,           1,           1,           1,           1,           1,           1,           1,           1,           1,\n",
              "                  1,           1,           1,           1,           1,           1,           1,           1,           1,           1,           1,           1,           1,           1,           1,           1,           1,           1,           1,           1,           1,           1,           1,\n",
              "                  1,           1,           1,           1,           1,           1,           1,           1,           1,           1,           1,           1,           1,           1,           1,           1,           1,           1,           1,           1,           1,           1,           1,\n",
              "                  1,           1,           1,           1,           1,           1,           1,           1,           1,           1,           1,           1,           1,           1,           1,           1,           1,           1,           1,           1,           1,           1,           1,\n",
              "                  1,           1,           1,           1,           1,           1,           1,           1,           1,           1,           1,           1,           1,           1,           1,           1,           1,           1,           1,           1,           1,           1,           1,\n",
              "                  1,           1,           1,           1,           1,           1,           1,           1,           1,           1,           1,           1,           1,           1,           1,           1,           1,           1,           1,           1,           1,           1,           1,\n",
              "                  1,           1,           1,           1,           1,           1,           1,           1,           1,           1,           1,           1,           1,           1,           1,     0.98113,     0.98113,     0.98113,     0.98113,     0.98113,     0.98113,     0.98113,     0.98113,\n",
              "            0.98113,     0.98113,     0.98113,     0.98113,     0.98113,     0.98113,     0.98113,     0.98113,     0.98113,     0.98113,     0.98113,     0.98113,     0.98113,     0.98113,     0.98113,     0.98113,     0.98113,     0.98113,     0.98113,     0.98113,     0.98113,     0.98113,     0.98113,\n",
              "            0.98113,     0.98113,     0.98113,     0.98113,     0.98113,     0.98113,     0.98113,     0.98113,     0.98113,     0.98113,     0.98113,     0.98113,     0.98113,     0.98113,     0.98113,     0.98113,     0.98113,     0.98113,     0.98113,     0.98113,     0.98113,     0.98113,     0.98113,\n",
              "            0.98113,     0.98113,     0.98113,     0.98113,     0.98113,     0.98113,     0.98113,     0.98113,     0.98113,     0.98113,     0.98113,     0.98113,     0.98113,     0.98113,     0.98113,     0.98113,     0.98113,     0.98113,     0.98113,     0.98113,     0.98113,     0.98113,     0.98113,\n",
              "            0.98113,     0.98113,     0.98113,     0.98113,     0.98113,     0.98113,     0.98113,     0.98113,     0.98113,     0.98113,     0.98113,     0.98113,     0.98113,     0.98113,     0.98113,     0.98113,     0.98113,     0.98113,     0.98113,     0.98113,     0.98113,     0.98113,     0.98113,\n",
              "            0.98113,     0.98113,     0.98113,     0.98113,     0.98113,     0.98113,     0.98113,     0.98113,     0.98113,     0.98113,     0.98113,     0.98113,     0.98113,     0.98113,     0.98113,     0.98113,     0.98113,     0.98113,     0.98113,     0.98113,     0.98113,     0.98113,     0.98113,\n",
              "            0.98113,     0.98113,     0.98113,     0.98113,     0.98113,     0.98113,     0.98113,     0.98113,     0.98113,     0.98113,     0.98113,     0.98113,     0.98113,     0.98113,     0.98113,     0.98113,     0.97297,     0.97297,     0.97297,     0.97297,     0.97297,     0.97297,     0.97297,\n",
              "            0.97297,     0.97297,     0.97297,     0.97297,     0.97297,     0.97297,     0.97297,     0.97297,     0.97297,     0.97297,     0.97297,     0.97297,     0.97297,     0.97297,     0.97297,     0.97297,     0.97297,     0.97297,     0.97297,     0.97297,     0.97297,     0.97297,     0.97297,\n",
              "            0.97297,     0.97297,     0.97297,     0.97297,     0.97297,     0.97297,     0.97297,     0.97297,     0.97297,     0.97297,     0.97297,     0.97297,     0.97297,     0.97297,     0.97297,     0.97297,     0.97297,     0.97297,     0.97297,     0.97297,     0.97297,     0.97297,     0.97297,\n",
              "            0.97297,     0.97297,     0.97297,     0.97297,     0.97297,     0.97297,     0.97297,     0.97297,     0.97297,     0.97297,     0.97297,     0.97297,     0.97297,     0.97297,     0.97297,     0.97297,     0.97297,     0.97297,     0.97297,     0.97297,     0.97297,     0.97297,     0.97297,\n",
              "            0.97297,     0.97297,     0.97297,     0.97297,     0.97297,     0.97297,     0.97297,     0.97297,     0.97297,     0.97297,     0.97297,     0.97297,     0.97297,     0.97297,     0.97297,     0.97297,     0.97297,     0.97297,     0.97297,     0.97297,     0.97297,     0.97297,     0.97297,\n",
              "            0.97297,     0.97297,     0.97297,     0.97297,     0.97297,     0.97297,     0.97297,     0.97297,     0.97297,     0.97297,     0.97297,     0.97297,     0.97297,     0.97297,     0.97297,     0.97297,     0.97297,     0.97297,     0.97297,     0.97297,     0.97297,     0.97297,     0.97297,\n",
              "            0.97297,     0.97297,     0.97297,     0.97297,     0.97297,     0.97297,     0.97297,     0.97297,     0.97297,     0.97297,     0.97297,     0.97297,     0.97297,     0.97297,     0.97297,     0.97297,     0.97297,     0.95506,     0.95506,     0.95506,     0.95506,     0.95506,     0.95506,\n",
              "            0.95506,     0.95506,     0.95506,     0.95506,     0.95506,     0.95506,     0.95506,     0.95506,     0.95506,     0.95506,     0.95506,     0.95506,     0.95506,     0.95506,     0.95506,     0.95506,     0.95506,     0.95506,     0.95506,     0.95506,     0.95506,     0.95506,     0.95506,\n",
              "            0.95506,     0.95506,     0.95506,     0.95506,     0.95506,     0.95506,     0.95506,     0.95506,     0.95506,     0.95506,     0.95506,     0.95506,     0.95506,     0.95506,     0.95506,     0.95506,     0.95506,     0.95506,     0.95506,     0.95506,     0.95506,     0.95506,     0.95506,\n",
              "            0.95506,     0.95506,     0.95506,     0.95506,     0.95506,     0.95506,     0.95506,     0.95506,     0.95506,     0.95506,     0.95506,     0.95506,     0.95506,     0.95506,     0.95506,     0.95506,     0.95506,     0.95506,     0.95506,     0.95506,     0.95506,     0.95506,     0.95506,\n",
              "            0.95506,     0.95506,     0.95506,     0.95506,     0.95506,     0.95506,     0.95506,     0.95506,     0.95506,     0.95506,     0.95506,     0.95506,     0.95506,     0.95506,     0.95506,     0.94565,     0.94565,     0.94565,     0.94565,     0.94565,     0.94565,     0.94565,     0.94565,\n",
              "            0.94565,     0.94565,     0.94565,     0.94565,     0.94565,     0.94565,     0.94262,     0.94262,     0.94262,     0.94262,     0.94262,     0.94262,     0.94262,     0.94262,     0.94262,     0.94262,     0.94262,     0.94262,     0.94262,     0.94262,     0.94262,     0.94262,     0.94262,\n",
              "            0.94262,     0.94262,     0.94262,     0.94262,     0.94262,     0.94262,     0.94262,     0.94262,     0.94262,     0.94262,     0.94262,     0.94262,     0.94262,     0.94262,     0.94262,     0.94262,     0.94262,     0.94262,     0.94262,     0.94262,     0.94262,     0.94262,     0.94262,\n",
              "            0.94262,     0.94262,     0.94262,     0.94262,     0.94262,     0.94262,     0.94262,     0.94262,     0.94262,     0.94262,     0.94262,     0.94262,     0.94262,     0.94262,     0.94262,     0.94262,     0.94262,     0.94262,     0.94262,     0.94262,     0.94262,     0.94262,     0.94262,\n",
              "            0.94262,     0.94262,     0.94262,     0.94262,     0.94262,     0.94262,     0.94262,     0.94262,     0.94262,     0.94262,     0.94262,     0.94262,     0.94262,     0.94262,     0.94262,     0.94262,     0.94262,     0.94262,     0.94262,     0.94262,     0.94262,     0.94262,     0.94262,\n",
              "            0.94262,     0.94262,     0.94262,     0.94262,     0.94262,     0.94262,     0.94262,     0.94262,     0.94262,     0.94262,     0.94262,     0.94262,     0.94262,     0.94262,     0.94262,     0.94262,     0.94262,     0.94262,     0.94262,     0.94262,     0.94262,     0.94262,     0.94262,\n",
              "            0.94262,     0.94262,     0.94262,     0.94262,     0.94262,     0.94262,     0.94262,     0.94262,     0.94262,     0.94262,     0.94262,     0.94262,     0.94262,     0.94262,     0.94262,     0.94262,     0.94262,     0.94262,     0.94262,     0.94262,     0.94262,     0.94262,     0.94262,\n",
              "            0.94262,     0.94262,     0.94262,     0.94262,     0.94262,     0.94262,     0.94262,     0.94262,     0.94262,     0.94262,     0.94262,     0.94262,     0.94262,     0.94262,     0.94262,     0.94262,     0.94262,     0.94262,     0.94262,     0.94262,     0.94262,     0.94262,     0.94262,\n",
              "            0.94262,     0.94262,     0.94262,     0.94262,     0.94262,     0.94262,     0.94262,     0.94262,     0.94262,     0.94262,     0.94262,     0.94262,     0.94262,     0.94262,     0.94262,     0.94262,     0.94262,     0.94262,     0.94262,     0.94262,     0.94262,     0.94262,     0.94262,\n",
              "            0.94262,     0.94262,     0.94262,     0.94262,     0.94262,     0.94262,     0.94262,     0.94262,     0.94262,     0.94262,     0.94262,     0.94262,     0.94262,     0.94262,     0.94262,     0.94262,     0.93651,     0.93651,     0.93651,     0.93651,     0.93651,     0.93651,     0.93651,\n",
              "            0.93651,     0.93651,     0.93651,     0.93651,     0.93651,     0.93651,     0.93651,     0.93651,     0.93651,     0.93651,     0.93651,     0.93651,     0.93651,     0.93651,     0.93182,     0.93182,     0.93182,     0.93182,     0.93182,     0.93182,     0.93182,     0.93182,     0.93182,\n",
              "            0.93182,     0.93182,     0.93182,     0.93182,     0.93182,     0.93182,     0.93182,     0.93182,     0.93182,     0.93182,     0.93182,     0.93182,     0.93182,     0.93182,     0.93182,     0.93182,     0.93182,     0.93182,     0.93182,     0.93182,     0.93182,     0.93182,     0.93182,\n",
              "            0.93182,     0.93182,     0.93182,     0.92537,     0.92537,     0.92537,     0.92537,     0.92537,     0.92537,     0.92537,     0.91971,     0.91971,     0.91971,     0.91971,     0.91971,     0.91971,     0.91971,     0.91971,     0.91971,     0.91971,     0.91971,     0.91971,     0.91971,\n",
              "            0.91971,     0.91367,     0.91367,     0.91367,     0.91367,     0.91367,     0.91367,     0.91367,      0.9078,      0.9078,      0.9078,      0.9078,      0.9078,      0.9078,     0.90345,     0.90345,     0.90345,     0.90345,     0.90345,     0.90345,     0.90345,     0.90345,     0.90345,\n",
              "            0.90345,     0.90345,     0.90345,     0.90345,     0.90345,     0.90345,     0.90345,     0.90345,     0.90345,     0.90345,     0.90345,     0.90345,     0.89796,     0.89796,     0.89796,     0.89796,     0.89796,     0.89796,     0.89796,     0.85897,     0.85897,     0.85897,     0.85897,\n",
              "            0.85897,     0.85897,     0.85897,     0.85897,     0.85897,     0.85897,     0.85897,     0.85897,     0.85897,     0.85897,     0.81818,     0.81818,     0.81818,     0.81818,     0.81818,     0.81818,     0.81818,      0.7907,      0.7907,      0.7907,      0.7907,      0.7907,      0.7907,\n",
              "             0.7907,     0.77528,     0.77528,     0.77528,     0.77528,     0.77528,     0.77528,     0.77528,     0.77528,     0.77528,     0.77528,     0.77528,     0.77528,     0.77528,     0.77528,     0.63182,     0.63182,     0.63182,     0.63182,     0.63182,     0.63182,     0.63182,     0.48486,\n",
              "             0.4706,     0.45634,     0.44208,     0.42782,     0.41356,     0.39929,     0.38503,     0.37077,     0.35651,     0.34225,     0.32799,     0.31373,     0.29947,     0.28521,     0.27095,     0.25669,     0.24243,     0.22817,     0.21391,     0.19965,     0.18539,     0.17113,     0.15687,\n",
              "            0.14261,     0.12834,     0.11408,    0.099824,    0.085563,    0.071303,    0.057042,    0.042782,    0.028521,    0.014261,           0]]), 'Recall', 'Precision'], [array([          0,    0.001001,    0.002002,    0.003003,    0.004004,    0.005005,    0.006006,    0.007007,    0.008008,    0.009009,     0.01001,    0.011011,    0.012012,    0.013013,    0.014014,    0.015015,    0.016016,    0.017017,    0.018018,    0.019019,     0.02002,    0.021021,    0.022022,    0.023023,\n",
              "          0.024024,    0.025025,    0.026026,    0.027027,    0.028028,    0.029029,     0.03003,    0.031031,    0.032032,    0.033033,    0.034034,    0.035035,    0.036036,    0.037037,    0.038038,    0.039039,     0.04004,    0.041041,    0.042042,    0.043043,    0.044044,    0.045045,    0.046046,    0.047047,\n",
              "          0.048048,    0.049049,     0.05005,    0.051051,    0.052052,    0.053053,    0.054054,    0.055055,    0.056056,    0.057057,    0.058058,    0.059059,     0.06006,    0.061061,    0.062062,    0.063063,    0.064064,    0.065065,    0.066066,    0.067067,    0.068068,    0.069069,     0.07007,    0.071071,\n",
              "          0.072072,    0.073073,    0.074074,    0.075075,    0.076076,    0.077077,    0.078078,    0.079079,     0.08008,    0.081081,    0.082082,    0.083083,    0.084084,    0.085085,    0.086086,    0.087087,    0.088088,    0.089089,     0.09009,    0.091091,    0.092092,    0.093093,    0.094094,    0.095095,\n",
              "          0.096096,    0.097097,    0.098098,    0.099099,      0.1001,      0.1011,      0.1021,      0.1031,      0.1041,     0.10511,     0.10611,     0.10711,     0.10811,     0.10911,     0.11011,     0.11111,     0.11211,     0.11311,     0.11411,     0.11512,     0.11612,     0.11712,     0.11812,     0.11912,\n",
              "           0.12012,     0.12112,     0.12212,     0.12312,     0.12412,     0.12513,     0.12613,     0.12713,     0.12813,     0.12913,     0.13013,     0.13113,     0.13213,     0.13313,     0.13413,     0.13514,     0.13614,     0.13714,     0.13814,     0.13914,     0.14014,     0.14114,     0.14214,     0.14314,\n",
              "           0.14414,     0.14515,     0.14615,     0.14715,     0.14815,     0.14915,     0.15015,     0.15115,     0.15215,     0.15315,     0.15415,     0.15516,     0.15616,     0.15716,     0.15816,     0.15916,     0.16016,     0.16116,     0.16216,     0.16316,     0.16416,     0.16517,     0.16617,     0.16717,\n",
              "           0.16817,     0.16917,     0.17017,     0.17117,     0.17217,     0.17317,     0.17417,     0.17518,     0.17618,     0.17718,     0.17818,     0.17918,     0.18018,     0.18118,     0.18218,     0.18318,     0.18418,     0.18519,     0.18619,     0.18719,     0.18819,     0.18919,     0.19019,     0.19119,\n",
              "           0.19219,     0.19319,     0.19419,      0.1952,      0.1962,      0.1972,      0.1982,      0.1992,      0.2002,      0.2012,      0.2022,      0.2032,      0.2042,     0.20521,     0.20621,     0.20721,     0.20821,     0.20921,     0.21021,     0.21121,     0.21221,     0.21321,     0.21421,     0.21522,\n",
              "           0.21622,     0.21722,     0.21822,     0.21922,     0.22022,     0.22122,     0.22222,     0.22322,     0.22422,     0.22523,     0.22623,     0.22723,     0.22823,     0.22923,     0.23023,     0.23123,     0.23223,     0.23323,     0.23423,     0.23524,     0.23624,     0.23724,     0.23824,     0.23924,\n",
              "           0.24024,     0.24124,     0.24224,     0.24324,     0.24424,     0.24525,     0.24625,     0.24725,     0.24825,     0.24925,     0.25025,     0.25125,     0.25225,     0.25325,     0.25425,     0.25526,     0.25626,     0.25726,     0.25826,     0.25926,     0.26026,     0.26126,     0.26226,     0.26326,\n",
              "           0.26426,     0.26527,     0.26627,     0.26727,     0.26827,     0.26927,     0.27027,     0.27127,     0.27227,     0.27327,     0.27427,     0.27528,     0.27628,     0.27728,     0.27828,     0.27928,     0.28028,     0.28128,     0.28228,     0.28328,     0.28428,     0.28529,     0.28629,     0.28729,\n",
              "           0.28829,     0.28929,     0.29029,     0.29129,     0.29229,     0.29329,     0.29429,      0.2953,      0.2963,      0.2973,      0.2983,      0.2993,      0.3003,      0.3013,      0.3023,      0.3033,      0.3043,     0.30531,     0.30631,     0.30731,     0.30831,     0.30931,     0.31031,     0.31131,\n",
              "           0.31231,     0.31331,     0.31431,     0.31532,     0.31632,     0.31732,     0.31832,     0.31932,     0.32032,     0.32132,     0.32232,     0.32332,     0.32432,     0.32533,     0.32633,     0.32733,     0.32833,     0.32933,     0.33033,     0.33133,     0.33233,     0.33333,     0.33433,     0.33534,\n",
              "           0.33634,     0.33734,     0.33834,     0.33934,     0.34034,     0.34134,     0.34234,     0.34334,     0.34434,     0.34535,     0.34635,     0.34735,     0.34835,     0.34935,     0.35035,     0.35135,     0.35235,     0.35335,     0.35435,     0.35536,     0.35636,     0.35736,     0.35836,     0.35936,\n",
              "           0.36036,     0.36136,     0.36236,     0.36336,     0.36436,     0.36537,     0.36637,     0.36737,     0.36837,     0.36937,     0.37037,     0.37137,     0.37237,     0.37337,     0.37437,     0.37538,     0.37638,     0.37738,     0.37838,     0.37938,     0.38038,     0.38138,     0.38238,     0.38338,\n",
              "           0.38438,     0.38539,     0.38639,     0.38739,     0.38839,     0.38939,     0.39039,     0.39139,     0.39239,     0.39339,     0.39439,      0.3954,      0.3964,      0.3974,      0.3984,      0.3994,      0.4004,      0.4014,      0.4024,      0.4034,      0.4044,     0.40541,     0.40641,     0.40741,\n",
              "           0.40841,     0.40941,     0.41041,     0.41141,     0.41241,     0.41341,     0.41441,     0.41542,     0.41642,     0.41742,     0.41842,     0.41942,     0.42042,     0.42142,     0.42242,     0.42342,     0.42442,     0.42543,     0.42643,     0.42743,     0.42843,     0.42943,     0.43043,     0.43143,\n",
              "           0.43243,     0.43343,     0.43443,     0.43544,     0.43644,     0.43744,     0.43844,     0.43944,     0.44044,     0.44144,     0.44244,     0.44344,     0.44444,     0.44545,     0.44645,     0.44745,     0.44845,     0.44945,     0.45045,     0.45145,     0.45245,     0.45345,     0.45445,     0.45546,\n",
              "           0.45646,     0.45746,     0.45846,     0.45946,     0.46046,     0.46146,     0.46246,     0.46346,     0.46446,     0.46547,     0.46647,     0.46747,     0.46847,     0.46947,     0.47047,     0.47147,     0.47247,     0.47347,     0.47447,     0.47548,     0.47648,     0.47748,     0.47848,     0.47948,\n",
              "           0.48048,     0.48148,     0.48248,     0.48348,     0.48448,     0.48549,     0.48649,     0.48749,     0.48849,     0.48949,     0.49049,     0.49149,     0.49249,     0.49349,     0.49449,      0.4955,      0.4965,      0.4975,      0.4985,      0.4995,      0.5005,      0.5015,      0.5025,      0.5035,\n",
              "            0.5045,     0.50551,     0.50651,     0.50751,     0.50851,     0.50951,     0.51051,     0.51151,     0.51251,     0.51351,     0.51451,     0.51552,     0.51652,     0.51752,     0.51852,     0.51952,     0.52052,     0.52152,     0.52252,     0.52352,     0.52452,     0.52553,     0.52653,     0.52753,\n",
              "           0.52853,     0.52953,     0.53053,     0.53153,     0.53253,     0.53353,     0.53453,     0.53554,     0.53654,     0.53754,     0.53854,     0.53954,     0.54054,     0.54154,     0.54254,     0.54354,     0.54454,     0.54555,     0.54655,     0.54755,     0.54855,     0.54955,     0.55055,     0.55155,\n",
              "           0.55255,     0.55355,     0.55455,     0.55556,     0.55656,     0.55756,     0.55856,     0.55956,     0.56056,     0.56156,     0.56256,     0.56356,     0.56456,     0.56557,     0.56657,     0.56757,     0.56857,     0.56957,     0.57057,     0.57157,     0.57257,     0.57357,     0.57457,     0.57558,\n",
              "           0.57658,     0.57758,     0.57858,     0.57958,     0.58058,     0.58158,     0.58258,     0.58358,     0.58458,     0.58559,     0.58659,     0.58759,     0.58859,     0.58959,     0.59059,     0.59159,     0.59259,     0.59359,     0.59459,      0.5956,      0.5966,      0.5976,      0.5986,      0.5996,\n",
              "            0.6006,      0.6016,      0.6026,      0.6036,      0.6046,     0.60561,     0.60661,     0.60761,     0.60861,     0.60961,     0.61061,     0.61161,     0.61261,     0.61361,     0.61461,     0.61562,     0.61662,     0.61762,     0.61862,     0.61962,     0.62062,     0.62162,     0.62262,     0.62362,\n",
              "           0.62462,     0.62563,     0.62663,     0.62763,     0.62863,     0.62963,     0.63063,     0.63163,     0.63263,     0.63363,     0.63463,     0.63564,     0.63664,     0.63764,     0.63864,     0.63964,     0.64064,     0.64164,     0.64264,     0.64364,     0.64464,     0.64565,     0.64665,     0.64765,\n",
              "           0.64865,     0.64965,     0.65065,     0.65165,     0.65265,     0.65365,     0.65465,     0.65566,     0.65666,     0.65766,     0.65866,     0.65966,     0.66066,     0.66166,     0.66266,     0.66366,     0.66466,     0.66567,     0.66667,     0.66767,     0.66867,     0.66967,     0.67067,     0.67167,\n",
              "           0.67267,     0.67367,     0.67467,     0.67568,     0.67668,     0.67768,     0.67868,     0.67968,     0.68068,     0.68168,     0.68268,     0.68368,     0.68468,     0.68569,     0.68669,     0.68769,     0.68869,     0.68969,     0.69069,     0.69169,     0.69269,     0.69369,     0.69469,      0.6957,\n",
              "            0.6967,      0.6977,      0.6987,      0.6997,      0.7007,      0.7017,      0.7027,      0.7037,      0.7047,     0.70571,     0.70671,     0.70771,     0.70871,     0.70971,     0.71071,     0.71171,     0.71271,     0.71371,     0.71471,     0.71572,     0.71672,     0.71772,     0.71872,     0.71972,\n",
              "           0.72072,     0.72172,     0.72272,     0.72372,     0.72472,     0.72573,     0.72673,     0.72773,     0.72873,     0.72973,     0.73073,     0.73173,     0.73273,     0.73373,     0.73473,     0.73574,     0.73674,     0.73774,     0.73874,     0.73974,     0.74074,     0.74174,     0.74274,     0.74374,\n",
              "           0.74474,     0.74575,     0.74675,     0.74775,     0.74875,     0.74975,     0.75075,     0.75175,     0.75275,     0.75375,     0.75475,     0.75576,     0.75676,     0.75776,     0.75876,     0.75976,     0.76076,     0.76176,     0.76276,     0.76376,     0.76476,     0.76577,     0.76677,     0.76777,\n",
              "           0.76877,     0.76977,     0.77077,     0.77177,     0.77277,     0.77377,     0.77477,     0.77578,     0.77678,     0.77778,     0.77878,     0.77978,     0.78078,     0.78178,     0.78278,     0.78378,     0.78478,     0.78579,     0.78679,     0.78779,     0.78879,     0.78979,     0.79079,     0.79179,\n",
              "           0.79279,     0.79379,     0.79479,      0.7958,      0.7968,      0.7978,      0.7988,      0.7998,      0.8008,      0.8018,      0.8028,      0.8038,      0.8048,     0.80581,     0.80681,     0.80781,     0.80881,     0.80981,     0.81081,     0.81181,     0.81281,     0.81381,     0.81481,     0.81582,\n",
              "           0.81682,     0.81782,     0.81882,     0.81982,     0.82082,     0.82182,     0.82282,     0.82382,     0.82482,     0.82583,     0.82683,     0.82783,     0.82883,     0.82983,     0.83083,     0.83183,     0.83283,     0.83383,     0.83483,     0.83584,     0.83684,     0.83784,     0.83884,     0.83984,\n",
              "           0.84084,     0.84184,     0.84284,     0.84384,     0.84484,     0.84585,     0.84685,     0.84785,     0.84885,     0.84985,     0.85085,     0.85185,     0.85285,     0.85385,     0.85485,     0.85586,     0.85686,     0.85786,     0.85886,     0.85986,     0.86086,     0.86186,     0.86286,     0.86386,\n",
              "           0.86486,     0.86587,     0.86687,     0.86787,     0.86887,     0.86987,     0.87087,     0.87187,     0.87287,     0.87387,     0.87487,     0.87588,     0.87688,     0.87788,     0.87888,     0.87988,     0.88088,     0.88188,     0.88288,     0.88388,     0.88488,     0.88589,     0.88689,     0.88789,\n",
              "           0.88889,     0.88989,     0.89089,     0.89189,     0.89289,     0.89389,     0.89489,      0.8959,      0.8969,      0.8979,      0.8989,      0.8999,      0.9009,      0.9019,      0.9029,      0.9039,      0.9049,     0.90591,     0.90691,     0.90791,     0.90891,     0.90991,     0.91091,     0.91191,\n",
              "           0.91291,     0.91391,     0.91491,     0.91592,     0.91692,     0.91792,     0.91892,     0.91992,     0.92092,     0.92192,     0.92292,     0.92392,     0.92492,     0.92593,     0.92693,     0.92793,     0.92893,     0.92993,     0.93093,     0.93193,     0.93293,     0.93393,     0.93493,     0.93594,\n",
              "           0.93694,     0.93794,     0.93894,     0.93994,     0.94094,     0.94194,     0.94294,     0.94394,     0.94494,     0.94595,     0.94695,     0.94795,     0.94895,     0.94995,     0.95095,     0.95195,     0.95295,     0.95395,     0.95495,     0.95596,     0.95696,     0.95796,     0.95896,     0.95996,\n",
              "           0.96096,     0.96196,     0.96296,     0.96396,     0.96496,     0.96597,     0.96697,     0.96797,     0.96897,     0.96997,     0.97097,     0.97197,     0.97297,     0.97397,     0.97497,     0.97598,     0.97698,     0.97798,     0.97898,     0.97998,     0.98098,     0.98198,     0.98298,     0.98398,\n",
              "           0.98498,     0.98599,     0.98699,     0.98799,     0.98899,     0.98999,     0.99099,     0.99199,     0.99299,     0.99399,     0.99499,       0.996,       0.997,       0.998,       0.999,           1]), array([[    0.65412,     0.65412,     0.70294,     0.72706,     0.75317,      0.7624,     0.76626,     0.77393,     0.78682,     0.78856,     0.79769,      0.8106,     0.82037,     0.82857,     0.83368,     0.83973,     0.84133,      0.8491,     0.85078,     0.85421,     0.85678,     0.85054,     0.85234,\n",
              "            0.85718,     0.85975,     0.86207,     0.86578,     0.86889,     0.87017,     0.87149,     0.87289,     0.87048,     0.87497,       0.878,     0.87901,     0.87947,     0.87993,     0.88039,     0.88085,      0.8813,      0.8864,     0.89115,     0.89264,     0.89098,     0.88951,     0.88888,\n",
              "            0.88825,     0.88762,     0.88699,     0.88636,     0.88606,     0.88664,     0.88721,     0.88778,     0.88835,      0.8892,     0.89508,     0.89576,     0.89644,     0.89712,      0.8978,     0.89806,      0.8982,     0.89834,     0.89848,     0.89861,     0.89875,     0.89889,     0.89902,\n",
              "            0.89916,      0.8993,     0.89943,     0.89957,     0.89971,     0.89985,     0.89998,     0.90012,     0.90026,     0.90039,     0.90053,     0.90067,      0.9008,     0.90094,     0.90159,     0.90308,     0.90416,     0.90433,      0.9045,     0.90467,     0.90485,     0.90502,     0.90519,\n",
              "            0.90536,     0.90553,      0.9057,     0.90587,     0.90604,     0.90621,     0.90638,     0.90655,     0.90672,     0.90689,     0.90706,     0.90716,     0.90637,     0.90557,     0.90478,     0.90399,     0.90351,     0.90369,     0.90388,     0.90407,     0.90425,     0.90444,     0.90462,\n",
              "            0.90481,       0.905,     0.90518,     0.90537,     0.90555,     0.90574,     0.90592,     0.90611,     0.90629,     0.90648,     0.90643,     0.90614,     0.90584,     0.90555,     0.90526,     0.90496,     0.90467,     0.90438,     0.90408,     0.90379,     0.90349,      0.9032,     0.90291,\n",
              "            0.90219,     0.90115,      0.9001,     0.89905,     0.89885,     0.89873,     0.89861,     0.89849,     0.89837,     0.89825,     0.89813,     0.89801,     0.89789,     0.89777,     0.89765,     0.89753,     0.89741,     0.89729,     0.89717,     0.89705,     0.89693,     0.89681,     0.89669,\n",
              "            0.89657,     0.89645,     0.89633,     0.89621,     0.89609,     0.89597,     0.89585,     0.89573,     0.89561,     0.89549,     0.89537,     0.89525,     0.89512,     0.89676,     0.89816,     0.89783,     0.89749,     0.89716,     0.89683,     0.89649,     0.89616,     0.89582,     0.89549,\n",
              "            0.89515,     0.89482,     0.89448,     0.89481,     0.89547,     0.89614,      0.8968,     0.89746,     0.89695,     0.89631,     0.89567,     0.89502,     0.89438,     0.89374,     0.89673,      0.8958,     0.89488,     0.89396,     0.89303,     0.89279,     0.89271,     0.89263,     0.89255,\n",
              "            0.89247,     0.89239,     0.89231,     0.89223,     0.89215,     0.89207,     0.89199,     0.89191,     0.89183,     0.89175,     0.89167,     0.89159,     0.89151,     0.89143,     0.89134,     0.89126,     0.89118,      0.8911,     0.89102,     0.89094,     0.89086,     0.89078,      0.8907,\n",
              "            0.89062,     0.89054,     0.89046,     0.89038,      0.8903,     0.89022,     0.89014,     0.89006,     0.88998,     0.88989,     0.88981,     0.88973,     0.88965,     0.88957,     0.88949,     0.88941,     0.88933,     0.88925,     0.88917,     0.88909,     0.88901,     0.88893,     0.88904,\n",
              "            0.88933,     0.88962,      0.8899,     0.89019,     0.89047,     0.89076,     0.89104,     0.89133,     0.89161,     0.89189,     0.89207,     0.89201,     0.89195,     0.89189,     0.89183,     0.89177,     0.89172,     0.89166,      0.8916,     0.89154,     0.89148,     0.89142,     0.89136,\n",
              "            0.89131,     0.89125,     0.89119,     0.89113,     0.89107,     0.89101,     0.89095,     0.89089,     0.89084,     0.89078,     0.89072,     0.89066,      0.8906,     0.89054,     0.89048,     0.89042,     0.89037,     0.89031,     0.89025,     0.89019,     0.89013,     0.89007,     0.89001,\n",
              "            0.88995,      0.8899,     0.88984,     0.88978,     0.88972,     0.88966,      0.8896,     0.88954,     0.88948,     0.88943,     0.88937,     0.88931,     0.88925,     0.88919,     0.88913,     0.88907,     0.88901,     0.88895,      0.8889,     0.88884,     0.88878,     0.88872,     0.88866,\n",
              "             0.8886,     0.88854,     0.88848,     0.88842,     0.88837,     0.88831,     0.88825,     0.88819,     0.88813,     0.88811,      0.8882,     0.88828,     0.88837,     0.88846,     0.88854,     0.88863,     0.88872,      0.8888,     0.88889,     0.88898,     0.88906,     0.88915,     0.88923,\n",
              "            0.88932,     0.88941,     0.88949,     0.88958,     0.88967,     0.88975,     0.88984,     0.88992,     0.89001,      0.8901,     0.89018,     0.89027,     0.89036,     0.89044,     0.89053,     0.89061,      0.8907,     0.89079,     0.89087,     0.89096,     0.89104,     0.89113,     0.89122,\n",
              "             0.8913,     0.89106,      0.8908,     0.89054,     0.89028,     0.89003,     0.88977,     0.88951,     0.88925,     0.88899,     0.88873,     0.88848,     0.88822,     0.88796,      0.8877,     0.88744,     0.88702,      0.8863,     0.88557,     0.88485,     0.88413,      0.8834,     0.88273,\n",
              "            0.88209,     0.88145,      0.8808,     0.88016,     0.87951,      0.8789,     0.87836,     0.87782,     0.87727,     0.87673,     0.87618,     0.87563,     0.87509,     0.87481,     0.87458,     0.87435,     0.87412,     0.87389,     0.87366,     0.87343,      0.8732,     0.87297,     0.87274,\n",
              "            0.87251,     0.87228,     0.87205,     0.87182,     0.87159,     0.87136,     0.87113,      0.8709,     0.87107,     0.87135,     0.87164,     0.87192,      0.8722,     0.87248,     0.87276,     0.87304,     0.87332,     0.87361,     0.87389,     0.87396,     0.87363,     0.87329,     0.87296,\n",
              "            0.87262,     0.87228,     0.87195,     0.87161,     0.87127,     0.87094,      0.8706,     0.87026,     0.86993,     0.86969,     0.86948,     0.86926,     0.86904,     0.86882,      0.8686,     0.86838,     0.86817,     0.86795,     0.86773,     0.86751,     0.86729,     0.86707,     0.86685,\n",
              "            0.86663,     0.86641,     0.86619,     0.86597,     0.86575,       0.865,     0.86391,     0.86282,     0.86173,     0.86159,     0.86183,     0.86207,     0.86231,     0.86255,     0.86278,     0.86302,     0.86326,     0.86349,     0.86373,     0.86397,      0.8642,     0.86444,     0.86033,\n",
              "             0.8596,     0.85886,     0.85812,     0.85739,     0.85665,     0.85601,     0.85579,     0.85557,     0.85535,     0.85513,      0.8549,     0.85468,     0.85446,     0.85423,     0.85401,     0.85379,     0.85357,     0.85334,     0.85312,      0.8529,     0.85267,     0.85245,     0.85223,\n",
              "              0.852,     0.85178,     0.85161,     0.85146,     0.85131,     0.85116,     0.85101,     0.85086,     0.85071,     0.85056,     0.85041,     0.85026,     0.85011,     0.84996,     0.84981,     0.84966,     0.84951,     0.84936,     0.84921,     0.84906,     0.84891,     0.84876,     0.84862,\n",
              "            0.84847,     0.84832,     0.84816,     0.84801,     0.84786,     0.84771,     0.84756,     0.84741,     0.84714,     0.84668,     0.84623,     0.84578,     0.84533,     0.84487,     0.84442,     0.84397,     0.84351,     0.84306,     0.84215,     0.84101,     0.83987,     0.83873,      0.8383,\n",
              "            0.83808,     0.83787,     0.83766,     0.83744,     0.83723,     0.83702,      0.8368,     0.83659,     0.83638,     0.83616,     0.83595,     0.83573,     0.83552,     0.83531,     0.83509,     0.83488,     0.83466,     0.83445,     0.83424,     0.83402,     0.83352,     0.83294,     0.83236,\n",
              "            0.83178,      0.8312,     0.83062,     0.83004,     0.82946,     0.82258,     0.82019,     0.81703,     0.81558,     0.81541,     0.81523,     0.81506,     0.81488,      0.8147,     0.81453,     0.81435,     0.81417,       0.814,     0.81382,     0.81364,     0.81346,     0.81329,     0.81311,\n",
              "            0.81293,     0.81276,     0.81258,      0.8124,     0.81222,     0.81205,     0.81187,     0.81169,     0.81151,     0.81134,     0.81116,       0.811,     0.81091,     0.81082,     0.81072,     0.81063,     0.81054,     0.81045,     0.81036,     0.81026,     0.81017,     0.81008,     0.80999,\n",
              "            0.80989,      0.8098,     0.80971,     0.80962,     0.80952,     0.80943,     0.80934,     0.80925,     0.80915,     0.80906,     0.80897,     0.80888,     0.80878,     0.80869,      0.8086,      0.8085,     0.80841,     0.80832,     0.80823,     0.80813,     0.80804,     0.80795,     0.80786,\n",
              "            0.80776,     0.80767,     0.80758,     0.80748,     0.80739,      0.8073,     0.80721,     0.80711,     0.80702,     0.80693,     0.80683,     0.80674,     0.80665,     0.80656,     0.80646,     0.80637,     0.80626,     0.80614,     0.80601,     0.80588,     0.80576,     0.80563,     0.80551,\n",
              "            0.80538,     0.80525,     0.80513,       0.805,     0.80488,     0.80475,     0.80462,      0.8045,     0.80437,     0.80425,     0.80412,     0.80399,     0.80387,     0.80374,     0.80362,     0.80349,     0.80336,     0.80324,     0.80311,     0.80299,     0.80286,     0.80273,     0.80261,\n",
              "            0.80248,     0.80235,     0.80223,      0.8021,     0.80197,     0.80185,     0.80172,     0.80159,     0.80131,     0.80101,     0.80072,     0.80042,     0.80012,     0.79983,     0.79953,     0.79924,     0.79894,     0.79864,     0.79834,     0.79805,     0.79775,     0.79745,     0.79716,\n",
              "            0.79686,     0.79617,     0.79541,     0.79466,      0.7939,     0.79314,     0.79238,      0.7915,     0.79051,     0.78951,     0.78852,     0.78752,     0.78506,     0.77768,     0.77984,     0.77811,     0.76967,     0.76622,     0.75467,     0.75401,     0.75335,     0.75268,     0.75202,\n",
              "            0.75135,     0.75069,     0.75002,     0.74654,     0.74386,     0.74206,     0.74026,      0.7348,     0.73586,     0.73692,      0.7295,     0.72891,     0.72517,     0.71026,       0.695,     0.69106,     0.68709,      0.6831,     0.67909,     0.67681,     0.67479,     0.67276,     0.66879,\n",
              "            0.66469,     0.66056,      0.6564,     0.65569,     0.65997,     0.64765,     0.64336,     0.63457,     0.63311,     0.63165,     0.63019,     0.62147,     0.61701,      0.6059,     0.60056,      0.5739,     0.56912,     0.53551,     0.52573,     0.52683,     0.52791,     0.52282,     0.51766,\n",
              "            0.49705,     0.49171,     0.46056,     0.44563,     0.43991,     0.43415,     0.42999,      0.4265,     0.42299,     0.41946,     0.41592,     0.41041,     0.38668,     0.38052,     0.36213,     0.36274,     0.36333,     0.35118,     0.33507,      0.3057,     0.30161,     0.29749,     0.29168,\n",
              "            0.26354,     0.25334,     0.24608,     0.22529,     0.18528,     0.18058,     0.17585,      0.1711,     0.16633,     0.16153,      0.1567,     0.14886,      0.1277,      0.1227,     0.11767,     0.10243,     0.09958,    0.096719,     0.09385,    0.089574,    0.084364,    0.079376,    0.075617,\n",
              "           0.071844,    0.068056,    0.048974,    0.042176,     0.04011,    0.039228,    0.038345,    0.037461,    0.036576,     0.03569,    0.034804,    0.033917,    0.033029,     0.03214,     0.03125,     0.03036,    0.029469,    0.028577,    0.027684,    0.017946,           0,           0,           0,\n",
              "                  0,           0,           0,           0,           0,           0,           0,           0,           0,           0,           0,           0,           0,           0,           0,           0,           0,           0,           0,           0,           0,           0,           0,\n",
              "                  0,           0,           0,           0,           0,           0,           0,           0,           0,           0,           0,           0,           0,           0,           0,           0,           0,           0,           0,           0,           0,           0,           0,\n",
              "                  0,           0,           0,           0,           0,           0,           0,           0,           0,           0,           0,           0,           0,           0,           0,           0,           0,           0,           0,           0,           0,           0,           0,\n",
              "                  0,           0,           0,           0,           0,           0,           0,           0,           0,           0,           0,           0,           0,           0,           0,           0,           0,           0,           0,           0,           0,           0,           0,\n",
              "                  0,           0,           0,           0,           0,           0,           0,           0,           0,           0,           0,           0,           0,           0,           0,           0,           0,           0,           0,           0,           0,           0,           0,\n",
              "                  0,           0,           0,           0,           0,           0,           0,           0,           0,           0,           0,           0,           0,           0,           0,           0,           0,           0,           0,           0,           0,           0,           0,\n",
              "                  0,           0,           0,           0,           0,           0,           0,           0,           0,           0,           0]]), 'Confidence', 'F1'], [array([          0,    0.001001,    0.002002,    0.003003,    0.004004,    0.005005,    0.006006,    0.007007,    0.008008,    0.009009,     0.01001,    0.011011,    0.012012,    0.013013,    0.014014,    0.015015,    0.016016,    0.017017,    0.018018,    0.019019,     0.02002,    0.021021,    0.022022,    0.023023,\n",
              "          0.024024,    0.025025,    0.026026,    0.027027,    0.028028,    0.029029,     0.03003,    0.031031,    0.032032,    0.033033,    0.034034,    0.035035,    0.036036,    0.037037,    0.038038,    0.039039,     0.04004,    0.041041,    0.042042,    0.043043,    0.044044,    0.045045,    0.046046,    0.047047,\n",
              "          0.048048,    0.049049,     0.05005,    0.051051,    0.052052,    0.053053,    0.054054,    0.055055,    0.056056,    0.057057,    0.058058,    0.059059,     0.06006,    0.061061,    0.062062,    0.063063,    0.064064,    0.065065,    0.066066,    0.067067,    0.068068,    0.069069,     0.07007,    0.071071,\n",
              "          0.072072,    0.073073,    0.074074,    0.075075,    0.076076,    0.077077,    0.078078,    0.079079,     0.08008,    0.081081,    0.082082,    0.083083,    0.084084,    0.085085,    0.086086,    0.087087,    0.088088,    0.089089,     0.09009,    0.091091,    0.092092,    0.093093,    0.094094,    0.095095,\n",
              "          0.096096,    0.097097,    0.098098,    0.099099,      0.1001,      0.1011,      0.1021,      0.1031,      0.1041,     0.10511,     0.10611,     0.10711,     0.10811,     0.10911,     0.11011,     0.11111,     0.11211,     0.11311,     0.11411,     0.11512,     0.11612,     0.11712,     0.11812,     0.11912,\n",
              "           0.12012,     0.12112,     0.12212,     0.12312,     0.12412,     0.12513,     0.12613,     0.12713,     0.12813,     0.12913,     0.13013,     0.13113,     0.13213,     0.13313,     0.13413,     0.13514,     0.13614,     0.13714,     0.13814,     0.13914,     0.14014,     0.14114,     0.14214,     0.14314,\n",
              "           0.14414,     0.14515,     0.14615,     0.14715,     0.14815,     0.14915,     0.15015,     0.15115,     0.15215,     0.15315,     0.15415,     0.15516,     0.15616,     0.15716,     0.15816,     0.15916,     0.16016,     0.16116,     0.16216,     0.16316,     0.16416,     0.16517,     0.16617,     0.16717,\n",
              "           0.16817,     0.16917,     0.17017,     0.17117,     0.17217,     0.17317,     0.17417,     0.17518,     0.17618,     0.17718,     0.17818,     0.17918,     0.18018,     0.18118,     0.18218,     0.18318,     0.18418,     0.18519,     0.18619,     0.18719,     0.18819,     0.18919,     0.19019,     0.19119,\n",
              "           0.19219,     0.19319,     0.19419,      0.1952,      0.1962,      0.1972,      0.1982,      0.1992,      0.2002,      0.2012,      0.2022,      0.2032,      0.2042,     0.20521,     0.20621,     0.20721,     0.20821,     0.20921,     0.21021,     0.21121,     0.21221,     0.21321,     0.21421,     0.21522,\n",
              "           0.21622,     0.21722,     0.21822,     0.21922,     0.22022,     0.22122,     0.22222,     0.22322,     0.22422,     0.22523,     0.22623,     0.22723,     0.22823,     0.22923,     0.23023,     0.23123,     0.23223,     0.23323,     0.23423,     0.23524,     0.23624,     0.23724,     0.23824,     0.23924,\n",
              "           0.24024,     0.24124,     0.24224,     0.24324,     0.24424,     0.24525,     0.24625,     0.24725,     0.24825,     0.24925,     0.25025,     0.25125,     0.25225,     0.25325,     0.25425,     0.25526,     0.25626,     0.25726,     0.25826,     0.25926,     0.26026,     0.26126,     0.26226,     0.26326,\n",
              "           0.26426,     0.26527,     0.26627,     0.26727,     0.26827,     0.26927,     0.27027,     0.27127,     0.27227,     0.27327,     0.27427,     0.27528,     0.27628,     0.27728,     0.27828,     0.27928,     0.28028,     0.28128,     0.28228,     0.28328,     0.28428,     0.28529,     0.28629,     0.28729,\n",
              "           0.28829,     0.28929,     0.29029,     0.29129,     0.29229,     0.29329,     0.29429,      0.2953,      0.2963,      0.2973,      0.2983,      0.2993,      0.3003,      0.3013,      0.3023,      0.3033,      0.3043,     0.30531,     0.30631,     0.30731,     0.30831,     0.30931,     0.31031,     0.31131,\n",
              "           0.31231,     0.31331,     0.31431,     0.31532,     0.31632,     0.31732,     0.31832,     0.31932,     0.32032,     0.32132,     0.32232,     0.32332,     0.32432,     0.32533,     0.32633,     0.32733,     0.32833,     0.32933,     0.33033,     0.33133,     0.33233,     0.33333,     0.33433,     0.33534,\n",
              "           0.33634,     0.33734,     0.33834,     0.33934,     0.34034,     0.34134,     0.34234,     0.34334,     0.34434,     0.34535,     0.34635,     0.34735,     0.34835,     0.34935,     0.35035,     0.35135,     0.35235,     0.35335,     0.35435,     0.35536,     0.35636,     0.35736,     0.35836,     0.35936,\n",
              "           0.36036,     0.36136,     0.36236,     0.36336,     0.36436,     0.36537,     0.36637,     0.36737,     0.36837,     0.36937,     0.37037,     0.37137,     0.37237,     0.37337,     0.37437,     0.37538,     0.37638,     0.37738,     0.37838,     0.37938,     0.38038,     0.38138,     0.38238,     0.38338,\n",
              "           0.38438,     0.38539,     0.38639,     0.38739,     0.38839,     0.38939,     0.39039,     0.39139,     0.39239,     0.39339,     0.39439,      0.3954,      0.3964,      0.3974,      0.3984,      0.3994,      0.4004,      0.4014,      0.4024,      0.4034,      0.4044,     0.40541,     0.40641,     0.40741,\n",
              "           0.40841,     0.40941,     0.41041,     0.41141,     0.41241,     0.41341,     0.41441,     0.41542,     0.41642,     0.41742,     0.41842,     0.41942,     0.42042,     0.42142,     0.42242,     0.42342,     0.42442,     0.42543,     0.42643,     0.42743,     0.42843,     0.42943,     0.43043,     0.43143,\n",
              "           0.43243,     0.43343,     0.43443,     0.43544,     0.43644,     0.43744,     0.43844,     0.43944,     0.44044,     0.44144,     0.44244,     0.44344,     0.44444,     0.44545,     0.44645,     0.44745,     0.44845,     0.44945,     0.45045,     0.45145,     0.45245,     0.45345,     0.45445,     0.45546,\n",
              "           0.45646,     0.45746,     0.45846,     0.45946,     0.46046,     0.46146,     0.46246,     0.46346,     0.46446,     0.46547,     0.46647,     0.46747,     0.46847,     0.46947,     0.47047,     0.47147,     0.47247,     0.47347,     0.47447,     0.47548,     0.47648,     0.47748,     0.47848,     0.47948,\n",
              "           0.48048,     0.48148,     0.48248,     0.48348,     0.48448,     0.48549,     0.48649,     0.48749,     0.48849,     0.48949,     0.49049,     0.49149,     0.49249,     0.49349,     0.49449,      0.4955,      0.4965,      0.4975,      0.4985,      0.4995,      0.5005,      0.5015,      0.5025,      0.5035,\n",
              "            0.5045,     0.50551,     0.50651,     0.50751,     0.50851,     0.50951,     0.51051,     0.51151,     0.51251,     0.51351,     0.51451,     0.51552,     0.51652,     0.51752,     0.51852,     0.51952,     0.52052,     0.52152,     0.52252,     0.52352,     0.52452,     0.52553,     0.52653,     0.52753,\n",
              "           0.52853,     0.52953,     0.53053,     0.53153,     0.53253,     0.53353,     0.53453,     0.53554,     0.53654,     0.53754,     0.53854,     0.53954,     0.54054,     0.54154,     0.54254,     0.54354,     0.54454,     0.54555,     0.54655,     0.54755,     0.54855,     0.54955,     0.55055,     0.55155,\n",
              "           0.55255,     0.55355,     0.55455,     0.55556,     0.55656,     0.55756,     0.55856,     0.55956,     0.56056,     0.56156,     0.56256,     0.56356,     0.56456,     0.56557,     0.56657,     0.56757,     0.56857,     0.56957,     0.57057,     0.57157,     0.57257,     0.57357,     0.57457,     0.57558,\n",
              "           0.57658,     0.57758,     0.57858,     0.57958,     0.58058,     0.58158,     0.58258,     0.58358,     0.58458,     0.58559,     0.58659,     0.58759,     0.58859,     0.58959,     0.59059,     0.59159,     0.59259,     0.59359,     0.59459,      0.5956,      0.5966,      0.5976,      0.5986,      0.5996,\n",
              "            0.6006,      0.6016,      0.6026,      0.6036,      0.6046,     0.60561,     0.60661,     0.60761,     0.60861,     0.60961,     0.61061,     0.61161,     0.61261,     0.61361,     0.61461,     0.61562,     0.61662,     0.61762,     0.61862,     0.61962,     0.62062,     0.62162,     0.62262,     0.62362,\n",
              "           0.62462,     0.62563,     0.62663,     0.62763,     0.62863,     0.62963,     0.63063,     0.63163,     0.63263,     0.63363,     0.63463,     0.63564,     0.63664,     0.63764,     0.63864,     0.63964,     0.64064,     0.64164,     0.64264,     0.64364,     0.64464,     0.64565,     0.64665,     0.64765,\n",
              "           0.64865,     0.64965,     0.65065,     0.65165,     0.65265,     0.65365,     0.65465,     0.65566,     0.65666,     0.65766,     0.65866,     0.65966,     0.66066,     0.66166,     0.66266,     0.66366,     0.66466,     0.66567,     0.66667,     0.66767,     0.66867,     0.66967,     0.67067,     0.67167,\n",
              "           0.67267,     0.67367,     0.67467,     0.67568,     0.67668,     0.67768,     0.67868,     0.67968,     0.68068,     0.68168,     0.68268,     0.68368,     0.68468,     0.68569,     0.68669,     0.68769,     0.68869,     0.68969,     0.69069,     0.69169,     0.69269,     0.69369,     0.69469,      0.6957,\n",
              "            0.6967,      0.6977,      0.6987,      0.6997,      0.7007,      0.7017,      0.7027,      0.7037,      0.7047,     0.70571,     0.70671,     0.70771,     0.70871,     0.70971,     0.71071,     0.71171,     0.71271,     0.71371,     0.71471,     0.71572,     0.71672,     0.71772,     0.71872,     0.71972,\n",
              "           0.72072,     0.72172,     0.72272,     0.72372,     0.72472,     0.72573,     0.72673,     0.72773,     0.72873,     0.72973,     0.73073,     0.73173,     0.73273,     0.73373,     0.73473,     0.73574,     0.73674,     0.73774,     0.73874,     0.73974,     0.74074,     0.74174,     0.74274,     0.74374,\n",
              "           0.74474,     0.74575,     0.74675,     0.74775,     0.74875,     0.74975,     0.75075,     0.75175,     0.75275,     0.75375,     0.75475,     0.75576,     0.75676,     0.75776,     0.75876,     0.75976,     0.76076,     0.76176,     0.76276,     0.76376,     0.76476,     0.76577,     0.76677,     0.76777,\n",
              "           0.76877,     0.76977,     0.77077,     0.77177,     0.77277,     0.77377,     0.77477,     0.77578,     0.77678,     0.77778,     0.77878,     0.77978,     0.78078,     0.78178,     0.78278,     0.78378,     0.78478,     0.78579,     0.78679,     0.78779,     0.78879,     0.78979,     0.79079,     0.79179,\n",
              "           0.79279,     0.79379,     0.79479,      0.7958,      0.7968,      0.7978,      0.7988,      0.7998,      0.8008,      0.8018,      0.8028,      0.8038,      0.8048,     0.80581,     0.80681,     0.80781,     0.80881,     0.80981,     0.81081,     0.81181,     0.81281,     0.81381,     0.81481,     0.81582,\n",
              "           0.81682,     0.81782,     0.81882,     0.81982,     0.82082,     0.82182,     0.82282,     0.82382,     0.82482,     0.82583,     0.82683,     0.82783,     0.82883,     0.82983,     0.83083,     0.83183,     0.83283,     0.83383,     0.83483,     0.83584,     0.83684,     0.83784,     0.83884,     0.83984,\n",
              "           0.84084,     0.84184,     0.84284,     0.84384,     0.84484,     0.84585,     0.84685,     0.84785,     0.84885,     0.84985,     0.85085,     0.85185,     0.85285,     0.85385,     0.85485,     0.85586,     0.85686,     0.85786,     0.85886,     0.85986,     0.86086,     0.86186,     0.86286,     0.86386,\n",
              "           0.86486,     0.86587,     0.86687,     0.86787,     0.86887,     0.86987,     0.87087,     0.87187,     0.87287,     0.87387,     0.87487,     0.87588,     0.87688,     0.87788,     0.87888,     0.87988,     0.88088,     0.88188,     0.88288,     0.88388,     0.88488,     0.88589,     0.88689,     0.88789,\n",
              "           0.88889,     0.88989,     0.89089,     0.89189,     0.89289,     0.89389,     0.89489,      0.8959,      0.8969,      0.8979,      0.8989,      0.8999,      0.9009,      0.9019,      0.9029,      0.9039,      0.9049,     0.90591,     0.90691,     0.90791,     0.90891,     0.90991,     0.91091,     0.91191,\n",
              "           0.91291,     0.91391,     0.91491,     0.91592,     0.91692,     0.91792,     0.91892,     0.91992,     0.92092,     0.92192,     0.92292,     0.92392,     0.92492,     0.92593,     0.92693,     0.92793,     0.92893,     0.92993,     0.93093,     0.93193,     0.93293,     0.93393,     0.93493,     0.93594,\n",
              "           0.93694,     0.93794,     0.93894,     0.93994,     0.94094,     0.94194,     0.94294,     0.94394,     0.94494,     0.94595,     0.94695,     0.94795,     0.94895,     0.94995,     0.95095,     0.95195,     0.95295,     0.95395,     0.95495,     0.95596,     0.95696,     0.95796,     0.95896,     0.95996,\n",
              "           0.96096,     0.96196,     0.96296,     0.96396,     0.96496,     0.96597,     0.96697,     0.96797,     0.96897,     0.96997,     0.97097,     0.97197,     0.97297,     0.97397,     0.97497,     0.97598,     0.97698,     0.97798,     0.97898,     0.97998,     0.98098,     0.98198,     0.98298,     0.98398,\n",
              "           0.98498,     0.98599,     0.98699,     0.98799,     0.98899,     0.98999,     0.99099,     0.99199,     0.99299,     0.99399,     0.99499,       0.996,       0.997,       0.998,       0.999,           1]), array([[    0.49466,     0.49466,     0.55272,     0.58314,     0.61748,     0.62999,     0.63832,     0.64904,     0.66738,     0.66988,     0.68318,     0.70232,     0.71713,     0.72976,     0.73772,     0.74725,     0.74979,     0.76221,     0.76493,     0.77049,     0.77469,     0.77362,     0.77661,\n",
              "            0.78468,     0.79391,     0.79788,     0.80425,     0.80964,     0.81186,     0.81417,     0.81662,     0.81769,     0.82565,     0.83107,     0.83288,     0.83371,     0.83453,     0.83535,     0.83618,       0.837,     0.84624,     0.85494,      0.8588,      0.8584,     0.85803,     0.85788,\n",
              "            0.85772,     0.85757,     0.85741,     0.85726,     0.85744,     0.85851,     0.85959,     0.86066,     0.86174,     0.86333,     0.87448,     0.87578,     0.87708,     0.87838,     0.87968,      0.8802,     0.88046,     0.88073,     0.88099,     0.88126,     0.88152,     0.88178,     0.88205,\n",
              "            0.88231,     0.88258,     0.88284,      0.8831,     0.88337,     0.88363,     0.88389,     0.88416,     0.88442,     0.88469,     0.88495,     0.88521,     0.88548,     0.88574,       0.887,     0.88989,     0.89199,     0.89233,     0.89266,     0.89299,     0.89333,     0.89366,     0.89399,\n",
              "            0.89432,     0.89466,     0.89499,     0.89532,     0.89565,     0.89599,     0.89632,     0.89665,     0.89699,     0.89732,     0.89765,     0.89795,      0.8978,     0.89765,     0.89751,     0.89736,     0.89738,     0.89775,     0.89811,     0.89848,     0.89885,     0.89922,     0.89958,\n",
              "            0.89995,     0.90032,     0.90069,     0.90105,     0.90142,     0.90179,     0.90216,     0.90253,     0.90289,     0.90326,     0.90342,     0.90337,     0.90332,     0.90327,     0.90322,     0.90316,     0.90311,     0.90306,     0.90301,     0.90296,      0.9029,     0.90285,      0.9028,\n",
              "            0.90267,     0.90249,      0.9023,     0.90212,     0.90208,     0.90206,     0.90204,     0.90201,     0.90199,     0.90197,     0.90195,     0.90193,     0.90191,     0.90188,     0.90186,     0.90184,     0.90182,      0.9018,     0.90178,     0.90176,     0.90173,     0.90171,     0.90169,\n",
              "            0.90167,     0.90165,     0.90163,     0.90161,     0.90158,     0.90156,     0.90154,     0.90152,      0.9015,     0.90148,     0.90146,     0.90143,     0.90141,     0.90477,     0.90779,     0.90773,     0.90767,     0.90762,     0.90756,      0.9075,     0.90745,     0.90739,     0.90733,\n",
              "            0.90728,     0.90722,     0.90716,     0.90805,     0.90942,      0.9108,     0.91217,     0.91354,     0.91358,     0.91347,     0.91337,     0.91327,     0.91317,     0.91306,      0.9197,     0.91956,     0.91942,     0.91928,     0.91914,     0.91911,      0.9191,     0.91908,     0.91907,\n",
              "            0.91906,     0.91905,     0.91903,     0.91902,     0.91901,       0.919,     0.91899,     0.91897,     0.91896,     0.91895,     0.91894,     0.91893,     0.91891,      0.9189,     0.91889,     0.91888,     0.91886,     0.91885,     0.91884,     0.91883,     0.91882,      0.9188,     0.91879,\n",
              "            0.91878,     0.91877,     0.91876,     0.91874,     0.91873,     0.91872,     0.91871,     0.91869,     0.91868,     0.91867,     0.91866,     0.91865,     0.91863,     0.91862,     0.91861,      0.9186,     0.91858,     0.91857,     0.91856,     0.91855,     0.91854,     0.91852,     0.91885,\n",
              "            0.91946,     0.92007,     0.92068,     0.92129,      0.9219,     0.92252,     0.92313,     0.92374,     0.92435,     0.92496,     0.92537,     0.92536,     0.92535,     0.92535,     0.92534,     0.92533,     0.92532,     0.92531,      0.9253,      0.9253,     0.92529,     0.92528,     0.92527,\n",
              "            0.92526,     0.92526,     0.92525,     0.92524,     0.92523,     0.92522,     0.92521,     0.92521,      0.9252,     0.92519,     0.92518,     0.92517,     0.92516,     0.92516,     0.92515,     0.92514,     0.92513,     0.92512,     0.92511,     0.92511,      0.9251,     0.92509,     0.92508,\n",
              "            0.92507,     0.92507,     0.92506,     0.92505,     0.92504,     0.92503,     0.92502,     0.92502,     0.92501,       0.925,     0.92499,     0.92498,     0.92497,     0.92497,     0.92496,     0.92495,     0.92494,     0.92493,     0.92493,     0.92492,     0.92491,      0.9249,     0.92489,\n",
              "            0.92488,     0.92488,     0.92487,     0.92486,     0.92485,     0.92484,     0.92483,     0.92483,     0.92482,     0.92486,     0.92505,     0.92524,     0.92543,     0.92561,      0.9258,     0.92599,     0.92618,     0.92637,     0.92655,     0.92674,     0.92693,     0.92712,      0.9273,\n",
              "            0.92749,     0.92768,     0.92787,     0.92806,     0.92824,     0.92843,     0.92862,     0.92881,     0.92899,     0.92918,     0.92937,     0.92956,     0.92975,     0.92993,     0.93012,     0.93031,      0.9305,     0.93068,     0.93087,     0.93106,     0.93125,     0.93144,     0.93162,\n",
              "            0.93181,     0.93179,     0.93175,     0.93172,     0.93169,     0.93165,     0.93162,     0.93159,     0.93155,     0.93152,     0.93149,     0.93145,     0.93142,     0.93139,     0.93135,     0.93132,     0.93126,     0.93117,     0.93108,     0.93098,     0.93089,     0.93079,     0.93071,\n",
              "            0.93062,     0.93054,     0.93045,     0.93037,     0.93028,      0.9302,     0.93013,     0.93006,     0.92999,     0.92992,     0.92984,     0.92977,      0.9297,     0.92966,     0.92963,      0.9296,     0.92957,     0.92954,     0.92951,     0.92948,     0.92945,     0.92942,     0.92939,\n",
              "            0.92936,     0.92932,     0.92929,     0.92926,     0.92923,      0.9292,     0.92917,     0.92914,     0.92964,     0.93029,     0.93093,     0.93157,     0.93222,     0.93286,      0.9335,     0.93415,     0.93479,     0.93543,     0.93608,     0.93649,     0.93645,     0.93641,     0.93637,\n",
              "            0.93633,     0.93629,     0.93625,     0.93621,     0.93617,     0.93613,     0.93609,     0.93605,       0.936,     0.93598,     0.93595,     0.93592,      0.9359,     0.93587,     0.93584,     0.93582,     0.93579,     0.93576,     0.93574,     0.93571,     0.93568,     0.93565,     0.93563,\n",
              "             0.9356,     0.93557,     0.93555,     0.93552,     0.93549,      0.9354,     0.93527,     0.93513,       0.935,     0.93536,     0.93592,     0.93648,     0.93705,     0.93761,     0.93817,     0.93873,     0.93929,     0.93985,     0.94041,     0.94097,     0.94153,      0.9421,     0.94214,\n",
              "            0.94206,     0.94198,      0.9419,     0.94181,     0.94173,     0.94166,     0.94164,     0.94161,     0.94159,     0.94156,     0.94154,     0.94151,     0.94149,     0.94146,     0.94144,     0.94141,     0.94139,     0.94136,     0.94133,     0.94131,     0.94128,     0.94126,     0.94123,\n",
              "            0.94121,     0.94118,     0.94116,     0.94115,     0.94113,     0.94111,      0.9411,     0.94108,     0.94106,     0.94105,     0.94103,     0.94101,     0.94099,     0.94098,     0.94096,     0.94094,     0.94093,     0.94091,     0.94089,     0.94088,     0.94086,     0.94084,     0.94082,\n",
              "            0.94081,     0.94079,     0.94077,     0.94076,     0.94074,     0.94072,      0.9407,     0.94069,     0.94066,      0.9406,     0.94055,      0.9405,     0.94045,      0.9404,     0.94034,     0.94029,     0.94024,     0.94019,     0.94008,     0.93995,     0.93982,     0.93969,     0.93964,\n",
              "            0.93961,     0.93959,     0.93956,     0.93954,     0.93951,     0.93949,     0.93946,     0.93944,     0.93941,     0.93939,     0.93936,     0.93934,     0.93931,     0.93929,     0.93926,     0.93924,     0.93921,     0.93919,     0.93916,     0.93914,     0.93908,     0.93901,     0.93894,\n",
              "            0.93887,      0.9388,     0.93873,     0.93867,      0.9386,     0.93777,     0.93749,      0.9371,     0.93692,      0.9369,     0.93688,     0.93686,     0.93684,     0.93682,     0.93679,     0.93677,     0.93675,     0.93673,     0.93671,     0.93669,     0.93666,     0.93664,     0.93662,\n",
              "             0.9366,     0.93658,     0.93655,     0.93653,     0.93651,     0.93649,     0.93647,     0.93645,     0.93642,      0.9364,     0.93638,     0.93636,     0.93635,     0.93634,     0.93633,     0.93631,      0.9363,     0.93629,     0.93628,     0.93627,     0.93626,     0.93625,     0.93623,\n",
              "            0.93622,     0.93621,      0.9362,     0.93619,     0.93618,     0.93617,     0.93615,     0.93614,     0.93613,     0.93612,     0.93611,      0.9361,     0.93608,     0.93607,     0.93606,     0.93605,     0.93604,     0.93603,     0.93602,       0.936,     0.93599,     0.93598,     0.93597,\n",
              "            0.93596,     0.93595,     0.93594,     0.93592,     0.93591,      0.9359,     0.93589,     0.93588,     0.93587,     0.93585,     0.93584,     0.93583,     0.93582,     0.93581,      0.9358,     0.93579,     0.93577,     0.93576,     0.93574,     0.93572,     0.93571,     0.93569,     0.93568,\n",
              "            0.93566,     0.93565,     0.93563,     0.93561,      0.9356,     0.93558,     0.93557,     0.93555,     0.93553,     0.93552,      0.9355,     0.93549,     0.93547,     0.93546,     0.93544,     0.93542,     0.93541,     0.93539,     0.93538,     0.93536,     0.93534,     0.93533,     0.93531,\n",
              "             0.9353,     0.93528,     0.93527,     0.93525,     0.93523,     0.93522,      0.9352,     0.93519,     0.93515,     0.93511,     0.93507,     0.93504,       0.935,     0.93496,     0.93492,     0.93489,     0.93485,     0.93481,     0.93477,     0.93474,      0.9347,     0.93466,     0.93462,\n",
              "            0.93459,      0.9345,      0.9344,      0.9343,     0.93421,     0.93411,     0.93401,      0.9339,     0.93377,     0.93364,     0.93351,     0.93338,     0.93306,     0.93306,     0.93931,      0.9409,      0.9399,     0.93949,     0.93808,       0.938,     0.93792,     0.93783,     0.93775,\n",
              "            0.93767,     0.93759,      0.9375,     0.93706,     0.93673,      0.9365,     0.93627,      0.9375,     0.94097,     0.94444,     0.94478,     0.95499,     0.95464,     0.95322,      0.9517,      0.9513,     0.95089,     0.95048,     0.95005,     0.94981,      0.9496,     0.94938,     0.94895,\n",
              "             0.9485,     0.94804,     0.94758,     0.95216,     0.97294,     0.97219,     0.97192,     0.97137,     0.97127,     0.97118,     0.97108,     0.97051,     0.97021,     0.96944,     0.96907,     0.96708,     0.96671,     0.96389,     0.96619,     0.97364,     0.98109,     0.98089,     0.98063,\n",
              "            0.97957,     0.97928,     0.97746,     0.97651,     0.97612,     0.97573,     0.97543,     0.97518,     0.97493,     0.97467,     0.97441,     0.97398,     0.97203,     0.97148,     0.97766,     0.98654,     0.99541,           1,           1,           1,           1,           1,           1,\n",
              "                  1,           1,           1,           1,           1,           1,           1,           1,           1,           1,           1,           1,           1,           1,           1,           1,           1,           1,           1,           1,           1,           1,           1,\n",
              "                  1,           1,           1,           1,           1,           1,           1,           1,           1,           1,           1,           1,           1,           1,           1,           1,           1,           1,           1,           1,           1,           1,           1,\n",
              "                  1,           1,           1,           1,           1,           1,           1,           1,           1,           1,           1,           1,           1,           1,           1,           1,           1,           1,           1,           1,           1,           1,           1,\n",
              "                  1,           1,           1,           1,           1,           1,           1,           1,           1,           1,           1,           1,           1,           1,           1,           1,           1,           1,           1,           1,           1,           1,           1,\n",
              "                  1,           1,           1,           1,           1,           1,           1,           1,           1,           1,           1,           1,           1,           1,           1,           1,           1,           1,           1,           1,           1,           1,           1,\n",
              "                  1,           1,           1,           1,           1,           1,           1,           1,           1,           1,           1,           1,           1,           1,           1,           1,           1,           1,           1,           1,           1,           1,           1,\n",
              "                  1,           1,           1,           1,           1,           1,           1,           1,           1,           1,           1,           1,           1,           1,           1,           1,           1,           1,           1,           1,           1,           1,           1,\n",
              "                  1,           1,           1,           1,           1,           1,           1,           1,           1,           1,           1,           1,           1,           1,           1,           1,           1,           1,           1,           1,           1,           1,           1,\n",
              "                  1,           1,           1,           1,           1,           1,           1,           1,           1,           1,           1]]), 'Confidence', 'Precision'], [array([          0,    0.001001,    0.002002,    0.003003,    0.004004,    0.005005,    0.006006,    0.007007,    0.008008,    0.009009,     0.01001,    0.011011,    0.012012,    0.013013,    0.014014,    0.015015,    0.016016,    0.017017,    0.018018,    0.019019,     0.02002,    0.021021,    0.022022,    0.023023,\n",
              "          0.024024,    0.025025,    0.026026,    0.027027,    0.028028,    0.029029,     0.03003,    0.031031,    0.032032,    0.033033,    0.034034,    0.035035,    0.036036,    0.037037,    0.038038,    0.039039,     0.04004,    0.041041,    0.042042,    0.043043,    0.044044,    0.045045,    0.046046,    0.047047,\n",
              "          0.048048,    0.049049,     0.05005,    0.051051,    0.052052,    0.053053,    0.054054,    0.055055,    0.056056,    0.057057,    0.058058,    0.059059,     0.06006,    0.061061,    0.062062,    0.063063,    0.064064,    0.065065,    0.066066,    0.067067,    0.068068,    0.069069,     0.07007,    0.071071,\n",
              "          0.072072,    0.073073,    0.074074,    0.075075,    0.076076,    0.077077,    0.078078,    0.079079,     0.08008,    0.081081,    0.082082,    0.083083,    0.084084,    0.085085,    0.086086,    0.087087,    0.088088,    0.089089,     0.09009,    0.091091,    0.092092,    0.093093,    0.094094,    0.095095,\n",
              "          0.096096,    0.097097,    0.098098,    0.099099,      0.1001,      0.1011,      0.1021,      0.1031,      0.1041,     0.10511,     0.10611,     0.10711,     0.10811,     0.10911,     0.11011,     0.11111,     0.11211,     0.11311,     0.11411,     0.11512,     0.11612,     0.11712,     0.11812,     0.11912,\n",
              "           0.12012,     0.12112,     0.12212,     0.12312,     0.12412,     0.12513,     0.12613,     0.12713,     0.12813,     0.12913,     0.13013,     0.13113,     0.13213,     0.13313,     0.13413,     0.13514,     0.13614,     0.13714,     0.13814,     0.13914,     0.14014,     0.14114,     0.14214,     0.14314,\n",
              "           0.14414,     0.14515,     0.14615,     0.14715,     0.14815,     0.14915,     0.15015,     0.15115,     0.15215,     0.15315,     0.15415,     0.15516,     0.15616,     0.15716,     0.15816,     0.15916,     0.16016,     0.16116,     0.16216,     0.16316,     0.16416,     0.16517,     0.16617,     0.16717,\n",
              "           0.16817,     0.16917,     0.17017,     0.17117,     0.17217,     0.17317,     0.17417,     0.17518,     0.17618,     0.17718,     0.17818,     0.17918,     0.18018,     0.18118,     0.18218,     0.18318,     0.18418,     0.18519,     0.18619,     0.18719,     0.18819,     0.18919,     0.19019,     0.19119,\n",
              "           0.19219,     0.19319,     0.19419,      0.1952,      0.1962,      0.1972,      0.1982,      0.1992,      0.2002,      0.2012,      0.2022,      0.2032,      0.2042,     0.20521,     0.20621,     0.20721,     0.20821,     0.20921,     0.21021,     0.21121,     0.21221,     0.21321,     0.21421,     0.21522,\n",
              "           0.21622,     0.21722,     0.21822,     0.21922,     0.22022,     0.22122,     0.22222,     0.22322,     0.22422,     0.22523,     0.22623,     0.22723,     0.22823,     0.22923,     0.23023,     0.23123,     0.23223,     0.23323,     0.23423,     0.23524,     0.23624,     0.23724,     0.23824,     0.23924,\n",
              "           0.24024,     0.24124,     0.24224,     0.24324,     0.24424,     0.24525,     0.24625,     0.24725,     0.24825,     0.24925,     0.25025,     0.25125,     0.25225,     0.25325,     0.25425,     0.25526,     0.25626,     0.25726,     0.25826,     0.25926,     0.26026,     0.26126,     0.26226,     0.26326,\n",
              "           0.26426,     0.26527,     0.26627,     0.26727,     0.26827,     0.26927,     0.27027,     0.27127,     0.27227,     0.27327,     0.27427,     0.27528,     0.27628,     0.27728,     0.27828,     0.27928,     0.28028,     0.28128,     0.28228,     0.28328,     0.28428,     0.28529,     0.28629,     0.28729,\n",
              "           0.28829,     0.28929,     0.29029,     0.29129,     0.29229,     0.29329,     0.29429,      0.2953,      0.2963,      0.2973,      0.2983,      0.2993,      0.3003,      0.3013,      0.3023,      0.3033,      0.3043,     0.30531,     0.30631,     0.30731,     0.30831,     0.30931,     0.31031,     0.31131,\n",
              "           0.31231,     0.31331,     0.31431,     0.31532,     0.31632,     0.31732,     0.31832,     0.31932,     0.32032,     0.32132,     0.32232,     0.32332,     0.32432,     0.32533,     0.32633,     0.32733,     0.32833,     0.32933,     0.33033,     0.33133,     0.33233,     0.33333,     0.33433,     0.33534,\n",
              "           0.33634,     0.33734,     0.33834,     0.33934,     0.34034,     0.34134,     0.34234,     0.34334,     0.34434,     0.34535,     0.34635,     0.34735,     0.34835,     0.34935,     0.35035,     0.35135,     0.35235,     0.35335,     0.35435,     0.35536,     0.35636,     0.35736,     0.35836,     0.35936,\n",
              "           0.36036,     0.36136,     0.36236,     0.36336,     0.36436,     0.36537,     0.36637,     0.36737,     0.36837,     0.36937,     0.37037,     0.37137,     0.37237,     0.37337,     0.37437,     0.37538,     0.37638,     0.37738,     0.37838,     0.37938,     0.38038,     0.38138,     0.38238,     0.38338,\n",
              "           0.38438,     0.38539,     0.38639,     0.38739,     0.38839,     0.38939,     0.39039,     0.39139,     0.39239,     0.39339,     0.39439,      0.3954,      0.3964,      0.3974,      0.3984,      0.3994,      0.4004,      0.4014,      0.4024,      0.4034,      0.4044,     0.40541,     0.40641,     0.40741,\n",
              "           0.40841,     0.40941,     0.41041,     0.41141,     0.41241,     0.41341,     0.41441,     0.41542,     0.41642,     0.41742,     0.41842,     0.41942,     0.42042,     0.42142,     0.42242,     0.42342,     0.42442,     0.42543,     0.42643,     0.42743,     0.42843,     0.42943,     0.43043,     0.43143,\n",
              "           0.43243,     0.43343,     0.43443,     0.43544,     0.43644,     0.43744,     0.43844,     0.43944,     0.44044,     0.44144,     0.44244,     0.44344,     0.44444,     0.44545,     0.44645,     0.44745,     0.44845,     0.44945,     0.45045,     0.45145,     0.45245,     0.45345,     0.45445,     0.45546,\n",
              "           0.45646,     0.45746,     0.45846,     0.45946,     0.46046,     0.46146,     0.46246,     0.46346,     0.46446,     0.46547,     0.46647,     0.46747,     0.46847,     0.46947,     0.47047,     0.47147,     0.47247,     0.47347,     0.47447,     0.47548,     0.47648,     0.47748,     0.47848,     0.47948,\n",
              "           0.48048,     0.48148,     0.48248,     0.48348,     0.48448,     0.48549,     0.48649,     0.48749,     0.48849,     0.48949,     0.49049,     0.49149,     0.49249,     0.49349,     0.49449,      0.4955,      0.4965,      0.4975,      0.4985,      0.4995,      0.5005,      0.5015,      0.5025,      0.5035,\n",
              "            0.5045,     0.50551,     0.50651,     0.50751,     0.50851,     0.50951,     0.51051,     0.51151,     0.51251,     0.51351,     0.51451,     0.51552,     0.51652,     0.51752,     0.51852,     0.51952,     0.52052,     0.52152,     0.52252,     0.52352,     0.52452,     0.52553,     0.52653,     0.52753,\n",
              "           0.52853,     0.52953,     0.53053,     0.53153,     0.53253,     0.53353,     0.53453,     0.53554,     0.53654,     0.53754,     0.53854,     0.53954,     0.54054,     0.54154,     0.54254,     0.54354,     0.54454,     0.54555,     0.54655,     0.54755,     0.54855,     0.54955,     0.55055,     0.55155,\n",
              "           0.55255,     0.55355,     0.55455,     0.55556,     0.55656,     0.55756,     0.55856,     0.55956,     0.56056,     0.56156,     0.56256,     0.56356,     0.56456,     0.56557,     0.56657,     0.56757,     0.56857,     0.56957,     0.57057,     0.57157,     0.57257,     0.57357,     0.57457,     0.57558,\n",
              "           0.57658,     0.57758,     0.57858,     0.57958,     0.58058,     0.58158,     0.58258,     0.58358,     0.58458,     0.58559,     0.58659,     0.58759,     0.58859,     0.58959,     0.59059,     0.59159,     0.59259,     0.59359,     0.59459,      0.5956,      0.5966,      0.5976,      0.5986,      0.5996,\n",
              "            0.6006,      0.6016,      0.6026,      0.6036,      0.6046,     0.60561,     0.60661,     0.60761,     0.60861,     0.60961,     0.61061,     0.61161,     0.61261,     0.61361,     0.61461,     0.61562,     0.61662,     0.61762,     0.61862,     0.61962,     0.62062,     0.62162,     0.62262,     0.62362,\n",
              "           0.62462,     0.62563,     0.62663,     0.62763,     0.62863,     0.62963,     0.63063,     0.63163,     0.63263,     0.63363,     0.63463,     0.63564,     0.63664,     0.63764,     0.63864,     0.63964,     0.64064,     0.64164,     0.64264,     0.64364,     0.64464,     0.64565,     0.64665,     0.64765,\n",
              "           0.64865,     0.64965,     0.65065,     0.65165,     0.65265,     0.65365,     0.65465,     0.65566,     0.65666,     0.65766,     0.65866,     0.65966,     0.66066,     0.66166,     0.66266,     0.66366,     0.66466,     0.66567,     0.66667,     0.66767,     0.66867,     0.66967,     0.67067,     0.67167,\n",
              "           0.67267,     0.67367,     0.67467,     0.67568,     0.67668,     0.67768,     0.67868,     0.67968,     0.68068,     0.68168,     0.68268,     0.68368,     0.68468,     0.68569,     0.68669,     0.68769,     0.68869,     0.68969,     0.69069,     0.69169,     0.69269,     0.69369,     0.69469,      0.6957,\n",
              "            0.6967,      0.6977,      0.6987,      0.6997,      0.7007,      0.7017,      0.7027,      0.7037,      0.7047,     0.70571,     0.70671,     0.70771,     0.70871,     0.70971,     0.71071,     0.71171,     0.71271,     0.71371,     0.71471,     0.71572,     0.71672,     0.71772,     0.71872,     0.71972,\n",
              "           0.72072,     0.72172,     0.72272,     0.72372,     0.72472,     0.72573,     0.72673,     0.72773,     0.72873,     0.72973,     0.73073,     0.73173,     0.73273,     0.73373,     0.73473,     0.73574,     0.73674,     0.73774,     0.73874,     0.73974,     0.74074,     0.74174,     0.74274,     0.74374,\n",
              "           0.74474,     0.74575,     0.74675,     0.74775,     0.74875,     0.74975,     0.75075,     0.75175,     0.75275,     0.75375,     0.75475,     0.75576,     0.75676,     0.75776,     0.75876,     0.75976,     0.76076,     0.76176,     0.76276,     0.76376,     0.76476,     0.76577,     0.76677,     0.76777,\n",
              "           0.76877,     0.76977,     0.77077,     0.77177,     0.77277,     0.77377,     0.77477,     0.77578,     0.77678,     0.77778,     0.77878,     0.77978,     0.78078,     0.78178,     0.78278,     0.78378,     0.78478,     0.78579,     0.78679,     0.78779,     0.78879,     0.78979,     0.79079,     0.79179,\n",
              "           0.79279,     0.79379,     0.79479,      0.7958,      0.7968,      0.7978,      0.7988,      0.7998,      0.8008,      0.8018,      0.8028,      0.8038,      0.8048,     0.80581,     0.80681,     0.80781,     0.80881,     0.80981,     0.81081,     0.81181,     0.81281,     0.81381,     0.81481,     0.81582,\n",
              "           0.81682,     0.81782,     0.81882,     0.81982,     0.82082,     0.82182,     0.82282,     0.82382,     0.82482,     0.82583,     0.82683,     0.82783,     0.82883,     0.82983,     0.83083,     0.83183,     0.83283,     0.83383,     0.83483,     0.83584,     0.83684,     0.83784,     0.83884,     0.83984,\n",
              "           0.84084,     0.84184,     0.84284,     0.84384,     0.84484,     0.84585,     0.84685,     0.84785,     0.84885,     0.84985,     0.85085,     0.85185,     0.85285,     0.85385,     0.85485,     0.85586,     0.85686,     0.85786,     0.85886,     0.85986,     0.86086,     0.86186,     0.86286,     0.86386,\n",
              "           0.86486,     0.86587,     0.86687,     0.86787,     0.86887,     0.86987,     0.87087,     0.87187,     0.87287,     0.87387,     0.87487,     0.87588,     0.87688,     0.87788,     0.87888,     0.87988,     0.88088,     0.88188,     0.88288,     0.88388,     0.88488,     0.88589,     0.88689,     0.88789,\n",
              "           0.88889,     0.88989,     0.89089,     0.89189,     0.89289,     0.89389,     0.89489,      0.8959,      0.8969,      0.8979,      0.8989,      0.8999,      0.9009,      0.9019,      0.9029,      0.9039,      0.9049,     0.90591,     0.90691,     0.90791,     0.90891,     0.90991,     0.91091,     0.91191,\n",
              "           0.91291,     0.91391,     0.91491,     0.91592,     0.91692,     0.91792,     0.91892,     0.91992,     0.92092,     0.92192,     0.92292,     0.92392,     0.92492,     0.92593,     0.92693,     0.92793,     0.92893,     0.92993,     0.93093,     0.93193,     0.93293,     0.93393,     0.93493,     0.93594,\n",
              "           0.93694,     0.93794,     0.93894,     0.93994,     0.94094,     0.94194,     0.94294,     0.94394,     0.94494,     0.94595,     0.94695,     0.94795,     0.94895,     0.94995,     0.95095,     0.95195,     0.95295,     0.95395,     0.95495,     0.95596,     0.95696,     0.95796,     0.95896,     0.95996,\n",
              "           0.96096,     0.96196,     0.96296,     0.96396,     0.96496,     0.96597,     0.96697,     0.96797,     0.96897,     0.96997,     0.97097,     0.97197,     0.97297,     0.97397,     0.97497,     0.97598,     0.97698,     0.97798,     0.97898,     0.97998,     0.98098,     0.98198,     0.98298,     0.98398,\n",
              "           0.98498,     0.98599,     0.98699,     0.98799,     0.98899,     0.98999,     0.99099,     0.99199,     0.99299,     0.99399,     0.99499,       0.996,       0.997,       0.998,       0.999,           1]), array([[    0.96528,     0.96528,     0.96528,     0.96528,     0.96528,     0.96528,     0.95833,     0.95833,     0.95833,     0.95833,     0.95833,     0.95833,     0.95833,     0.95833,     0.95833,     0.95833,     0.95833,     0.95833,     0.95833,     0.95833,     0.95833,     0.94444,     0.94444,\n",
              "            0.94444,      0.9375,      0.9375,      0.9375,      0.9375,      0.9375,      0.9375,      0.9375,     0.93056,     0.93056,     0.93056,     0.93056,     0.93056,     0.93056,     0.93056,     0.93056,     0.93056,     0.93056,     0.93056,     0.92926,     0.92614,     0.92339,     0.92221,\n",
              "            0.92104,     0.91987,     0.91869,     0.91752,     0.91667,     0.91667,     0.91667,     0.91667,     0.91667,     0.91667,     0.91667,     0.91667,     0.91667,     0.91667,     0.91667,     0.91667,     0.91667,     0.91667,     0.91667,     0.91667,     0.91667,     0.91667,     0.91667,\n",
              "            0.91667,     0.91667,     0.91667,     0.91667,     0.91667,     0.91667,     0.91667,     0.91667,     0.91667,     0.91667,     0.91667,     0.91667,     0.91667,     0.91667,     0.91667,     0.91667,     0.91667,     0.91667,     0.91667,     0.91667,     0.91667,     0.91667,     0.91667,\n",
              "            0.91667,     0.91667,     0.91667,     0.91667,     0.91667,     0.91667,     0.91667,     0.91667,     0.91667,     0.91667,     0.91667,     0.91656,      0.9151,     0.91364,     0.91218,     0.91072,     0.90972,     0.90972,     0.90972,     0.90972,     0.90972,     0.90972,     0.90972,\n",
              "            0.90972,     0.90972,     0.90972,     0.90972,     0.90972,     0.90972,     0.90972,     0.90972,     0.90972,     0.90972,     0.90946,     0.90892,     0.90838,     0.90785,     0.90731,     0.90677,     0.90624,      0.9057,     0.90516,     0.90462,     0.90409,     0.90355,     0.90301,\n",
              "            0.90171,     0.89981,     0.89791,     0.89601,     0.89564,     0.89542,      0.8952,     0.89499,     0.89477,     0.89455,     0.89434,     0.89412,      0.8939,     0.89369,     0.89347,     0.89326,     0.89304,     0.89282,     0.89261,     0.89239,     0.89217,     0.89196,     0.89174,\n",
              "            0.89152,     0.89131,     0.89109,     0.89087,     0.89066,     0.89044,     0.89022,     0.89001,     0.88979,     0.88957,     0.88936,     0.88914,     0.88892,     0.88889,     0.88874,     0.88814,     0.88754,     0.88694,     0.88634,     0.88574,     0.88514,     0.88454,     0.88394,\n",
              "            0.88335,     0.88275,     0.88215,     0.88194,     0.88194,     0.88194,     0.88194,     0.88194,     0.88091,     0.87977,     0.87863,     0.87749,     0.87636,     0.87522,     0.87487,     0.87325,     0.87162,     0.86999,     0.86836,     0.86794,      0.8678,     0.86766,     0.86752,\n",
              "            0.86738,     0.86724,      0.8671,     0.86695,     0.86681,     0.86667,     0.86653,     0.86639,     0.86625,     0.86611,     0.86597,     0.86583,     0.86569,     0.86555,      0.8654,     0.86526,     0.86512,     0.86498,     0.86484,      0.8647,     0.86456,     0.86442,     0.86428,\n",
              "            0.86414,     0.86399,     0.86385,     0.86371,     0.86357,     0.86343,     0.86329,     0.86315,     0.86301,     0.86287,     0.86273,     0.86259,     0.86244,      0.8623,     0.86216,     0.86202,     0.86188,     0.86174,      0.8616,     0.86146,     0.86132,     0.86118,     0.86111,\n",
              "            0.86111,     0.86111,     0.86111,     0.86111,     0.86111,     0.86111,     0.86111,     0.86111,     0.86111,     0.86111,     0.86108,     0.86098,     0.86087,     0.86077,     0.86067,     0.86057,     0.86047,     0.86036,     0.86026,     0.86016,     0.86006,     0.85996,     0.85985,\n",
              "            0.85975,     0.85965,     0.85955,     0.85945,     0.85934,     0.85924,     0.85914,     0.85904,     0.85893,     0.85883,     0.85873,     0.85863,     0.85853,     0.85842,     0.85832,     0.85822,     0.85812,     0.85802,     0.85791,     0.85781,     0.85771,     0.85761,     0.85751,\n",
              "             0.8574,      0.8573,      0.8572,      0.8571,       0.857,     0.85689,     0.85679,     0.85669,     0.85659,     0.85649,     0.85638,     0.85628,     0.85618,     0.85608,     0.85598,     0.85587,     0.85577,     0.85567,     0.85557,     0.85547,     0.85536,     0.85526,     0.85516,\n",
              "            0.85506,     0.85495,     0.85485,     0.85475,     0.85465,     0.85455,     0.85444,     0.85434,     0.85424,     0.85417,     0.85417,     0.85417,     0.85417,     0.85417,     0.85417,     0.85417,     0.85417,     0.85417,     0.85417,     0.85417,     0.85417,     0.85417,     0.85417,\n",
              "            0.85417,     0.85417,     0.85417,     0.85417,     0.85417,     0.85417,     0.85417,     0.85417,     0.85417,     0.85417,     0.85417,     0.85417,     0.85417,     0.85417,     0.85417,     0.85417,     0.85417,     0.85417,     0.85417,     0.85417,     0.85417,     0.85417,     0.85417,\n",
              "            0.85417,     0.85374,     0.85329,     0.85285,      0.8524,     0.85196,     0.85152,     0.85107,     0.85063,     0.85018,     0.84974,     0.84929,     0.84885,      0.8484,     0.84796,     0.84751,     0.84679,     0.84555,     0.84431,     0.84307,     0.84184,      0.8406,     0.83947,\n",
              "            0.83837,     0.83728,     0.83618,     0.83509,     0.83399,     0.83297,     0.83205,     0.83113,     0.83021,     0.82929,     0.82837,     0.82746,     0.82654,     0.82607,     0.82568,      0.8253,     0.82491,     0.82453,     0.82414,     0.82376,     0.82337,     0.82299,      0.8226,\n",
              "            0.82222,     0.82183,     0.82145,     0.82106,     0.82068,     0.82029,     0.81991,     0.81952,     0.81944,     0.81944,     0.81944,     0.81944,     0.81944,     0.81944,     0.81944,     0.81944,     0.81944,     0.81944,     0.81944,     0.81926,      0.8187,     0.81814,     0.81759,\n",
              "            0.81703,     0.81647,     0.81591,     0.81535,      0.8148,     0.81424,     0.81368,     0.81312,     0.81256,     0.81218,     0.81182,     0.81146,      0.8111,     0.81074,     0.81038,     0.81002,     0.80966,      0.8093,     0.80894,     0.80858,     0.80822,     0.80785,     0.80749,\n",
              "            0.80713,     0.80677,     0.80641,     0.80605,     0.80569,     0.80445,     0.80267,     0.80089,     0.79911,     0.79861,     0.79861,     0.79861,     0.79861,     0.79861,     0.79861,     0.79861,     0.79861,     0.79861,     0.79861,     0.79861,     0.79861,     0.79861,     0.79159,\n",
              "            0.79041,     0.78922,     0.78804,     0.78685,     0.78566,     0.78465,     0.78429,     0.78394,     0.78358,     0.78322,     0.78287,     0.78251,     0.78216,      0.7818,     0.78145,     0.78109,     0.78073,     0.78038,     0.78002,     0.77967,     0.77931,     0.77895,      0.7786,\n",
              "            0.77824,     0.77789,     0.77761,     0.77738,     0.77714,      0.7769,     0.77666,     0.77643,     0.77619,     0.77595,     0.77571,     0.77548,     0.77524,       0.775,     0.77477,     0.77453,     0.77429,     0.77405,     0.77382,     0.77358,     0.77334,      0.7731,     0.77287,\n",
              "            0.77263,     0.77239,     0.77216,     0.77192,     0.77168,     0.77144,     0.77121,     0.77097,     0.77053,     0.76982,     0.76911,     0.76839,     0.76768,     0.76697,     0.76626,     0.76555,     0.76483,     0.76412,     0.76269,     0.76091,     0.75913,     0.75735,     0.75669,\n",
              "            0.75636,     0.75603,      0.7557,     0.75537,     0.75503,      0.7547,     0.75437,     0.75404,     0.75371,     0.75338,     0.75305,     0.75272,     0.75239,     0.75205,     0.75172,     0.75139,     0.75106,     0.75073,      0.7504,     0.75007,     0.74929,      0.7484,     0.74751,\n",
              "            0.74662,     0.74573,     0.74484,     0.74395,     0.74306,     0.73259,     0.72898,     0.72424,     0.72207,     0.72181,     0.72154,     0.72128,     0.72102,     0.72075,     0.72049,     0.72023,     0.71996,      0.7197,     0.71943,     0.71917,     0.71891,     0.71864,     0.71838,\n",
              "            0.71812,     0.71785,     0.71759,     0.71733,     0.71706,      0.7168,     0.71653,     0.71627,     0.71601,     0.71574,     0.71548,     0.71525,     0.71511,     0.71497,     0.71484,      0.7147,     0.71456,     0.71442,     0.71429,     0.71415,     0.71401,     0.71388,     0.71374,\n",
              "             0.7136,     0.71347,     0.71333,     0.71319,     0.71306,     0.71292,     0.71278,     0.71264,     0.71251,     0.71237,     0.71223,      0.7121,     0.71196,     0.71182,     0.71169,     0.71155,     0.71141,     0.71128,     0.71114,       0.711,     0.71087,     0.71073,     0.71059,\n",
              "            0.71045,     0.71032,     0.71018,     0.71004,     0.70991,     0.70977,     0.70963,      0.7095,     0.70936,     0.70922,     0.70909,     0.70895,     0.70881,     0.70868,     0.70854,      0.7084,     0.70824,     0.70806,     0.70787,     0.70769,      0.7075,     0.70732,     0.70713,\n",
              "            0.70695,     0.70676,     0.70658,     0.70639,     0.70621,     0.70602,     0.70584,     0.70565,     0.70547,     0.70528,      0.7051,     0.70491,     0.70473,     0.70454,     0.70436,     0.70417,     0.70399,      0.7038,     0.70362,     0.70343,     0.70325,     0.70306,     0.70288,\n",
              "            0.70269,     0.70251,     0.70232,     0.70214,     0.70195,     0.70177,     0.70158,      0.7014,     0.70098,     0.70055,     0.70012,     0.69969,     0.69926,     0.69882,     0.69839,     0.69796,     0.69753,      0.6971,     0.69667,     0.69624,      0.6958,     0.69537,     0.69494,\n",
              "            0.69451,     0.69352,     0.69242,     0.69133,     0.69023,     0.68914,     0.68804,     0.68678,     0.68536,     0.68393,     0.68251,     0.68109,     0.67758,     0.66667,     0.66667,     0.66334,     0.65165,     0.64691,     0.63126,     0.63037,     0.62948,     0.62859,      0.6277,\n",
              "            0.62681,     0.62592,     0.62503,      0.6204,     0.61686,     0.61448,     0.61211,     0.60417,     0.60417,     0.60417,     0.59413,     0.58938,     0.58464,       0.566,     0.54737,     0.54262,     0.53788,     0.53313,     0.52838,     0.52571,     0.52334,     0.52096,     0.51635,\n",
              "             0.5116,     0.50686,     0.50211,         0.5,     0.49935,     0.48556,     0.48081,     0.47119,     0.46961,     0.46803,     0.46644,     0.45709,     0.45234,     0.44065,     0.43511,     0.40801,     0.40327,     0.37074,     0.36111,     0.36111,     0.36111,     0.35639,     0.35165,\n",
              "            0.33301,     0.32827,     0.30125,     0.28868,     0.28394,     0.27919,     0.27578,     0.27293,     0.27008,     0.26724,     0.26439,     0.25998,     0.24134,      0.2366,     0.22222,     0.22222,     0.22222,     0.21299,     0.20125,     0.18043,     0.17758,     0.17474,     0.17074,\n",
              "            0.15177,     0.14505,      0.1403,     0.12694,      0.1021,    0.099249,    0.096402,    0.093555,    0.090707,     0.08786,    0.085013,    0.080414,    0.068207,     0.06536,    0.062513,    0.053981,    0.052399,    0.050817,    0.049235,    0.046887,     0.04404,    0.041328,    0.039294,\n",
              "            0.03726,    0.035227,    0.025101,    0.021542,    0.020466,    0.020006,    0.019547,    0.019088,    0.018629,    0.018169,     0.01771,    0.017251,    0.016792,    0.016332,    0.015873,    0.015414,    0.014955,    0.014495,    0.014036,   0.0090542,           0,           0,           0,\n",
              "                  0,           0,           0,           0,           0,           0,           0,           0,           0,           0,           0,           0,           0,           0,           0,           0,           0,           0,           0,           0,           0,           0,           0,\n",
              "                  0,           0,           0,           0,           0,           0,           0,           0,           0,           0,           0,           0,           0,           0,           0,           0,           0,           0,           0,           0,           0,           0,           0,\n",
              "                  0,           0,           0,           0,           0,           0,           0,           0,           0,           0,           0,           0,           0,           0,           0,           0,           0,           0,           0,           0,           0,           0,           0,\n",
              "                  0,           0,           0,           0,           0,           0,           0,           0,           0,           0,           0,           0,           0,           0,           0,           0,           0,           0,           0,           0,           0,           0,           0,\n",
              "                  0,           0,           0,           0,           0,           0,           0,           0,           0,           0,           0,           0,           0,           0,           0,           0,           0,           0,           0,           0,           0,           0,           0,\n",
              "                  0,           0,           0,           0,           0,           0,           0,           0,           0,           0,           0,           0,           0,           0,           0,           0,           0,           0,           0,           0,           0,           0,           0,\n",
              "                  0,           0,           0,           0,           0,           0,           0,           0,           0,           0,           0]]), 'Confidence', 'Recall']]\n",
              "fitness: np.float64(0.6258711461282227)\n",
              "keys: ['metrics/precision(B)', 'metrics/recall(B)', 'metrics/mAP50(B)', 'metrics/mAP50-95(B)']\n",
              "maps: array([    0.59194])\n",
              "names: {0: 'seal'}\n",
              "plot: True\n",
              "results_dict: {'metrics/precision(B)': np.float64(0.8977455308847833), 'metrics/recall(B)': np.float64(0.9097222222222222), 'metrics/mAP50(B)': np.float64(0.9312496358022555), 'metrics/mAP50-95(B)': np.float64(0.5919402028311078), 'fitness': np.float64(0.6258711461282227)}\n",
              "save_dir: PosixPath('v72_prop1vs5_prueba5/seals')\n",
              "speed: {'preprocess': 0.15568413565546205, 'inference': 1.1704979496189998, 'loss': 0.0007519534913036679, 'postprocess': 0.2705654289471116}\n",
              "task: 'detect'"
            ]
          },
          "metadata": {},
          "execution_count": 22
        }
      ],
      "source": [
        "# Ejecuta el entrenamiento utilizando el archivo data.yaml en la carpeta extraída.\n",
        "model.train(\n",
        "    project=\"v72_prop1vs5_prueba5\",\n",
        "    name=\"seals\",\n",
        "    data=\"/content/export_yolov8v72_1_vs_5/data.yaml\",  # Asegúrate de que data.yaml use rutas correctas para Colab\n",
        "    epochs=60,                                                  # Número total de épocas (pasadas completas por el dataset de entrenamiento)\n",
        "    imgsz=640,                                                  # Tamaño de la imagen (se reescala a 640x640)\n",
        "    batch=8,                                                   # Número de imágenes por batch\n",
        "    lr0=0.0001,        #probar 0.0005                            # Tasa de aprendizaje inicial. Un valor mayor hace que los pesos se actualicen más rápido, pero puede inestabilizar el entrenamiento.\n",
        "    momentum=0.937,                                             # Momentum para el optimizador (por ejemplo, en SGD)\n",
        "    warmup_momentum=0.8,                                        # La fase de \"warmup\" es un período inicial en el que la tasa de aprendizaje y otros parámetros (como el momentum) se ajustan gradualmente.    Esto ayuda a estabilizar el entrenamiento y a evitar que el modelo se desvíe demasiado al principio.\n",
        "    optimizer=\"adamw\",       #otra opcion es = sgd / adamw             # Se usa AdamW (una variante de Adam que incorpora weight decay para evitar sobreajuste)\n",
        "    weight_decay=0.0005,                                        # Penalización sobre los pesos para prevenir sobreajuste. Si es muy alto, puede dificultar el aprendizaje; si es muy bajo, el modelo puede sobreajustarse.                                          # Se usa AdamW (una variante de Adam que incorpora weight decay para evitar sobreajuste)\n",
        "    #augment=False,                                             # Desactiva el data augmentation on the fly de YOLO##############  asi puedo hacer yo la data augmentation con las fotos con labels\n",
        "    half=True,                                                  # Activa precisión mixta (FP16) para GPU\n",
        "    workers=8,                                                  # Número de workers para el DataLoader\n",
        "    device='cuda' ,                                            # Fuerza el uso de GPU lo que acelera el entrenamiento\n",
        "    mosaic=0,                                                  # Desactivar si las imágenes son muy homogéneas, es un data augmentation process\n",
        "    #resume=True,                                               #PARA seguir entrenamiento donde lo dejaste\n",
        "    #validate=False                                              # para no hacer validación a la vez que entrena\n",
        "    patience=6,                                                 # epochs extra desde que converge para ver si aprende , si no aprende en 3 epochs más, se para. si tras \"X\" epochs la métrica val/best_map_50 no mejora, se detiene el entrenamiento automáticamente.\n",
        "    cos_lr=True,                                                # scheduler\n",
        "    plots=True,                                                  #generar gráficas de plots de learning rate\n",
        "    #wandb=True,                                                  # ✅ Activa integración con W&B\n",
        "\n",
        ")\n",
        "\n"
      ]
    },
    {
      "cell_type": "code",
      "source": [
        "import locale\n",
        "def getpreferredencoding(do_setlocale = True):\n",
        "    return \"UTF-8\"\n",
        "locale.getpreferredencoding = getpreferredencoding"
      ],
      "metadata": {
        "id": "XtCJZxp_Ef6F"
      },
      "execution_count": 8,
      "outputs": []
    },
    {
      "cell_type": "code",
      "source": [],
      "metadata": {
        "id": "OeuL0_xsn0tE"
      },
      "execution_count": null,
      "outputs": []
    },
    {
      "cell_type": "markdown",
      "source": [
        "guardar train"
      ],
      "metadata": {
        "id": "MkOz2PBecgmi"
      }
    },
    {
      "cell_type": "code",
      "execution_count": 16,
      "metadata": {
        "id": "iBSWPatloIgl",
        "colab": {
          "base_uri": "https://localhost:8080/"
        },
        "outputId": "1f1ee8f5-9c7b-4995-82a1-930fdb903b81"
      },
      "outputs": [
        {
          "output_type": "stream",
          "name": "stdout",
          "text": [
            "seals\n"
          ]
        }
      ],
      "source": [
        "# 10. Guardar los resultados del experimento\n",
        "\n",
        "# Define la carpeta de destino en Google Drive\n",
        "dest_folder = \"/content/drive/MyDrive/AWS.v72_seals100i.yolov8/resulta_1vs_5_lr0,001/train\"\n",
        "!mkdir -p \"{dest_folder}\"  # El comando mkdir -p crea esa carpeta (y cualquier subcarpeta necesaria) si no existe.\n",
        "\n",
        "# Copia la carpeta de resultados (ajusta el nombre según el que se haya generado)\n",
        "!cp -r /content/v72_prop1vs5_pruebesitabebe3/seals \"{dest_folder}/\"  # Copiar los resultados del modelo en drive\n",
        "\n",
        "# Comprueba que se copiaron los archivos (opcional)\n",
        "!ls \"{dest_folder}\"\n",
        "\n",
        "# Opcional: comprimir la carpeta de resultados para descargarla a tu PC\n",
        "#zip_output_path = \"/content/negative_images.zip\"  # Ruta temporal para almacenar el archivo ZIP en el entorno de Colab\n",
        "\n",
        "# Corrige la ruta de compresión para comprimir la carpeta images_negatives correctamente\n",
        "#!zip -r \"{zip_output_path}\" \"{dest_folder}/images_negatives\"  # Aquí se comprime la carpeta que acabas de copiar en Drive (images_negatives) en un archivo ZIP.\n",
        "\n",
        "# Descargar el archivo ZIP a tu PC\n",
        "#from google.colab import files\n",
        "#files.download(zip_output_path)  # Descargar el archivo comprimido                                       #Este comando abre una ventana de descarga para que puedas bajar el archivo ZIP a tu ordenador."
      ]
    },
    {
      "cell_type": "code",
      "source": [],
      "metadata": {
        "id": "wqsQRHEa19XD"
      },
      "execution_count": null,
      "outputs": []
    },
    {
      "cell_type": "markdown",
      "source": [
        "valid general de yolo, esto es medio adaptado medio lo general"
      ],
      "metadata": {
        "id": "w3x7xqe9cdvB"
      }
    },
    {
      "cell_type": "code",
      "source": [
        "# Cargar el modelo entrenado (ajusta la ruta según corresponda)\n",
        "model = YOLO(\"/content/seals_2025_v68_prop1vs5/seals/weights/best.pt\")\n",
        "\n",
        "# Ejecutar validación especificando el archivo de datos y los umbrales deseados\n",
        "metrics = model.val(data=\"/content/export_yolov8v68_1_vs_5/data.yaml\", iou=0.50, conf=0.50)\n",
        "\n",
        "# Mostrar las métricas obtenidas en la validación\n",
        "print(\"Métricas de validación:\", metrics)\n",
        "\n",
        "\n",
        "names = {0: 'hole', 1: 'seal'}  # Define tus clases aquí\n",
        "class_maps = metrics.maps  # metrics.maps es un array, no se llama como función\n",
        "\n",
        "print(\"\\n=== VALIDACIÓN POR CLASE ===\")\n",
        "for i, (cls_map, name) in enumerate(zip(class_maps, names.values())):\n",
        "    print(f\"{name}: mAP50-95 = {cls_map:.4f}\")"
      ],
      "metadata": {
        "id": "KlXCo9lAunRQ"
      },
      "execution_count": null,
      "outputs": []
    },
    {
      "cell_type": "markdown",
      "source": [
        "valid por clases"
      ],
      "metadata": {
        "id": "xEjVzGnHccPI"
      }
    },
    {
      "cell_type": "code",
      "source": [
        "from ultralytics import YOLO\n",
        "import os\n",
        "import numpy as np\n",
        "import pandas as pd\n",
        "import matplotlib.pyplot as plt\n",
        "\n",
        "# === 1. Cargar modelo y dataset ===\n",
        "model = YOLO(\"/content/dataset/resulta_1vs_5_lr0,0001/train/seals/weights/best.pt\")\n",
        "dataset_yaml = \"/content/export_yolov8v72_1_vs_5/data.yaml\"\n",
        "\n",
        "# === 2. Configurar rutas de guardado\n",
        "val_results_dir = \"/content/threshold_analysis_val2\"\n",
        "os.makedirs(val_results_dir, exist_ok=True)\n",
        "\n",
        "# === 3. Evaluar baseline (conf=0.50)\n",
        "res_05 = model.val(data=dataset_yaml, split=\"val\", conf=0.5, iou=0.5, verbose=False)\n",
        "p_05, r_05, map50_05, map95_05 = res_05.box.mean_results()\n",
        "f1_05 = 2 * p_05 * r_05 / (p_05 + r_05) if p_05 + r_05 > 0 else 0\n",
        "\n",
        "# === 4. Buscar best_conf_global (0.05 a 0.95)\n",
        "conf_values = [round(i * 0.05, 2) for i in range(1, 20)]\n",
        "f1s_all, p_all, r_all, m50_all, m95_all = [], [], [], [], []\n",
        "\n",
        "for conf in conf_values:\n",
        "    res = model.val(data=dataset_yaml, split=\"val\", conf=conf, iou=0.5, verbose=False)\n",
        "    p, r, m50, m95 = res.box.mean_results()\n",
        "    f1 = 2 * p * r / (p + r) if p + r > 0 else 0\n",
        "    f1s_all.append(f1)\n",
        "    p_all.append(p)\n",
        "    r_all.append(r)\n",
        "    m50_all.append(m50)\n",
        "    m95_all.append(m95)\n",
        "\n",
        "best_idx = int(np.argmax(f1s_all))\n",
        "best_conf_global = conf_values[best_idx]\n",
        "p_best = p_all[best_idx]\n",
        "r_best = r_all[best_idx]\n",
        "map50_best = m50_all[best_idx]\n",
        "map95_best = m95_all[best_idx]\n",
        "f1_best = f1s_all[best_idx]\n",
        "\n",
        "# === 5. Buscar best_conf_high (solo conf > 0.5)\n",
        "high_start = 11  # para 0.55\n",
        "conf_values_high = conf_values[high_start:]\n",
        "f1s_high = f1s_all[high_start:]\n",
        "p_high = p_all[high_start:]\n",
        "r_high = r_all[high_start:]\n",
        "m50_high = m50_all[high_start:]\n",
        "m95_high = m95_all[high_start:]\n",
        "\n",
        "best_high_idx = int(np.argmax(f1s_high))\n",
        "best_conf_high = conf_values_high[best_high_idx]\n",
        "p_high_best = p_high[best_high_idx]\n",
        "r_high_best = r_high[best_high_idx]\n",
        "map50_high_best = m50_high[best_high_idx]\n",
        "map95_high_best = m95_high[best_high_idx]\n",
        "f1_high_best = f1s_high[best_high_idx]\n",
        "\n",
        "# === 6. Crear tabla comparativa\n",
        "comp_data = {\n",
        "    \"Métrica\": [\"Precision\", \"Recall\", \"F1-score\", \"mAP@0.5\", \"mAP@0.5:0.95\"],\n",
        "    \"conf=0.50\": [p_05, r_05, f1_05, map50_05, map95_05],\n",
        "    f\"conf={best_conf_global:.2f}\": [p_best, r_best, f1_best, map50_best, map95_best],\n",
        "    f\"conf>{0.50} (mejor={best_conf_high:.2f})\": [p_high_best, r_high_best, f1_high_best, map50_high_best, map95_high_best]\n",
        "}\n",
        "df_val_comp = pd.DataFrame(comp_data)\n",
        "\n",
        "# === 7. Guardar .txt\n",
        "txt_path = os.path.join(val_results_dir, \"val_threshold_comparison.txt\")\n",
        "with open(txt_path, \"w\") as f:\n",
        "    f.write(\"=== COMPARACIÓN DE 3 THRESHOLDS EN VALIDACIÓN ===\\n\")\n",
        "    f.write(f\"{'Métrica':<15} | {'conf=0.50':^12} | {'Óptimo global':^16} | {'Óptimo > 0.5':^18}\\n\")\n",
        "    f.write(\"-\" * 65 + \"\\n\")\n",
        "    for i in range(len(df_val_comp)):\n",
        "        m = df_val_comp.loc[i, \"Métrica\"]\n",
        "        v1 = df_val_comp.loc[i, \"conf=0.50\"]\n",
        "        v2 = df_val_comp.loc[i, f\"conf={best_conf_global:.2f}\"]\n",
        "        v3 = df_val_comp.loc[i, f\"conf>{0.50} (mejor={best_conf_high:.2f})\"]\n",
        "        f.write(f\"{m:<15} | {v1:.4f}      | {v2:.4f}           | {v3:.4f}\\n\")\n",
        "print(f\"📄 Comparación guardada en: {txt_path}\")\n",
        "\n",
        "# === 8. Guardar .csv\n",
        "csv_path = os.path.join(val_results_dir, \"val_threshold_comparison.csv\")\n",
        "df_val_comp.to_csv(csv_path, index=False)\n",
        "\n",
        "# === 9. Guardar .md (Markdown)\n",
        "md_path = os.path.join(val_results_dir, \"val_threshold_comparison.md\")\n",
        "with open(md_path, \"w\") as f:\n",
        "    f.write(f\"| Métrica       | conf = 0.50 | Óptimo global ({best_conf_global:.2f}) | Óptimo > 0.5 ({best_conf_high:.2f}) |\\n\")\n",
        "    f.write(f\"|---------------|--------------|----------------------|-------------------------|\\n\")\n",
        "    for i in range(len(df_val_comp)):\n",
        "        m = df_val_comp.loc[i, \"Métrica\"]\n",
        "        v1 = df_val_comp.loc[i, \"conf=0.50\"]\n",
        "        v2 = df_val_comp.loc[i, f\"conf={best_conf_global:.2f}\"]\n",
        "        v3 = df_val_comp.loc[i, f\"conf>{0.50} (mejor={best_conf_high:.2f})\"]\n",
        "        f.write(f\"| {m:<13} | {v1:.4f}       | {v2:.4f}               | {v3:.4f}                  |\\n\")\n",
        "print(f\"📝 Markdown guardado en: {md_path}\")\n",
        "\n",
        "# === 10. Gráfico de barras\n",
        "labels = df_val_comp[\"Métrica\"]\n",
        "x = np.arange(len(labels))\n",
        "width = 0.25\n",
        "\n",
        "fig, ax = plt.subplots(figsize=(10, 6))\n",
        "ax.bar(x - width, df_val_comp[\"conf=0.50\"], width, label=\"conf=0.50\")\n",
        "ax.bar(x, df_val_comp[f\"conf={best_conf_global:.2f}\"], width, label=f\"Óptimo ({best_conf_global:.2f})\")\n",
        "ax.bar(x + width, df_val_comp[f\"conf>{0.50} (mejor={best_conf_high:.2f})\"], width, label=f\"Óptimo >0.5 ({best_conf_high:.2f})\")\n",
        "\n",
        "ax.set_ylabel(\"Valor Métrico\")\n",
        "ax.set_title(\"Comparación de Thresholds en Validación\")\n",
        "ax.set_xticks(x)\n",
        "ax.set_xticklabels(labels)\n",
        "ax.legend()\n",
        "ax.grid(axis=\"y\")\n",
        "\n",
        "fig.tight_layout()\n",
        "plot_path = os.path.join(val_results_dir, \"val_threshold_comparison.png\")\n",
        "plt.savefig(plot_path)\n",
        "plt.show()\n",
        "print(f\"📈 Gráfico guardado en: {plot_path}\")\n"
      ],
      "metadata": {
        "colab": {
          "base_uri": "https://localhost:8080/",
          "height": 1000
        },
        "id": "ffYoMOaRyPTM",
        "outputId": "cbcf6314-b6dd-440a-866e-8a104323fb49"
      },
      "execution_count": 5,
      "outputs": [
        {
          "output_type": "stream",
          "name": "stdout",
          "text": [
            "Ultralytics 8.3.110 🚀 Python-3.11.12 torch-2.6.0+cu124 CUDA:0 (NVIDIA A100-SXM4-40GB, 40507MiB)\n",
            "Model summary (fused): 72 layers, 11,125,971 parameters, 0 gradients, 28.4 GFLOPs\n",
            "\u001b[34m\u001b[1mval: \u001b[0mFast image access ✅ (ping: 0.0±0.0 ms, read: 1757.8±697.9 MB/s, size: 58.1 KB)\n"
          ]
        },
        {
          "output_type": "stream",
          "name": "stderr",
          "text": [
            "\u001b[34m\u001b[1mval: \u001b[0mScanning /content/export_yolov8v72_1_vs_5/valid/labels.cache... 774 images, 645 backgrounds, 0 corrupt: 100%|██████████| 774/774 [00:00<?, ?it/s]\n",
            "                 Class     Images  Instances      Box(P          R      mAP50  mAP50-95): 100%|██████████| 49/49 [00:02<00:00, 19.19it/s]\n"
          ]
        },
        {
          "output_type": "stream",
          "name": "stdout",
          "text": [
            "                   all        774        144      0.909      0.764       0.84      0.584\n",
            "Speed: 0.5ms preprocess, 1.4ms inference, 0.0ms loss, 0.2ms postprocess per image\n",
            "Results saved to \u001b[1mruns/detect/val26\u001b[0m\n",
            "Ultralytics 8.3.110 🚀 Python-3.11.12 torch-2.6.0+cu124 CUDA:0 (NVIDIA A100-SXM4-40GB, 40507MiB)\n",
            "\u001b[34m\u001b[1mval: \u001b[0mFast image access ✅ (ping: 0.0±0.0 ms, read: 1008.4±408.4 MB/s, size: 31.1 KB)\n"
          ]
        },
        {
          "output_type": "stream",
          "name": "stderr",
          "text": [
            "\u001b[34m\u001b[1mval: \u001b[0mScanning /content/export_yolov8v72_1_vs_5/valid/labels.cache... 774 images, 645 backgrounds, 0 corrupt: 100%|██████████| 774/774 [00:00<?, ?it/s]\n",
            "                 Class     Images  Instances      Box(P          R      mAP50  mAP50-95): 100%|██████████| 49/49 [00:02<00:00, 16.81it/s]\n"
          ]
        },
        {
          "output_type": "stream",
          "name": "stdout",
          "text": [
            "                   all        774        144        0.9      0.875      0.901      0.604\n",
            "Speed: 0.5ms preprocess, 1.8ms inference, 0.0ms loss, 0.2ms postprocess per image\n",
            "Results saved to \u001b[1mruns/detect/val27\u001b[0m\n",
            "Ultralytics 8.3.110 🚀 Python-3.11.12 torch-2.6.0+cu124 CUDA:0 (NVIDIA A100-SXM4-40GB, 40507MiB)\n",
            "\u001b[34m\u001b[1mval: \u001b[0mFast image access ✅ (ping: 0.0±0.0 ms, read: 770.2±339.7 MB/s, size: 26.5 KB)\n"
          ]
        },
        {
          "output_type": "stream",
          "name": "stderr",
          "text": [
            "\u001b[34m\u001b[1mval: \u001b[0mScanning /content/export_yolov8v72_1_vs_5/valid/labels.cache... 774 images, 645 backgrounds, 0 corrupt: 100%|██████████| 774/774 [00:00<?, ?it/s]\n",
            "                 Class     Images  Instances      Box(P          R      mAP50  mAP50-95): 100%|██████████| 49/49 [00:02<00:00, 19.52it/s]\n"
          ]
        },
        {
          "output_type": "stream",
          "name": "stdout",
          "text": [
            "                   all        774        144        0.9      0.875      0.887      0.599\n",
            "Speed: 0.5ms preprocess, 1.4ms inference, 0.0ms loss, 0.2ms postprocess per image\n",
            "Results saved to \u001b[1mruns/detect/val28\u001b[0m\n",
            "Ultralytics 8.3.110 🚀 Python-3.11.12 torch-2.6.0+cu124 CUDA:0 (NVIDIA A100-SXM4-40GB, 40507MiB)\n",
            "\u001b[34m\u001b[1mval: \u001b[0mFast image access ✅ (ping: 0.0±0.0 ms, read: 1156.8±909.6 MB/s, size: 49.5 KB)\n"
          ]
        },
        {
          "output_type": "stream",
          "name": "stderr",
          "text": [
            "\u001b[34m\u001b[1mval: \u001b[0mScanning /content/export_yolov8v72_1_vs_5/valid/labels.cache... 774 images, 645 backgrounds, 0 corrupt: 100%|██████████| 774/774 [00:00<?, ?it/s]\n",
            "                 Class     Images  Instances      Box(P          R      mAP50  mAP50-95): 100%|██████████| 49/49 [00:02<00:00, 18.62it/s]\n"
          ]
        },
        {
          "output_type": "stream",
          "name": "stdout",
          "text": [
            "                   all        774        144        0.9      0.875       0.89      0.604\n",
            "Speed: 0.6ms preprocess, 1.3ms inference, 0.0ms loss, 0.2ms postprocess per image\n",
            "Results saved to \u001b[1mruns/detect/val29\u001b[0m\n",
            "Ultralytics 8.3.110 🚀 Python-3.11.12 torch-2.6.0+cu124 CUDA:0 (NVIDIA A100-SXM4-40GB, 40507MiB)\n",
            "\u001b[34m\u001b[1mval: \u001b[0mFast image access ✅ (ping: 0.0±0.0 ms, read: 1297.7±854.3 MB/s, size: 60.4 KB)\n"
          ]
        },
        {
          "output_type": "stream",
          "name": "stderr",
          "text": [
            "\u001b[34m\u001b[1mval: \u001b[0mScanning /content/export_yolov8v72_1_vs_5/valid/labels.cache... 774 images, 645 backgrounds, 0 corrupt: 100%|██████████| 774/774 [00:00<?, ?it/s]\n",
            "                 Class     Images  Instances      Box(P          R      mAP50  mAP50-95): 100%|██████████| 49/49 [00:02<00:00, 19.10it/s]\n"
          ]
        },
        {
          "output_type": "stream",
          "name": "stdout",
          "text": [
            "                   all        774        144        0.9      0.875      0.891      0.604\n",
            "Speed: 0.6ms preprocess, 1.3ms inference, 0.0ms loss, 0.3ms postprocess per image\n",
            "Results saved to \u001b[1mruns/detect/val30\u001b[0m\n",
            "Ultralytics 8.3.110 🚀 Python-3.11.12 torch-2.6.0+cu124 CUDA:0 (NVIDIA A100-SXM4-40GB, 40507MiB)\n",
            "\u001b[34m\u001b[1mval: \u001b[0mFast image access ✅ (ping: 0.0±0.0 ms, read: 1347.7±731.4 MB/s, size: 39.8 KB)\n"
          ]
        },
        {
          "output_type": "stream",
          "name": "stderr",
          "text": [
            "\u001b[34m\u001b[1mval: \u001b[0mScanning /content/export_yolov8v72_1_vs_5/valid/labels.cache... 774 images, 645 backgrounds, 0 corrupt: 100%|██████████| 774/774 [00:00<?, ?it/s]\n",
            "                 Class     Images  Instances      Box(P          R      mAP50  mAP50-95): 100%|██████████| 49/49 [00:02<00:00, 19.20it/s]\n"
          ]
        },
        {
          "output_type": "stream",
          "name": "stdout",
          "text": [
            "                   all        774        144      0.912      0.861      0.885      0.602\n",
            "Speed: 0.4ms preprocess, 1.3ms inference, 0.0ms loss, 0.2ms postprocess per image\n",
            "Results saved to \u001b[1mruns/detect/val31\u001b[0m\n",
            "Ultralytics 8.3.110 🚀 Python-3.11.12 torch-2.6.0+cu124 CUDA:0 (NVIDIA A100-SXM4-40GB, 40507MiB)\n",
            "\u001b[34m\u001b[1mval: \u001b[0mFast image access ✅ (ping: 0.0±0.0 ms, read: 921.7±462.2 MB/s, size: 24.6 KB)\n"
          ]
        },
        {
          "output_type": "stream",
          "name": "stderr",
          "text": [
            "\u001b[34m\u001b[1mval: \u001b[0mScanning /content/export_yolov8v72_1_vs_5/valid/labels.cache... 774 images, 645 backgrounds, 0 corrupt: 100%|██████████| 774/774 [00:00<?, ?it/s]\n",
            "                 Class     Images  Instances      Box(P          R      mAP50  mAP50-95): 100%|██████████| 49/49 [00:02<00:00, 18.69it/s]\n"
          ]
        },
        {
          "output_type": "stream",
          "name": "stdout",
          "text": [
            "                   all        774        144       0.91       0.84      0.876      0.598\n",
            "Speed: 0.5ms preprocess, 1.5ms inference, 0.0ms loss, 0.2ms postprocess per image\n",
            "Results saved to \u001b[1mruns/detect/val32\u001b[0m\n",
            "Ultralytics 8.3.110 🚀 Python-3.11.12 torch-2.6.0+cu124 CUDA:0 (NVIDIA A100-SXM4-40GB, 40507MiB)\n",
            "\u001b[34m\u001b[1mval: \u001b[0mFast image access ✅ (ping: 0.0±0.0 ms, read: 1214.3±872.9 MB/s, size: 34.5 KB)\n"
          ]
        },
        {
          "output_type": "stream",
          "name": "stderr",
          "text": [
            "\u001b[34m\u001b[1mval: \u001b[0mScanning /content/export_yolov8v72_1_vs_5/valid/labels.cache... 774 images, 645 backgrounds, 0 corrupt: 100%|██████████| 774/774 [00:00<?, ?it/s]\n",
            "                 Class     Images  Instances      Box(P          R      mAP50  mAP50-95): 100%|██████████| 49/49 [00:02<00:00, 18.70it/s]\n"
          ]
        },
        {
          "output_type": "stream",
          "name": "stdout",
          "text": [
            "                   all        774        144      0.916      0.833      0.873      0.597\n",
            "Speed: 0.4ms preprocess, 1.5ms inference, 0.0ms loss, 0.2ms postprocess per image\n",
            "Results saved to \u001b[1mruns/detect/val33\u001b[0m\n",
            "Ultralytics 8.3.110 🚀 Python-3.11.12 torch-2.6.0+cu124 CUDA:0 (NVIDIA A100-SXM4-40GB, 40507MiB)\n",
            "\u001b[34m\u001b[1mval: \u001b[0mFast image access ✅ (ping: 0.0±0.0 ms, read: 1145.0±345.9 MB/s, size: 28.9 KB)\n"
          ]
        },
        {
          "output_type": "stream",
          "name": "stderr",
          "text": [
            "\u001b[34m\u001b[1mval: \u001b[0mScanning /content/export_yolov8v72_1_vs_5/valid/labels.cache... 774 images, 645 backgrounds, 0 corrupt: 100%|██████████| 774/774 [00:00<?, ?it/s]\n",
            "                 Class     Images  Instances      Box(P          R      mAP50  mAP50-95): 100%|██████████| 49/49 [00:02<00:00, 18.85it/s]\n"
          ]
        },
        {
          "output_type": "stream",
          "name": "stdout",
          "text": [
            "                   all        774        144      0.915      0.826       0.87      0.595\n",
            "Speed: 0.5ms preprocess, 1.4ms inference, 0.0ms loss, 0.2ms postprocess per image\n",
            "Results saved to \u001b[1mruns/detect/val34\u001b[0m\n",
            "Ultralytics 8.3.110 🚀 Python-3.11.12 torch-2.6.0+cu124 CUDA:0 (NVIDIA A100-SXM4-40GB, 40507MiB)\n",
            "\u001b[34m\u001b[1mval: \u001b[0mFast image access ✅ (ping: 0.0±0.0 ms, read: 672.1±405.8 MB/s, size: 30.3 KB)\n"
          ]
        },
        {
          "output_type": "stream",
          "name": "stderr",
          "text": [
            "\u001b[34m\u001b[1mval: \u001b[0mScanning /content/export_yolov8v72_1_vs_5/valid/labels.cache... 774 images, 645 backgrounds, 0 corrupt: 100%|██████████| 774/774 [00:00<?, ?it/s]\n",
            "                 Class     Images  Instances      Box(P          R      mAP50  mAP50-95): 100%|██████████| 49/49 [00:02<00:00, 19.09it/s]\n"
          ]
        },
        {
          "output_type": "stream",
          "name": "stdout",
          "text": [
            "                   all        774        144      0.911      0.778      0.847      0.586\n",
            "Speed: 0.5ms preprocess, 1.4ms inference, 0.0ms loss, 0.2ms postprocess per image\n",
            "Results saved to \u001b[1mruns/detect/val35\u001b[0m\n",
            "Ultralytics 8.3.110 🚀 Python-3.11.12 torch-2.6.0+cu124 CUDA:0 (NVIDIA A100-SXM4-40GB, 40507MiB)\n",
            "\u001b[34m\u001b[1mval: \u001b[0mFast image access ✅ (ping: 0.0±0.0 ms, read: 773.0±537.0 MB/s, size: 38.5 KB)\n"
          ]
        },
        {
          "output_type": "stream",
          "name": "stderr",
          "text": [
            "\u001b[34m\u001b[1mval: \u001b[0mScanning /content/export_yolov8v72_1_vs_5/valid/labels.cache... 774 images, 645 backgrounds, 0 corrupt: 100%|██████████| 774/774 [00:00<?, ?it/s]\n",
            "                 Class     Images  Instances      Box(P          R      mAP50  mAP50-95): 100%|██████████| 49/49 [00:02<00:00, 19.15it/s]\n"
          ]
        },
        {
          "output_type": "stream",
          "name": "stdout",
          "text": [
            "                   all        774        144      0.909      0.764       0.84      0.584\n",
            "Speed: 0.5ms preprocess, 1.3ms inference, 0.0ms loss, 0.3ms postprocess per image\n",
            "Results saved to \u001b[1mruns/detect/val36\u001b[0m\n",
            "Ultralytics 8.3.110 🚀 Python-3.11.12 torch-2.6.0+cu124 CUDA:0 (NVIDIA A100-SXM4-40GB, 40507MiB)\n",
            "\u001b[34m\u001b[1mval: \u001b[0mFast image access ✅ (ping: 0.0±0.0 ms, read: 1036.1±518.3 MB/s, size: 41.8 KB)\n"
          ]
        },
        {
          "output_type": "stream",
          "name": "stderr",
          "text": [
            "\u001b[34m\u001b[1mval: \u001b[0mScanning /content/export_yolov8v72_1_vs_5/valid/labels.cache... 774 images, 645 backgrounds, 0 corrupt: 100%|██████████| 774/774 [00:00<?, ?it/s]\n",
            "                 Class     Images  Instances      Box(P          R      mAP50  mAP50-95): 100%|██████████| 49/49 [00:02<00:00, 19.30it/s]\n"
          ]
        },
        {
          "output_type": "stream",
          "name": "stdout",
          "text": [
            "                   all        774        144      0.908       0.75      0.834       0.58\n",
            "Speed: 0.5ms preprocess, 1.2ms inference, 0.0ms loss, 0.2ms postprocess per image\n",
            "Results saved to \u001b[1mruns/detect/val37\u001b[0m\n",
            "Ultralytics 8.3.110 🚀 Python-3.11.12 torch-2.6.0+cu124 CUDA:0 (NVIDIA A100-SXM4-40GB, 40507MiB)\n",
            "\u001b[34m\u001b[1mval: \u001b[0mFast image access ✅ (ping: 0.0±0.0 ms, read: 910.4±407.1 MB/s, size: 34.9 KB)\n"
          ]
        },
        {
          "output_type": "stream",
          "name": "stderr",
          "text": [
            "\u001b[34m\u001b[1mval: \u001b[0mScanning /content/export_yolov8v72_1_vs_5/valid/labels.cache... 774 images, 645 backgrounds, 0 corrupt: 100%|██████████| 774/774 [00:00<?, ?it/s]\n",
            "                 Class     Images  Instances      Box(P          R      mAP50  mAP50-95): 100%|██████████| 49/49 [00:02<00:00, 18.71it/s]\n"
          ]
        },
        {
          "output_type": "stream",
          "name": "stdout",
          "text": [
            "                   all        774        144      0.906      0.736      0.827      0.575\n",
            "Speed: 0.5ms preprocess, 1.4ms inference, 0.0ms loss, 0.2ms postprocess per image\n",
            "Results saved to \u001b[1mruns/detect/val38\u001b[0m\n",
            "Ultralytics 8.3.110 🚀 Python-3.11.12 torch-2.6.0+cu124 CUDA:0 (NVIDIA A100-SXM4-40GB, 40507MiB)\n",
            "\u001b[34m\u001b[1mval: \u001b[0mFast image access ✅ (ping: 0.0±0.0 ms, read: 941.7±160.9 MB/s, size: 27.5 KB)\n"
          ]
        },
        {
          "output_type": "stream",
          "name": "stderr",
          "text": [
            "\u001b[34m\u001b[1mval: \u001b[0mScanning /content/export_yolov8v72_1_vs_5/valid/labels.cache... 774 images, 645 backgrounds, 0 corrupt: 100%|██████████| 774/774 [00:00<?, ?it/s]\n",
            "                 Class     Images  Instances      Box(P          R      mAP50  mAP50-95): 100%|██████████| 49/49 [00:02<00:00, 19.65it/s]\n"
          ]
        },
        {
          "output_type": "stream",
          "name": "stdout",
          "text": [
            "                   all        774        144      0.912      0.722      0.821      0.571\n",
            "Speed: 0.5ms preprocess, 1.4ms inference, 0.0ms loss, 0.2ms postprocess per image\n",
            "Results saved to \u001b[1mruns/detect/val39\u001b[0m\n",
            "Ultralytics 8.3.110 🚀 Python-3.11.12 torch-2.6.0+cu124 CUDA:0 (NVIDIA A100-SXM4-40GB, 40507MiB)\n",
            "\u001b[34m\u001b[1mval: \u001b[0mFast image access ✅ (ping: 0.0±0.0 ms, read: 1810.1±898.5 MB/s, size: 55.5 KB)\n"
          ]
        },
        {
          "output_type": "stream",
          "name": "stderr",
          "text": [
            "\u001b[34m\u001b[1mval: \u001b[0mScanning /content/export_yolov8v72_1_vs_5/valid/labels.cache... 774 images, 645 backgrounds, 0 corrupt: 100%|██████████| 774/774 [00:00<?, ?it/s]\n",
            "                 Class     Images  Instances      Box(P          R      mAP50  mAP50-95): 100%|██████████| 49/49 [00:02<00:00, 19.36it/s]\n"
          ]
        },
        {
          "output_type": "stream",
          "name": "stdout",
          "text": [
            "                   all        774        144      0.908      0.688      0.805      0.566\n",
            "Speed: 0.5ms preprocess, 1.4ms inference, 0.0ms loss, 0.2ms postprocess per image\n",
            "Results saved to \u001b[1mruns/detect/val40\u001b[0m\n",
            "Ultralytics 8.3.110 🚀 Python-3.11.12 torch-2.6.0+cu124 CUDA:0 (NVIDIA A100-SXM4-40GB, 40507MiB)\n",
            "\u001b[34m\u001b[1mval: \u001b[0mFast image access ✅ (ping: 0.0±0.0 ms, read: 982.8±609.5 MB/s, size: 35.4 KB)\n"
          ]
        },
        {
          "output_type": "stream",
          "name": "stderr",
          "text": [
            "\u001b[34m\u001b[1mval: \u001b[0mScanning /content/export_yolov8v72_1_vs_5/valid/labels.cache... 774 images, 645 backgrounds, 0 corrupt: 100%|██████████| 774/774 [00:00<?, ?it/s]\n",
            "                 Class     Images  Instances      Box(P          R      mAP50  mAP50-95): 100%|██████████| 49/49 [00:02<00:00, 19.77it/s]\n"
          ]
        },
        {
          "output_type": "stream",
          "name": "stdout",
          "text": [
            "                   all        774        144      0.924       0.59      0.761      0.545\n",
            "Speed: 0.5ms preprocess, 1.3ms inference, 0.0ms loss, 0.2ms postprocess per image\n",
            "Results saved to \u001b[1mruns/detect/val41\u001b[0m\n",
            "Ultralytics 8.3.110 🚀 Python-3.11.12 torch-2.6.0+cu124 CUDA:0 (NVIDIA A100-SXM4-40GB, 40507MiB)\n",
            "\u001b[34m\u001b[1mval: \u001b[0mFast image access ✅ (ping: 0.0±0.0 ms, read: 928.2±410.5 MB/s, size: 41.2 KB)\n"
          ]
        },
        {
          "output_type": "stream",
          "name": "stderr",
          "text": [
            "\u001b[34m\u001b[1mval: \u001b[0mScanning /content/export_yolov8v72_1_vs_5/valid/labels.cache... 774 images, 645 backgrounds, 0 corrupt: 100%|██████████| 774/774 [00:00<?, ?it/s]\n",
            "                 Class     Images  Instances      Box(P          R      mAP50  mAP50-95): 100%|██████████| 49/49 [00:02<00:00, 20.77it/s]\n"
          ]
        },
        {
          "output_type": "stream",
          "name": "stdout",
          "text": [
            "                   all        774        144      0.979      0.319      0.649      0.499\n",
            "Speed: 0.5ms preprocess, 1.4ms inference, 0.0ms loss, 0.1ms postprocess per image\n",
            "Results saved to \u001b[1mruns/detect/val42\u001b[0m\n",
            "Ultralytics 8.3.110 🚀 Python-3.11.12 torch-2.6.0+cu124 CUDA:0 (NVIDIA A100-SXM4-40GB, 40507MiB)\n",
            "\u001b[34m\u001b[1mval: \u001b[0mFast image access ✅ (ping: 0.0±0.0 ms, read: 1383.3±906.0 MB/s, size: 60.1 KB)\n"
          ]
        },
        {
          "output_type": "stream",
          "name": "stderr",
          "text": [
            "\u001b[34m\u001b[1mval: \u001b[0mScanning /content/export_yolov8v72_1_vs_5/valid/labels.cache... 774 images, 645 backgrounds, 0 corrupt: 100%|██████████| 774/774 [00:00<?, ?it/s]\n",
            "                 Class     Images  Instances      Box(P          R      mAP50  mAP50-95): 100%|██████████| 49/49 [00:02<00:00, 20.88it/s]\n"
          ]
        },
        {
          "output_type": "stream",
          "name": "stdout",
          "text": [
            "                   all        774        144          1     0.0486      0.524      0.396\n",
            "Speed: 0.6ms preprocess, 1.5ms inference, 0.0ms loss, 0.1ms postprocess per image\n",
            "Results saved to \u001b[1mruns/detect/val43\u001b[0m\n",
            "Ultralytics 8.3.110 🚀 Python-3.11.12 torch-2.6.0+cu124 CUDA:0 (NVIDIA A100-SXM4-40GB, 40507MiB)\n",
            "\u001b[34m\u001b[1mval: \u001b[0mFast image access ✅ (ping: 0.0±0.0 ms, read: 743.9±265.1 MB/s, size: 15.9 KB)\n"
          ]
        },
        {
          "output_type": "stream",
          "name": "stderr",
          "text": [
            "\u001b[34m\u001b[1mval: \u001b[0mScanning /content/export_yolov8v72_1_vs_5/valid/labels.cache... 774 images, 645 backgrounds, 0 corrupt: 100%|██████████| 774/774 [00:00<?, ?it/s]\n",
            "                 Class     Images  Instances      Box(P          R      mAP50  mAP50-95): 100%|██████████| 49/49 [00:02<00:00, 21.56it/s]\n"
          ]
        },
        {
          "output_type": "stream",
          "name": "stdout",
          "text": [
            "                   all        774        144          0          0          0          0\n",
            "Speed: 0.8ms preprocess, 1.4ms inference, 0.0ms loss, 0.1ms postprocess per image\n",
            "Results saved to \u001b[1mruns/detect/val44\u001b[0m\n",
            "Ultralytics 8.3.110 🚀 Python-3.11.12 torch-2.6.0+cu124 CUDA:0 (NVIDIA A100-SXM4-40GB, 40507MiB)\n",
            "\u001b[34m\u001b[1mval: \u001b[0mFast image access ✅ (ping: 0.0±0.0 ms, read: 1004.4±575.0 MB/s, size: 33.3 KB)\n"
          ]
        },
        {
          "output_type": "stream",
          "name": "stderr",
          "text": [
            "\u001b[34m\u001b[1mval: \u001b[0mScanning /content/export_yolov8v72_1_vs_5/valid/labels.cache... 774 images, 645 backgrounds, 0 corrupt: 100%|██████████| 774/774 [00:00<?, ?it/s]\n",
            "                 Class     Images  Instances      Box(P          R      mAP50  mAP50-95): 100%|██████████| 49/49 [00:02<00:00, 21.83it/s]\n"
          ]
        },
        {
          "output_type": "stream",
          "name": "stdout",
          "text": [
            "                   all        774        144          0          0          0          0\n",
            "Speed: 0.8ms preprocess, 1.3ms inference, 0.0ms loss, 0.1ms postprocess per image\n",
            "Results saved to \u001b[1mruns/detect/val45\u001b[0m\n",
            "📄 Comparación guardada en: /content/threshold_analysis_val2/val_threshold_comparison.txt\n",
            "📝 Markdown guardado en: /content/threshold_analysis_val2/val_threshold_comparison.md\n"
          ]
        },
        {
          "output_type": "display_data",
          "data": {
            "text/plain": [
              "<Figure size 1000x600 with 1 Axes>"
            ],
            "image/png": "[encoded data removed]"
          },
          "metadata": {}
        },
        {
          "output_type": "stream",
          "name": "stdout",
          "text": [
            "📈 Gráfico guardado en: /content/threshold_analysis_val2/val_threshold_comparison.png\n"
          ]
        }
      ]
    },
    {
      "cell_type": "markdown",
      "source": [
        "guardar valid"
      ],
      "metadata": {
        "id": "bWT3WkO3caz3"
      }
    },
    {
      "cell_type": "code",
      "source": [
        "# 10. Guardar los resultados del experimento\n",
        "\n",
        "# Define la carpeta de destino en Google Drive\n",
        "dest_folder = \"/content/drive/MyDrive/AWS.v72_seals100i.yolov8/resulta_1vs_5_lr0,0001/val\"\n",
        "!mkdir -p \"{dest_folder}\"                                                           #El comando mkdir -p crea esa carpeta (y cualquier subcarpeta necesaria) si no existe.\n",
        "\n",
        "# Copia la carpeta de resultados (ajusta el nombre según el que se haya generado)\n",
        "!cp -r /content/threshold_analysis_val2 \"{dest_folder}/\"   #copiar los reultados del modelo en drive\n",
        "\n",
        "\n",
        "# Comprueba que se copiaron los archivos (opcional)\n",
        "!ls \"{dest_folder}\"                                                                 #verifica que los archivos se han copiado correctamente\n",
        "\n",
        "# Opcional: comprimir la carpeta de resultados para descargarla a tu PC\n",
        "#!zip -r /content/seals_2025/focas_prueba_snow.zip \"{dest_folder}/focas_prueba_snow\"   #Aquí se comprime la carpeta que acabas de copiar en Drive (la subcarpeta focas_training_prueba1_640_24_02_25 dentro de foquitas) en un archivo ZIP llamado foquitas.zip que se guarda en /content (la carpeta principal del entorno de Colab).\n",
        "\n",
        "# Descargar el archivo ZIP a tu PC\n",
        "#from google.colab import files\n",
        "#files.download('/content/seals_2025/focas_prueba_snow.zip')"
      ],
      "metadata": {
        "colab": {
          "base_uri": "https://localhost:8080/"
        },
        "id": "eP30tHWQ4QDB",
        "outputId": "b7577c59-d5c2-421c-9cd8-4424e3a236f9"
      },
      "execution_count": 9,
      "outputs": [
        {
          "output_type": "stream",
          "name": "stdout",
          "text": [
            "threshold_analysis_val2\n"
          ]
        }
      ]
    },
    {
      "cell_type": "markdown",
      "source": [
        "test general de yolo"
      ],
      "metadata": {
        "id": "Zev1Iya2cYot"
      }
    },
    {
      "cell_type": "code",
      "source": [
        "from ultralytics import YOLO\n",
        "\n",
        "# 1. Cargar el modelo entrenado\n",
        "model = YOLO(\"/content/v72_prop1vs5_pruebesitabebe3/seals/weights/best.pt\")\n",
        "\n",
        "# 2. Ejecutar la evaluación sobre el conjunto de test\n",
        "dataset_yaml = \"/content/export_yolov8v72_1_vs_5/data.yaml\"\n",
        "\n",
        "results = model.val(data=dataset_yaml, split=\"test\", conf=0.6, iou=0.50)\n",
        "\n",
        "# 3. Mostrar las métricas principales\n",
        "metrics = results.box  # Métricas de bounding boxes\n",
        "\n",
        "print(f\"mAP50:      {metrics.map50:.4f}\")\n",
        "print(f\"mAP50-95:   {metrics.map:.4f}\")\n",
        "print(f\"Precisión:  {metrics.mp:.4f}\")\n",
        "print(f\"Recall:     {metrics.mr:.4f}\")\n",
        "\n",
        "# === TEST POR CLASE ===\n",
        "# Definir el diccionario de nombres de clase (ajusta según corresponda)\n",
        "names = {0: 'hole', 1: 'seal'}\n",
        "# results.box.maps es un array con el mAP (mAP@0.5:0.95) por cada clase\n",
        "class_maps = metrics.maps\n",
        "\n",
        "print(\"\\n=== TEST POR CLASE ===\")\n",
        "for cls_map, name in zip(class_maps, names.values()):\n",
        "    print(f\"{name}: mAP50-95 = {cls_map:.4f}\")\n",
        "\n",
        "\n",
        "\n",
        "\n"
      ],
      "metadata": {
        "colab": {
          "base_uri": "https://localhost:8080/"
        },
        "id": "QuDPannc5HnY",
        "outputId": "66c38737-39dc-446c-8d4a-5253083d6bac"
      },
      "execution_count": 17,
      "outputs": [
        {
          "output_type": "stream",
          "name": "stdout",
          "text": [
            "Ultralytics 8.3.107 🚀 Python-3.11.12 torch-2.6.0+cu124 CUDA:0 (NVIDIA A100-SXM4-40GB, 40507MiB)\n",
            "Model summary (fused): 72 layers, 11,125,971 parameters, 0 gradients, 28.4 GFLOPs\n"
          ]
        },
        {
          "output_type": "stream",
          "name": "stderr",
          "text": [
            "\u001b[34m\u001b[1mval: \u001b[0mScanning /content/export_yolov8v72_1_vs_5/test/labels.cache... 492 images, 410 backgrounds, 0 corrupt: 100%|██████████| 492/492 [00:00<?, ?it/s]\n",
            "                 Class     Images  Instances      Box(P          R      mAP50  mAP50-95): 100%|██████████| 31/31 [00:01<00:00, 15.83it/s]\n"
          ]
        },
        {
          "output_type": "stream",
          "name": "stdout",
          "text": [
            "                   all        492         89      0.961      0.551      0.749      0.473\n",
            "Speed: 0.8ms preprocess, 1.3ms inference, 0.0ms loss, 0.2ms postprocess per image\n",
            "Results saved to \u001b[1mruns/detect/val26\u001b[0m\n",
            "mAP50:      0.7490\n",
            "mAP50-95:   0.4732\n",
            "Precisión:  0.9608\n",
            "Recall:     0.5506\n",
            "\n",
            "=== TEST POR CLASE ===\n",
            "hole: mAP50-95 = 0.4732\n"
          ]
        }
      ]
    },
    {
      "cell_type": "markdown",
      "source": [
        "guardar test"
      ],
      "metadata": {
        "id": "K3g4TrS8cWtM"
      }
    },
    {
      "cell_type": "code",
      "source": [],
      "metadata": {
        "id": "vytkkAJMuNtu"
      },
      "execution_count": null,
      "outputs": []
    },
    {
      "cell_type": "code",
      "execution_count": 11,
      "metadata": {
        "id": "VHI4ybuPzGax",
        "colab": {
          "base_uri": "https://localhost:8080/"
        },
        "outputId": "3bebe3f4-bf5b-426c-ad38-6b2914fe763d"
      },
      "outputs": [
        {
          "output_type": "stream",
          "name": "stdout",
          "text": [
            "threshold_analysis_test_final\n"
          ]
        }
      ],
      "source": [
        "# 10. Guardar los resultados del experimento\n",
        "\n",
        "# Define la carpeta de destino en Google Drive\n",
        "dest_folder = \"/content/drive/MyDrive/AWS.v72_seals100i.yolov8/resulta_1vs_5_lr0,0001/testupdated\"\n",
        "!mkdir -p \"{dest_folder}\"                                                           #El comando mkdir -p crea esa carpeta (y cualquier subcarpeta necesaria) si no existe.\n",
        "\n",
        "# Copia la carpeta de resultados (ajusta el nombre según el que se haya generado)\n",
        "!cp -r /content/threshold_analysis_test_final \"{dest_folder}/\"   #copiar los reultados del modelo en drive\n",
        "\n",
        "\n",
        "# Comprueba que se copiaron los archivos (opcional)\n",
        "!ls \"{dest_folder}\"                                                                 #verifica que los archivos se han copiado correctamente\n",
        "\n",
        "# Opcional: comprimir la carpeta de resultados para descargarla a tu PC\n",
        "#!zip -r /content/seals_2025/focas_prueba_snow.zip \"{dest_folder}/focas_prueba_snow\"   #Aquí se comprime la carpeta que acabas de copiar en Drive (la subcarpeta focas_training_prueba1_640_24_02_25 dentro de foquitas) en un archivo ZIP llamado foquitas.zip que se guarda en /content (la carpeta principal del entorno de Colab).\n",
        "\n",
        "# Descargar el archivo ZIP a tu PC\n",
        "#from google.colab import files\n",
        "#files.download('/content/seals_2025/focas_prueba_snow.zip')                                             #Este comando abre una ventana de descarga para que puedas bajar el archivo ZIP a tu ordenador."
      ]
    },
    {
      "cell_type": "markdown",
      "source": [
        "graficas mejora proceso test"
      ],
      "metadata": {
        "id": "FmBP-fU_wcU4"
      }
    },
    {
      "cell_type": "code",
      "source": [
        "from ultralytics import YOLO\n",
        "import os\n",
        "import numpy as np\n",
        "import pandas as pd\n",
        "import matplotlib.pyplot as plt\n",
        "\n",
        "# === 1. Parámetros y configuración ===\n",
        "model = YOLO(\"/content/dataset/resulta_1vs_5_lr0,0001/train/seals/weights/best.pt\")\n",
        "dataset_yaml = \"/content/export_yolov8v72_1_vs_5/data.yaml\"\n",
        "\n",
        "# Thresholds obtenidos en validación\n",
        "best_conf_global = 0.20      # ← cámbialo por tu valor real\n",
        "best_conf_high = 0.65        # ← cámbialo por tu valor real > 0.5\n",
        "\n",
        "# Carpeta para guardar resultados\n",
        "test_results_dir = \"/content/threshold_analysis_test_final\"\n",
        "os.makedirs(test_results_dir, exist_ok=True)\n",
        "\n",
        "# === 2. Evaluación con conf = 0.50 ===\n",
        "res_05 = model.val(data=dataset_yaml, split=\"test\", conf=0.5, iou=0.5, verbose=False)\n",
        "p_05, r_05, map50_05, map95_05 = res_05.box.mean_results()\n",
        "f1_05 = 2 * p_05 * r_05 / (p_05 + r_05) if p_05 + r_05 > 0 else 0\n",
        "\n",
        "# === 3. Evaluación con best_conf_global ===\n",
        "res_global = model.val(data=dataset_yaml, split=\"test\", conf=best_conf_global, iou=0.5, verbose=False)\n",
        "p_g, r_g, map50_g, map95_g = res_global.box.mean_results()\n",
        "f1_g = 2 * p_g * r_g / (p_g + r_g) if p_g + r_g > 0 else 0\n",
        "\n",
        "# === 4. Evaluación con best_conf_high ===\n",
        "res_high = model.val(data=dataset_yaml, split=\"test\", conf=best_conf_high, iou=0.5, verbose=False)\n",
        "p_h, r_h, map50_h, map95_h = res_high.box.mean_results()\n",
        "f1_h = 2 * p_h * r_h / (p_h + r_h) if p_h + r_h > 0 else 0\n",
        "\n",
        "# === 5. Crear DataFrame comparativo\n",
        "comp_data = {\n",
        "    \"Métrica\": [\"Precision\", \"Recall\", \"F1-score\", \"mAP@0.5\", \"mAP@0.5:0.95\"],\n",
        "    \"conf=0.50\": [p_05, r_05, f1_05, map50_05, map95_05],\n",
        "    f\"conf={best_conf_global:.2f}\": [p_g, r_g, f1_g, map50_g, map95_g],\n",
        "    f\"conf>{0.50} (mejor={best_conf_high:.2f})\": [p_h, r_h, f1_h, map50_h, map95_h]\n",
        "}\n",
        "df_test_comp = pd.DataFrame(comp_data)\n",
        "\n",
        "# === 6. Guardar .txt\n",
        "txt_path = os.path.join(test_results_dir, \"test_threshold_comparison_3thresholds.txt\")\n",
        "with open(txt_path, \"w\") as f:\n",
        "    f.write(\"=== COMPARACIÓN DE 3 THRESHOLDS EN TEST ===\\n\")\n",
        "    f.write(f\"{'Métrica':<15} | {'conf=0.50':^12} | {'Óptimo global':^16} | {'Óptimo > 0.5':^18}\\n\")\n",
        "    f.write(\"-\" * 65 + \"\\n\")\n",
        "    for i in range(len(df_test_comp)):\n",
        "        m = df_test_comp.loc[i, \"Métrica\"]\n",
        "        v1 = df_test_comp.loc[i, \"conf=0.50\"]\n",
        "        v2 = df_test_comp.loc[i, f\"conf={best_conf_global:.2f}\"]\n",
        "        v3 = df_test_comp.loc[i, f\"conf>{0.50} (mejor={best_conf_high:.2f})\"]\n",
        "        f.write(f\"{m:<15} | {v1:.4f}      | {v2:.4f}           | {v3:.4f}\\n\")\n",
        "print(f\"📄 Tabla comparativa guardada en: {txt_path}\")\n",
        "\n",
        "# === 7. Guardar .csv\n",
        "csv_path = os.path.join(test_results_dir, \"test_threshold_comparison_3thresholds.csv\")\n",
        "df_test_comp.to_csv(csv_path, index=False)\n",
        "\n",
        "# === 8. Guardar .md (Markdown)\n",
        "md_path = os.path.join(test_results_dir, \"test_threshold_comparison_3thresholds.md\")\n",
        "with open(md_path, \"w\") as f:\n",
        "    f.write(f\"| Métrica       | conf = 0.50 | Óptimo global ({best_conf_global:.2f}) | Óptimo > 0.5 ({best_conf_high:.2f}) |\\n\")\n",
        "    f.write(f\"|---------------|--------------|----------------------|-------------------------|\\n\")\n",
        "    for i in range(len(df_test_comp)):\n",
        "        m = df_test_comp.loc[i, \"Métrica\"]\n",
        "        v1 = df_test_comp.loc[i, \"conf=0.50\"]\n",
        "        v2 = df_test_comp.loc[i, f\"conf={best_conf_global:.2f}\"]\n",
        "        v3 = df_test_comp.loc[i, f\"conf>{0.50} (mejor={best_conf_high:.2f})\"]\n",
        "        f.write(f\"| {m:<13} | {v1:.4f}       | {v2:.4f}               | {v3:.4f}                  |\\n\")\n",
        "print(f\"📝 Markdown guardado en: {md_path}\")\n",
        "\n",
        "# === 9. Gráfico de barras\n",
        "labels = df_test_comp[\"Métrica\"]\n",
        "x = np.arange(len(labels))\n",
        "width = 0.25\n",
        "\n",
        "fig, ax = plt.subplots(figsize=(10, 6))\n",
        "ax.bar(x - width, df_test_comp[\"conf=0.50\"], width, label=\"conf=0.50\")\n",
        "ax.bar(x, df_test_comp[f\"conf={best_conf_global:.2f}\"], width, label=f\"Óptimo ({best_conf_global:.2f})\")\n",
        "ax.bar(x + width, df_test_comp[f\"conf>{0.50} (mejor={best_conf_high:.2f})\"], width, label=f\"Óptimo >0.5 ({best_conf_high:.2f})\")\n",
        "\n",
        "ax.set_ylabel(\"Valor Métrico\")\n",
        "ax.set_title(\"Comparación de Thresholds en TEST\")\n",
        "ax.set_xticks(x)\n",
        "ax.set_xticklabels(labels)\n",
        "ax.legend()\n",
        "ax.grid(axis=\"y\")\n",
        "\n",
        "fig.tight_layout()\n",
        "plot_path = os.path.join(test_results_dir, \"test_threshold_comparison_3thresholds.png\")\n",
        "plt.savefig(plot_path)\n",
        "plt.show()\n",
        "print(f\"📈 Gráfico guardado en: {plot_path}\")\n"
      ],
      "metadata": {
        "colab": {
          "base_uri": "https://localhost:8080/",
          "height": 1000
        },
        "id": "LDWqALGK0PFE",
        "outputId": "a85c1828-d921-4606-ab72-9cd1bd1cd843"
      },
      "execution_count": 8,
      "outputs": [
        {
          "output_type": "stream",
          "name": "stdout",
          "text": [
            "Ultralytics 8.3.110 🚀 Python-3.11.12 torch-2.6.0+cu124 CUDA:0 (NVIDIA A100-SXM4-40GB, 40507MiB)\n",
            "Model summary (fused): 72 layers, 11,125,971 parameters, 0 gradients, 28.4 GFLOPs\n",
            "\u001b[34m\u001b[1mval: \u001b[0mFast image access ✅ (ping: 0.0±0.0 ms, read: 1912.1±491.6 MB/s, size: 73.2 KB)\n"
          ]
        },
        {
          "output_type": "stream",
          "name": "stderr",
          "text": [
            "\u001b[34m\u001b[1mval: \u001b[0mScanning /content/export_yolov8v72_1_vs_5/test/labels.cache... 492 images, 410 backgrounds, 0 corrupt: 100%|██████████| 492/492 [00:00<?, ?it/s]\n",
            "                 Class     Images  Instances      Box(P          R      mAP50  mAP50-95): 100%|██████████| 31/31 [00:02<00:00, 15.41it/s]\n"
          ]
        },
        {
          "output_type": "stream",
          "name": "stdout",
          "text": [
            "                   all        492         89      0.985      0.753      0.874      0.593\n",
            "Speed: 0.7ms preprocess, 1.3ms inference, 0.0ms loss, 0.3ms postprocess per image\n",
            "Results saved to \u001b[1mruns/detect/val49\u001b[0m\n",
            "Ultralytics 8.3.110 🚀 Python-3.11.12 torch-2.6.0+cu124 CUDA:0 (NVIDIA A100-SXM4-40GB, 40507MiB)\n",
            "\u001b[34m\u001b[1mval: \u001b[0mFast image access ✅ (ping: 0.0±0.0 ms, read: 1418.3±479.4 MB/s, size: 80.3 KB)\n"
          ]
        },
        {
          "output_type": "stream",
          "name": "stderr",
          "text": [
            "\u001b[34m\u001b[1mval: \u001b[0mScanning /content/export_yolov8v72_1_vs_5/test/labels.cache... 492 images, 410 backgrounds, 0 corrupt: 100%|██████████| 492/492 [00:00<?, ?it/s]\n",
            "                 Class     Images  Instances      Box(P          R      mAP50  mAP50-95): 100%|██████████| 31/31 [00:02<00:00, 15.43it/s]\n"
          ]
        },
        {
          "output_type": "stream",
          "name": "stdout",
          "text": [
            "                   all        492         89      0.916      0.854      0.914      0.602\n",
            "Speed: 0.7ms preprocess, 1.5ms inference, 0.0ms loss, 0.3ms postprocess per image\n",
            "Results saved to \u001b[1mruns/detect/val50\u001b[0m\n",
            "Ultralytics 8.3.110 🚀 Python-3.11.12 torch-2.6.0+cu124 CUDA:0 (NVIDIA A100-SXM4-40GB, 40507MiB)\n",
            "\u001b[34m\u001b[1mval: \u001b[0mFast image access ✅ (ping: 0.0±0.0 ms, read: 1592.1±925.1 MB/s, size: 56.7 KB)\n"
          ]
        },
        {
          "output_type": "stream",
          "name": "stderr",
          "text": [
            "\u001b[34m\u001b[1mval: \u001b[0mScanning /content/export_yolov8v72_1_vs_5/test/labels.cache... 492 images, 410 backgrounds, 0 corrupt: 100%|██████████| 492/492 [00:00<?, ?it/s]\n",
            "                 Class     Images  Instances      Box(P          R      mAP50  mAP50-95): 100%|██████████| 31/31 [00:01<00:00, 16.24it/s]\n"
          ]
        },
        {
          "output_type": "stream",
          "name": "stdout",
          "text": [
            "                   all        492         89          1      0.685      0.843      0.579\n",
            "Speed: 0.7ms preprocess, 1.4ms inference, 0.0ms loss, 0.2ms postprocess per image\n",
            "Results saved to \u001b[1mruns/detect/val51\u001b[0m\n",
            "📄 Tabla comparativa guardada en: /content/threshold_analysis_test_final/test_threshold_comparison_3thresholds.txt\n",
            "📝 Markdown guardado en: /content/threshold_analysis_test_final/test_threshold_comparison_3thresholds.md\n"
          ]
        },
        {
          "output_type": "display_data",
          "data": {
            "text/plain": [
              "<Figure size 1000x600 with 1 Axes>"
            ],
            "image/png": "[encoded data removed]"
          },
          "metadata": {}
        },
        {
          "output_type": "stream",
          "name": "stdout",
          "text": [
            "📈 Gráfico guardado en: /content/threshold_analysis_test_final/test_threshold_comparison_3thresholds.png\n"
          ]
        }
      ]
    },
    {
      "cell_type": "markdown",
      "source": [
        "test para sacar clases"
      ],
      "metadata": {
        "id": "agn7VWybcVED"
      }
    },
    {
      "cell_type": "code",
      "source": [
        "from ultralytics import YOLO\n",
        "import matplotlib.pyplot as plt\n",
        "\n",
        "# === 1. Cargar el modelo entrenado ===\n",
        "model = YOLO(\"/content/v72_prop1vs5_pruebesitabebe3/seals/weights/best.pt\")\n",
        "\n",
        "# === 2. Definir ruta del dataset con división de test ===\n",
        "dataset_yaml = \"/content/export_yolov8v72_1_vs_5/data.yaml\"  # Debe tener la división 'test' definida\n",
        "\n",
        "# === 3. Evaluar el modelo sobre el conjunto de test ===\n",
        "print(\"=== MÉTRICAS GENERALES SOBRE TEST ===\")\n",
        "results = model.val(data=dataset_yaml, split=\"test\", conf=0.5, iou=0.50)  # Ajusta conf e iou si lo necesitas\n",
        "\n",
        "# === 4. Métricas globales ===\n",
        "# Accedemos directamente a los atributos en lugar de llamarlos como funciones\n",
        "print(f\"Precision promedio: {results.box.mp:.4f}\")\n",
        "print(f\"Recall promedio: {results.box.mr:.4f}\")\n",
        "print(f\"mAP@0.5: {results.box.map50:.4f}\")\n",
        "print(f\"mAP@0.5:0.95: {results.box.map:.4f}\")\n",
        "\n",
        "# === 5. Métricas por clase ===\n",
        "print(\"\\n=== MÉTRICAS POR CLASE EN TEST ===\")\n",
        "# Define manualmente el diccionario de nombres de clase (ajusta según corresponda)\n",
        "names = {0: 'hole', 1: 'seal'}\n",
        "# results.box.maps es un array con el mAP (mAP@0.5:0.95) por cada clase\n",
        "class_maps = results.box.maps\n",
        "for cls_map, name in zip(class_maps, names.values()):\n",
        "    print(f\"{name}: mAP50-95 = {cls_map:.4f}\")\n",
        "\n",
        "# === 6. Curva de métricas según confidence threshold ===\n",
        "conf_values = [round(i * 0.05, 2) for i in range(1, 20)]  # De 0.05 a 0.95\n",
        "precisions = []\n",
        "recalls = []\n",
        "maps50 = []\n",
        "maps_val = []\n",
        "\n",
        "print(\"\\n=== CURVA DE MÉTRICAS SEGÚN CONFIDENCE (TEST) ===\")\n",
        "for conf in conf_values:\n",
        "    print(f\"Evaluando con conf = {conf}\")\n",
        "    res = model.val(data=dataset_yaml, split=\"test\", conf=conf, iou=0.5, verbose=False)\n",
        "    # Accedemos directamente a los atributos\n",
        "    precisions.append(res.box.mp)\n",
        "    recalls.append(res.box.mr)\n",
        "    maps50.append(res.box.map50)\n",
        "    maps_val.append(res.box.map)\n",
        "\n",
        "# === 7. Graficar ===\n",
        "plt.figure(figsize=(10, 6))\n",
        "plt.plot(conf_values, precisions, label=\"Precision\")\n",
        "plt.plot(conf_values, recalls, label=\"Recall\")\n",
        "plt.plot(conf_values, maps50, label=\"mAP@0.5\")\n",
        "plt.plot(conf_values, maps_val, label=\"mAP@0.5:0.95\")\n",
        "plt.xlabel(\"Confidence Threshold\")\n",
        "plt.ylabel(\"Metric Value\")\n",
        "plt.title(\"Efecto del Threshold de Confianza en las Métricas (Test)\")\n",
        "plt.legend()\n",
        "plt.grid(True)\n",
        "plt.tight_layout()\n",
        "plt.show()\n"
      ],
      "metadata": {
        "colab": {
          "base_uri": "https://localhost:8080/",
          "height": 1000
        },
        "id": "xgT1gmcH7X2E",
        "outputId": "358e3192-6cc5-4694-f426-14bf64f29112"
      },
      "execution_count": 18,
      "outputs": [
        {
          "output_type": "stream",
          "name": "stdout",
          "text": [
            "=== MÉTRICAS GENERALES SOBRE TEST ===\n",
            "Ultralytics 8.3.107 🚀 Python-3.11.12 torch-2.6.0+cu124 CUDA:0 (NVIDIA A100-SXM4-40GB, 40507MiB)\n",
            "Model summary (fused): 72 layers, 11,125,971 parameters, 0 gradients, 28.4 GFLOPs\n"
          ]
        },
        {
          "output_type": "stream",
          "name": "stderr",
          "text": [
            "\u001b[34m\u001b[1mval: \u001b[0mScanning /content/export_yolov8v72_1_vs_5/test/labels.cache... 492 images, 410 backgrounds, 0 corrupt: 100%|██████████| 492/492 [00:00<?, ?it/s]\n",
            "                 Class     Images  Instances      Box(P          R      mAP50  mAP50-95): 100%|██████████| 31/31 [00:01<00:00, 15.74it/s]\n"
          ]
        },
        {
          "output_type": "stream",
          "name": "stdout",
          "text": [
            "                   all        492         89      0.937      0.663      0.797      0.493\n",
            "Speed: 0.6ms preprocess, 1.3ms inference, 0.0ms loss, 0.5ms postprocess per image\n",
            "Results saved to \u001b[1mruns/detect/val27\u001b[0m\n",
            "Precision promedio: 0.9365\n",
            "Recall promedio: 0.6629\n",
            "mAP@0.5: 0.7965\n",
            "mAP@0.5:0.95: 0.4929\n",
            "\n",
            "=== MÉTRICAS POR CLASE EN TEST ===\n",
            "hole: mAP50-95 = 0.4929\n",
            "\n",
            "=== CURVA DE MÉTRICAS SEGÚN CONFIDENCE (TEST) ===\n",
            "Evaluando con conf = 0.05\n",
            "Ultralytics 8.3.107 🚀 Python-3.11.12 torch-2.6.0+cu124 CUDA:0 (NVIDIA A100-SXM4-40GB, 40507MiB)\n"
          ]
        },
        {
          "output_type": "stream",
          "name": "stderr",
          "text": [
            "\u001b[34m\u001b[1mval: \u001b[0mScanning /content/export_yolov8v72_1_vs_5/test/labels.cache... 492 images, 410 backgrounds, 0 corrupt: 100%|██████████| 492/492 [00:00<?, ?it/s]\n",
            "                 Class     Images  Instances      Box(P          R      mAP50  mAP50-95): 100%|██████████| 31/31 [00:02<00:00, 14.92it/s]\n"
          ]
        },
        {
          "output_type": "stream",
          "name": "stdout",
          "text": [
            "                   all        492         89      0.848      0.876      0.878      0.532\n",
            "Speed: 0.7ms preprocess, 1.4ms inference, 0.0ms loss, 0.3ms postprocess per image\n",
            "Results saved to \u001b[1mruns/detect/val28\u001b[0m\n",
            "Evaluando con conf = 0.1\n",
            "Ultralytics 8.3.107 🚀 Python-3.11.12 torch-2.6.0+cu124 CUDA:0 (NVIDIA A100-SXM4-40GB, 40507MiB)\n"
          ]
        },
        {
          "output_type": "stream",
          "name": "stderr",
          "text": [
            "\u001b[34m\u001b[1mval: \u001b[0mScanning /content/export_yolov8v72_1_vs_5/test/labels.cache... 492 images, 410 backgrounds, 0 corrupt: 100%|██████████| 492/492 [00:00<?, ?it/s]\n",
            "                 Class     Images  Instances      Box(P          R      mAP50  mAP50-95): 100%|██████████| 31/31 [00:02<00:00, 15.18it/s]\n"
          ]
        },
        {
          "output_type": "stream",
          "name": "stdout",
          "text": [
            "                   all        492         89      0.856      0.865      0.874       0.53\n",
            "Speed: 0.7ms preprocess, 1.5ms inference, 0.0ms loss, 0.2ms postprocess per image\n",
            "Results saved to \u001b[1mruns/detect/val29\u001b[0m\n",
            "Evaluando con conf = 0.15\n",
            "Ultralytics 8.3.107 🚀 Python-3.11.12 torch-2.6.0+cu124 CUDA:0 (NVIDIA A100-SXM4-40GB, 40507MiB)\n"
          ]
        },
        {
          "output_type": "stream",
          "name": "stderr",
          "text": [
            "\u001b[34m\u001b[1mval: \u001b[0mScanning /content/export_yolov8v72_1_vs_5/test/labels.cache... 492 images, 410 backgrounds, 0 corrupt: 100%|██████████| 492/492 [00:00<?, ?it/s]\n",
            "                 Class     Images  Instances      Box(P          R      mAP50  mAP50-95): 100%|██████████| 31/31 [00:02<00:00, 14.94it/s]\n"
          ]
        },
        {
          "output_type": "stream",
          "name": "stdout",
          "text": [
            "                   all        492         89      0.862      0.843      0.864      0.525\n",
            "Speed: 0.7ms preprocess, 1.4ms inference, 0.0ms loss, 0.3ms postprocess per image\n",
            "Results saved to \u001b[1mruns/detect/val30\u001b[0m\n",
            "Evaluando con conf = 0.2\n",
            "Ultralytics 8.3.107 🚀 Python-3.11.12 torch-2.6.0+cu124 CUDA:0 (NVIDIA A100-SXM4-40GB, 40507MiB)\n"
          ]
        },
        {
          "output_type": "stream",
          "name": "stderr",
          "text": [
            "\u001b[34m\u001b[1mval: \u001b[0mScanning /content/export_yolov8v72_1_vs_5/test/labels.cache... 492 images, 410 backgrounds, 0 corrupt: 100%|██████████| 492/492 [00:00<?, ?it/s]\n",
            "                 Class     Images  Instances      Box(P          R      mAP50  mAP50-95): 100%|██████████| 31/31 [00:02<00:00, 14.71it/s]\n"
          ]
        },
        {
          "output_type": "stream",
          "name": "stdout",
          "text": [
            "                   all        492         89       0.86      0.831      0.859      0.525\n",
            "Speed: 0.7ms preprocess, 1.3ms inference, 0.0ms loss, 0.3ms postprocess per image\n",
            "Results saved to \u001b[1mruns/detect/val31\u001b[0m\n",
            "Evaluando con conf = 0.25\n",
            "Ultralytics 8.3.107 🚀 Python-3.11.12 torch-2.6.0+cu124 CUDA:0 (NVIDIA A100-SXM4-40GB, 40507MiB)\n"
          ]
        },
        {
          "output_type": "stream",
          "name": "stderr",
          "text": [
            "\u001b[34m\u001b[1mval: \u001b[0mScanning /content/export_yolov8v72_1_vs_5/test/labels.cache... 492 images, 410 backgrounds, 0 corrupt: 100%|██████████| 492/492 [00:00<?, ?it/s]\n",
            "                 Class     Images  Instances      Box(P          R      mAP50  mAP50-95): 100%|██████████| 31/31 [00:02<00:00, 14.95it/s]\n"
          ]
        },
        {
          "output_type": "stream",
          "name": "stdout",
          "text": [
            "                   all        492         89      0.859       0.82      0.854      0.523\n",
            "Speed: 0.7ms preprocess, 1.4ms inference, 0.0ms loss, 0.3ms postprocess per image\n",
            "Results saved to \u001b[1mruns/detect/val32\u001b[0m\n",
            "Evaluando con conf = 0.3\n",
            "Ultralytics 8.3.107 🚀 Python-3.11.12 torch-2.6.0+cu124 CUDA:0 (NVIDIA A100-SXM4-40GB, 40507MiB)\n"
          ]
        },
        {
          "output_type": "stream",
          "name": "stderr",
          "text": [
            "\u001b[34m\u001b[1mval: \u001b[0mScanning /content/export_yolov8v72_1_vs_5/test/labels.cache... 492 images, 410 backgrounds, 0 corrupt: 100%|██████████| 492/492 [00:00<?, ?it/s]\n",
            "                 Class     Images  Instances      Box(P          R      mAP50  mAP50-95): 100%|██████████| 31/31 [00:02<00:00, 14.88it/s]\n"
          ]
        },
        {
          "output_type": "stream",
          "name": "stdout",
          "text": [
            "                   all        492         89      0.855      0.798      0.844       0.52\n",
            "Speed: 0.8ms preprocess, 1.5ms inference, 0.0ms loss, 0.3ms postprocess per image\n",
            "Results saved to \u001b[1mruns/detect/val33\u001b[0m\n",
            "Evaluando con conf = 0.35\n",
            "Ultralytics 8.3.107 🚀 Python-3.11.12 torch-2.6.0+cu124 CUDA:0 (NVIDIA A100-SXM4-40GB, 40507MiB)\n"
          ]
        },
        {
          "output_type": "stream",
          "name": "stderr",
          "text": [
            "\u001b[34m\u001b[1mval: \u001b[0mScanning /content/export_yolov8v72_1_vs_5/test/labels.cache... 492 images, 410 backgrounds, 0 corrupt: 100%|██████████| 492/492 [00:00<?, ?it/s]\n",
            "                 Class     Images  Instances      Box(P          R      mAP50  mAP50-95): 100%|██████████| 31/31 [00:02<00:00, 15.31it/s]\n"
          ]
        },
        {
          "output_type": "stream",
          "name": "stdout",
          "text": [
            "                   all        492         89      0.859      0.753      0.825      0.508\n",
            "Speed: 0.7ms preprocess, 1.4ms inference, 0.0ms loss, 0.3ms postprocess per image\n",
            "Results saved to \u001b[1mruns/detect/val34\u001b[0m\n",
            "Evaluando con conf = 0.4\n",
            "Ultralytics 8.3.107 🚀 Python-3.11.12 torch-2.6.0+cu124 CUDA:0 (NVIDIA A100-SXM4-40GB, 40507MiB)\n"
          ]
        },
        {
          "output_type": "stream",
          "name": "stderr",
          "text": [
            "\u001b[34m\u001b[1mval: \u001b[0mScanning /content/export_yolov8v72_1_vs_5/test/labels.cache... 492 images, 410 backgrounds, 0 corrupt: 100%|██████████| 492/492 [00:00<?, ?it/s]\n",
            "                 Class     Images  Instances      Box(P          R      mAP50  mAP50-95): 100%|██████████| 31/31 [00:02<00:00, 14.84it/s]\n"
          ]
        },
        {
          "output_type": "stream",
          "name": "stdout",
          "text": [
            "                   all        492         89      0.917      0.685      0.801      0.497\n",
            "Speed: 0.8ms preprocess, 1.4ms inference, 0.0ms loss, 0.2ms postprocess per image\n",
            "Results saved to \u001b[1mruns/detect/val35\u001b[0m\n",
            "Evaluando con conf = 0.45\n",
            "Ultralytics 8.3.107 🚀 Python-3.11.12 torch-2.6.0+cu124 CUDA:0 (NVIDIA A100-SXM4-40GB, 40507MiB)\n"
          ]
        },
        {
          "output_type": "stream",
          "name": "stderr",
          "text": [
            "\u001b[34m\u001b[1mval: \u001b[0mScanning /content/export_yolov8v72_1_vs_5/test/labels.cache... 492 images, 410 backgrounds, 0 corrupt: 100%|██████████| 492/492 [00:00<?, ?it/s]\n",
            "                 Class     Images  Instances      Box(P          R      mAP50  mAP50-95): 100%|██████████| 31/31 [00:02<00:00, 15.14it/s]\n"
          ]
        },
        {
          "output_type": "stream",
          "name": "stdout",
          "text": [
            "                   all        492         89      0.912      0.697      0.808      0.499\n",
            "Speed: 0.8ms preprocess, 1.5ms inference, 0.0ms loss, 0.3ms postprocess per image\n",
            "Results saved to \u001b[1mruns/detect/val36\u001b[0m\n",
            "Evaluando con conf = 0.5\n",
            "Ultralytics 8.3.107 🚀 Python-3.11.12 torch-2.6.0+cu124 CUDA:0 (NVIDIA A100-SXM4-40GB, 40507MiB)\n"
          ]
        },
        {
          "output_type": "stream",
          "name": "stderr",
          "text": [
            "\u001b[34m\u001b[1mval: \u001b[0mScanning /content/export_yolov8v72_1_vs_5/test/labels.cache... 492 images, 410 backgrounds, 0 corrupt: 100%|██████████| 492/492 [00:00<?, ?it/s]\n",
            "                 Class     Images  Instances      Box(P          R      mAP50  mAP50-95): 100%|██████████| 31/31 [00:01<00:00, 15.60it/s]\n"
          ]
        },
        {
          "output_type": "stream",
          "name": "stdout",
          "text": [
            "                   all        492         89      0.937      0.663      0.797      0.493\n",
            "Speed: 0.8ms preprocess, 1.4ms inference, 0.0ms loss, 0.3ms postprocess per image\n",
            "Results saved to \u001b[1mruns/detect/val37\u001b[0m\n",
            "Evaluando con conf = 0.55\n",
            "Ultralytics 8.3.107 🚀 Python-3.11.12 torch-2.6.0+cu124 CUDA:0 (NVIDIA A100-SXM4-40GB, 40507MiB)\n"
          ]
        },
        {
          "output_type": "stream",
          "name": "stderr",
          "text": [
            "\u001b[34m\u001b[1mval: \u001b[0mScanning /content/export_yolov8v72_1_vs_5/test/labels.cache... 492 images, 410 backgrounds, 0 corrupt: 100%|██████████| 492/492 [00:00<?, ?it/s]\n",
            "                 Class     Images  Instances      Box(P          R      mAP50  mAP50-95): 100%|██████████| 31/31 [00:02<00:00, 15.15it/s]\n"
          ]
        },
        {
          "output_type": "stream",
          "name": "stdout",
          "text": [
            "                   all        492         89      0.931      0.607      0.769      0.482\n",
            "Speed: 0.7ms preprocess, 1.5ms inference, 0.0ms loss, 0.2ms postprocess per image\n",
            "Results saved to \u001b[1mruns/detect/val38\u001b[0m\n",
            "Evaluando con conf = 0.6\n",
            "Ultralytics 8.3.107 🚀 Python-3.11.12 torch-2.6.0+cu124 CUDA:0 (NVIDIA A100-SXM4-40GB, 40507MiB)\n"
          ]
        },
        {
          "output_type": "stream",
          "name": "stderr",
          "text": [
            "\u001b[34m\u001b[1mval: \u001b[0mScanning /content/export_yolov8v72_1_vs_5/test/labels.cache... 492 images, 410 backgrounds, 0 corrupt: 100%|██████████| 492/492 [00:00<?, ?it/s]\n",
            "                 Class     Images  Instances      Box(P          R      mAP50  mAP50-95): 100%|██████████| 31/31 [00:01<00:00, 16.13it/s]\n"
          ]
        },
        {
          "output_type": "stream",
          "name": "stdout",
          "text": [
            "                   all        492         89      0.961      0.551      0.749      0.473\n",
            "Speed: 0.8ms preprocess, 1.4ms inference, 0.0ms loss, 0.2ms postprocess per image\n",
            "Results saved to \u001b[1mruns/detect/val39\u001b[0m\n",
            "Evaluando con conf = 0.65\n",
            "Ultralytics 8.3.107 🚀 Python-3.11.12 torch-2.6.0+cu124 CUDA:0 (NVIDIA A100-SXM4-40GB, 40507MiB)\n"
          ]
        },
        {
          "output_type": "stream",
          "name": "stderr",
          "text": [
            "\u001b[34m\u001b[1mval: \u001b[0mScanning /content/export_yolov8v72_1_vs_5/test/labels.cache... 492 images, 410 backgrounds, 0 corrupt: 100%|██████████| 492/492 [00:00<?, ?it/s]\n",
            "                 Class     Images  Instances      Box(P          R      mAP50  mAP50-95): 100%|██████████| 31/31 [00:01<00:00, 16.24it/s]\n"
          ]
        },
        {
          "output_type": "stream",
          "name": "stdout",
          "text": [
            "                   all        492         89      0.939      0.348       0.64      0.424\n",
            "Speed: 0.7ms preprocess, 1.4ms inference, 0.0ms loss, 0.2ms postprocess per image\n",
            "Results saved to \u001b[1mruns/detect/val40\u001b[0m\n",
            "Evaluando con conf = 0.7\n",
            "Ultralytics 8.3.107 🚀 Python-3.11.12 torch-2.6.0+cu124 CUDA:0 (NVIDIA A100-SXM4-40GB, 40507MiB)\n"
          ]
        },
        {
          "output_type": "stream",
          "name": "stderr",
          "text": [
            "\u001b[34m\u001b[1mval: \u001b[0mScanning /content/export_yolov8v72_1_vs_5/test/labels.cache... 492 images, 410 backgrounds, 0 corrupt: 100%|██████████| 492/492 [00:00<?, ?it/s]\n",
            "                 Class     Images  Instances      Box(P          R      mAP50  mAP50-95): 100%|██████████| 31/31 [00:01<00:00, 16.97it/s]\n"
          ]
        },
        {
          "output_type": "stream",
          "name": "stdout",
          "text": [
            "                   all        492         89        0.9      0.101      0.506      0.365\n",
            "Speed: 0.8ms preprocess, 1.5ms inference, 0.0ms loss, 0.2ms postprocess per image\n",
            "Results saved to \u001b[1mruns/detect/val41\u001b[0m\n",
            "Evaluando con conf = 0.75\n",
            "Ultralytics 8.3.107 🚀 Python-3.11.12 torch-2.6.0+cu124 CUDA:0 (NVIDIA A100-SXM4-40GB, 40507MiB)\n"
          ]
        },
        {
          "output_type": "stream",
          "name": "stderr",
          "text": [
            "\u001b[34m\u001b[1mval: \u001b[0mScanning /content/export_yolov8v72_1_vs_5/test/labels.cache... 492 images, 410 backgrounds, 0 corrupt: 100%|██████████| 492/492 [00:00<?, ?it/s]\n",
            "                 Class     Images  Instances      Box(P          R      mAP50  mAP50-95): 100%|██████████| 31/31 [00:01<00:00, 17.00it/s]\n"
          ]
        },
        {
          "output_type": "stream",
          "name": "stdout",
          "text": [
            "                   all        492         89          0          0          0          0\n",
            "Speed: 1.2ms preprocess, 1.6ms inference, 0.0ms loss, 0.1ms postprocess per image\n",
            "Results saved to \u001b[1mruns/detect/val42\u001b[0m\n",
            "Evaluando con conf = 0.8\n",
            "Ultralytics 8.3.107 🚀 Python-3.11.12 torch-2.6.0+cu124 CUDA:0 (NVIDIA A100-SXM4-40GB, 40507MiB)\n"
          ]
        },
        {
          "output_type": "stream",
          "name": "stderr",
          "text": [
            "\u001b[34m\u001b[1mval: \u001b[0mScanning /content/export_yolov8v72_1_vs_5/test/labels.cache... 492 images, 410 backgrounds, 0 corrupt: 100%|██████████| 492/492 [00:00<?, ?it/s]\n",
            "                 Class     Images  Instances      Box(P          R      mAP50  mAP50-95): 100%|██████████| 31/31 [00:01<00:00, 16.48it/s]\n"
          ]
        },
        {
          "output_type": "stream",
          "name": "stdout",
          "text": [
            "                   all        492         89          0          0          0          0\n",
            "Speed: 1.1ms preprocess, 1.6ms inference, 0.0ms loss, 0.1ms postprocess per image\n",
            "Results saved to \u001b[1mruns/detect/val43\u001b[0m\n",
            "Evaluando con conf = 0.85\n",
            "Ultralytics 8.3.107 🚀 Python-3.11.12 torch-2.6.0+cu124 CUDA:0 (NVIDIA A100-SXM4-40GB, 40507MiB)\n"
          ]
        },
        {
          "output_type": "stream",
          "name": "stderr",
          "text": [
            "\u001b[34m\u001b[1mval: \u001b[0mScanning /content/export_yolov8v72_1_vs_5/test/labels.cache... 492 images, 410 backgrounds, 0 corrupt: 100%|██████████| 492/492 [00:00<?, ?it/s]\n",
            "                 Class     Images  Instances      Box(P          R      mAP50  mAP50-95): 100%|██████████| 31/31 [00:01<00:00, 16.54it/s]\n"
          ]
        },
        {
          "output_type": "stream",
          "name": "stdout",
          "text": [
            "                   all        492         89          0          0          0          0\n",
            "Speed: 1.1ms preprocess, 1.4ms inference, 0.0ms loss, 0.1ms postprocess per image\n",
            "Results saved to \u001b[1mruns/detect/val44\u001b[0m\n",
            "Evaluando con conf = 0.9\n",
            "Ultralytics 8.3.107 🚀 Python-3.11.12 torch-2.6.0+cu124 CUDA:0 (NVIDIA A100-SXM4-40GB, 40507MiB)\n"
          ]
        },
        {
          "output_type": "stream",
          "name": "stderr",
          "text": [
            "\u001b[34m\u001b[1mval: \u001b[0mScanning /content/export_yolov8v72_1_vs_5/test/labels.cache... 492 images, 410 backgrounds, 0 corrupt: 100%|██████████| 492/492 [00:00<?, ?it/s]\n",
            "                 Class     Images  Instances      Box(P          R      mAP50  mAP50-95): 100%|██████████| 31/31 [00:01<00:00, 17.12it/s]\n"
          ]
        },
        {
          "output_type": "stream",
          "name": "stdout",
          "text": [
            "                   all        492         89          0          0          0          0\n",
            "Speed: 1.0ms preprocess, 1.5ms inference, 0.0ms loss, 0.2ms postprocess per image\n",
            "Results saved to \u001b[1mruns/detect/val45\u001b[0m\n",
            "Evaluando con conf = 0.95\n",
            "Ultralytics 8.3.107 🚀 Python-3.11.12 torch-2.6.0+cu124 CUDA:0 (NVIDIA A100-SXM4-40GB, 40507MiB)\n"
          ]
        },
        {
          "output_type": "stream",
          "name": "stderr",
          "text": [
            "\u001b[34m\u001b[1mval: \u001b[0mScanning /content/export_yolov8v72_1_vs_5/test/labels.cache... 492 images, 410 backgrounds, 0 corrupt: 100%|██████████| 492/492 [00:00<?, ?it/s]\n",
            "                 Class     Images  Instances      Box(P          R      mAP50  mAP50-95): 100%|██████████| 31/31 [00:01<00:00, 17.01it/s]\n"
          ]
        },
        {
          "output_type": "stream",
          "name": "stdout",
          "text": [
            "                   all        492         89          0          0          0          0\n",
            "Speed: 1.2ms preprocess, 1.5ms inference, 0.0ms loss, 0.2ms postprocess per image\n",
            "Results saved to \u001b[1mruns/detect/val46\u001b[0m\n"
          ]
        },
        {
          "output_type": "display_data",
          "data": {
            "text/plain": [
              "<Figure size 1000x600 with 1 Axes>"
            ],
            "image/png": "[encoded data removed]"
          },
          "metadata": {}
        }
      ]
    }
  ]
}